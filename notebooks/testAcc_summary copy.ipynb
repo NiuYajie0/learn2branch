{
 "cells": [
  {
   "cell_type": "code",
   "execution_count": 1,
   "source": [
    "import os\n",
    "os.chdir(\"../\")"
   ],
   "outputs": [],
   "metadata": {}
  },
  {
   "cell_type": "code",
   "execution_count": 2,
   "source": [
    "import pandas as pd\n",
    "import glob\n",
    "from scipy.stats import ttest_ind"
   ],
   "outputs": [],
   "metadata": {}
  },
  {
   "cell_type": "code",
   "execution_count": 3,
   "source": [
    "resultDir = 'results'"
   ],
   "outputs": [],
   "metadata": {}
  },
  {
   "cell_type": "code",
   "execution_count": 4,
   "source": [
    "problem = 'cauctions' # choices=['setcover', 'cauctions', 'facilities', 'indset']\n",
    "sampling_Strategies = ['uniform5', 'depthK2']\n",
    "sampling_seeds = [0, 0]\n",
    "metric_columns = ['acc@1','acc@3','acc@5','acc@10']\n"
   ],
   "outputs": [],
   "metadata": {}
  },
  {
   "cell_type": "code",
   "execution_count": 5,
   "source": [
    "samplingStragety1 = sampling_Strategies[0]\n",
    "samplingStragety2 = sampling_Strategies[1]\n",
    "ss1 = sampling_seeds[0]\n",
    "ss2 = sampling_seeds[1]"
   ],
   "outputs": [],
   "metadata": {}
  },
  {
   "cell_type": "code",
   "execution_count": 6,
   "source": [
    "# \n",
    "resultDir = f'results/{problem}/test_branchingAccSB'\n",
    "\n",
    "targetfiles_strategy1 = glob.glob(f\"{resultDir}/{problem}_{samplingStragety1}_ss{ss1}_*\")\n",
    "targetfile1 = targetfiles_strategy1[-1]\n",
    "target_df1 = pd.read_csv(targetfile1)\n",
    "mean1 = target_df1[metric_columns].mean()\n",
    "std1 = target_df1[metric_columns].std()\n",
    "\n",
    "targetfiles_strategy2 = glob.glob(f\"{resultDir}/{problem}_{samplingStragety2}_ss{ss2}_*\")\n",
    "targetfile2 = targetfiles_strategy2[-1]\n",
    "target_df2 = pd.read_csv(targetfile2)\n",
    "mean2 = target_df2[metric_columns].mean()\n",
    "std2 = target_df2[metric_columns].std()\n",
    "\n",
    "t_statistics, p_values = ttest_ind(target_df1[metric_columns], target_df2[metric_columns], equal_var=False)"
   ],
   "outputs": [
    {
     "output_type": "error",
     "ename": "IndexError",
     "evalue": "list index out of range",
     "traceback": [
      "\u001b[0;31m---------------------------------------------------------------------------\u001b[0m",
      "\u001b[0;31mIndexError\u001b[0m                                Traceback (most recent call last)",
      "\u001b[0;32m<ipython-input-6-73a76c6f4773>\u001b[0m in \u001b[0;36m<module>\u001b[0;34m\u001b[0m\n\u001b[1;32m      3\u001b[0m \u001b[0;34m\u001b[0m\u001b[0m\n\u001b[1;32m      4\u001b[0m \u001b[0mtargetfiles_strategy1\u001b[0m \u001b[0;34m=\u001b[0m \u001b[0mglob\u001b[0m\u001b[0;34m.\u001b[0m\u001b[0mglob\u001b[0m\u001b[0;34m(\u001b[0m\u001b[0;34mf\"{resultDir}/{problem}_{samplingStragety1}_ss{ss1}_*\"\u001b[0m\u001b[0;34m)\u001b[0m\u001b[0;34m\u001b[0m\u001b[0;34m\u001b[0m\u001b[0m\n\u001b[0;32m----> 5\u001b[0;31m \u001b[0mtargetfile1\u001b[0m \u001b[0;34m=\u001b[0m \u001b[0mtargetfiles_strategy1\u001b[0m\u001b[0;34m[\u001b[0m\u001b[0;34m-\u001b[0m\u001b[0;36m1\u001b[0m\u001b[0;34m]\u001b[0m\u001b[0;34m\u001b[0m\u001b[0;34m\u001b[0m\u001b[0m\n\u001b[0m\u001b[1;32m      6\u001b[0m \u001b[0mtarget_df1\u001b[0m \u001b[0;34m=\u001b[0m \u001b[0mpd\u001b[0m\u001b[0;34m.\u001b[0m\u001b[0mread_csv\u001b[0m\u001b[0;34m(\u001b[0m\u001b[0mtargetfile1\u001b[0m\u001b[0;34m)\u001b[0m\u001b[0;34m\u001b[0m\u001b[0;34m\u001b[0m\u001b[0m\n\u001b[1;32m      7\u001b[0m \u001b[0mmean1\u001b[0m \u001b[0;34m=\u001b[0m \u001b[0mtarget_df1\u001b[0m\u001b[0;34m[\u001b[0m\u001b[0mmetric_columns\u001b[0m\u001b[0;34m]\u001b[0m\u001b[0;34m.\u001b[0m\u001b[0mmean\u001b[0m\u001b[0;34m(\u001b[0m\u001b[0;34m)\u001b[0m\u001b[0;34m\u001b[0m\u001b[0;34m\u001b[0m\u001b[0m\n",
      "\u001b[0;31mIndexError\u001b[0m: list index out of range"
     ]
    }
   ],
   "metadata": {}
  },
  {
   "cell_type": "code",
   "execution_count": 22,
   "source": [
    "df = pd.DataFrame()\n",
    "df['Problem'] = [problem]*4\n",
    "df['Accuracy level'] = ['acc@1', 'acc@3', 'acc@5', 'acc@10']\n",
    "df[samplingStragety1] = [\"%5.4f ± %5.4f\" % (m*100, s*100) for (m, s) in zip(mean1, std1)]\n",
    "df[samplingStragety2] = [\"%5.4f ± %5.4f\" % (m*100, s*100) for (m, s) in zip(mean2, std2)]\n",
    "df['T-Test t-statistic'] = [\"%5.4f\" % p for p in t_statistics]\n",
    "df['T-Test p-value'] = [\"%5.4f\" % p for p in p_values]\n",
    "df"
   ],
   "outputs": [
    {
     "output_type": "execute_result",
     "data": {
      "text/plain": [
       "    Problem Accuracy level          uniform5           depthK2  \\\n",
       "0  setcover          acc@1  60.5750 ± 1.8868  59.3000 ± 1.2607   \n",
       "1  setcover          acc@3  76.9250 ± 1.7717  76.0750 ± 1.1387   \n",
       "2  setcover          acc@5  85.5000 ± 1.6780  81.7750 ± 0.8656   \n",
       "3  setcover         acc@10  94.8000 ± 1.3119  92.0000 ± 0.9597   \n",
       "\n",
       "  T-Test t-statistic T-Test p-value  \n",
       "0             2.5128         0.0170  \n",
       "1             1.8049         0.0804  \n",
       "2             8.8227         0.0000  \n",
       "3             7.7037         0.0000  "
      ],
      "text/html": [
       "<div>\n",
       "<style scoped>\n",
       "    .dataframe tbody tr th:only-of-type {\n",
       "        vertical-align: middle;\n",
       "    }\n",
       "\n",
       "    .dataframe tbody tr th {\n",
       "        vertical-align: top;\n",
       "    }\n",
       "\n",
       "    .dataframe thead th {\n",
       "        text-align: right;\n",
       "    }\n",
       "</style>\n",
       "<table border=\"1\" class=\"dataframe\">\n",
       "  <thead>\n",
       "    <tr style=\"text-align: right;\">\n",
       "      <th></th>\n",
       "      <th>Problem</th>\n",
       "      <th>Accuracy level</th>\n",
       "      <th>uniform5</th>\n",
       "      <th>depthK2</th>\n",
       "      <th>T-Test t-statistic</th>\n",
       "      <th>T-Test p-value</th>\n",
       "    </tr>\n",
       "  </thead>\n",
       "  <tbody>\n",
       "    <tr>\n",
       "      <th>0</th>\n",
       "      <td>setcover</td>\n",
       "      <td>acc@1</td>\n",
       "      <td>60.5750 ± 1.8868</td>\n",
       "      <td>59.3000 ± 1.2607</td>\n",
       "      <td>2.5128</td>\n",
       "      <td>0.0170</td>\n",
       "    </tr>\n",
       "    <tr>\n",
       "      <th>1</th>\n",
       "      <td>setcover</td>\n",
       "      <td>acc@3</td>\n",
       "      <td>76.9250 ± 1.7717</td>\n",
       "      <td>76.0750 ± 1.1387</td>\n",
       "      <td>1.8049</td>\n",
       "      <td>0.0804</td>\n",
       "    </tr>\n",
       "    <tr>\n",
       "      <th>2</th>\n",
       "      <td>setcover</td>\n",
       "      <td>acc@5</td>\n",
       "      <td>85.5000 ± 1.6780</td>\n",
       "      <td>81.7750 ± 0.8656</td>\n",
       "      <td>8.8227</td>\n",
       "      <td>0.0000</td>\n",
       "    </tr>\n",
       "    <tr>\n",
       "      <th>3</th>\n",
       "      <td>setcover</td>\n",
       "      <td>acc@10</td>\n",
       "      <td>94.8000 ± 1.3119</td>\n",
       "      <td>92.0000 ± 0.9597</td>\n",
       "      <td>7.7037</td>\n",
       "      <td>0.0000</td>\n",
       "    </tr>\n",
       "  </tbody>\n",
       "</table>\n",
       "</div>"
      ]
     },
     "metadata": {},
     "execution_count": 22
    }
   ],
   "metadata": {}
  },
  {
   "cell_type": "code",
   "execution_count": 20,
   "source": [
    "df.to_csv(f'{resultDir}/{problem}/{problem}_TTEST_{samplingStragety1}_vs_{samplingStragety2}.csv', float_format='%.4f')"
   ],
   "outputs": [],
   "metadata": {}
  },
  {
   "cell_type": "code",
   "execution_count": 8,
   "source": [
    "f'{resultDir}/{problem}/{problem}_TTEST_{samplingStragety1}_vs_{samplingStragety2}.csv'"
   ],
   "outputs": [
    {
     "output_type": "execute_result",
     "data": {
      "text/plain": [
       "'results/cauctions/cauctions_TTEST_uniform5_vs_depthK2.csv'"
      ]
     },
     "metadata": {},
     "execution_count": 8
    }
   ],
   "metadata": {}
  }
 ],
 "metadata": {
  "interpreter": {
   "hash": "a2197b5b8e9b471505d2ded00a61d2651dac29e8904a63bed27e0708da5f1381"
  },
  "kernelspec": {
   "name": "python3",
   "display_name": "Python 3.8.5 64-bit ('learn2branch': conda)"
  },
  "language_info": {
   "name": "python",
   "version": "3.8.5",
   "mimetype": "text/x-python",
   "codemirror_mode": {
    "name": "ipython",
    "version": 3
   },
   "pygments_lexer": "ipython3",
   "nbconvert_exporter": "python",
   "file_extension": ".py"
  },
  "orig_nbformat": 2
 },
 "nbformat": 4,
 "nbformat_minor": 2
}