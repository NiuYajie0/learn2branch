{
 "cells": [
  {
   "cell_type": "code",
   "execution_count": 1,
   "metadata": {},
   "outputs": [],
   "source": [
    "import os\n",
    "os.chdir(\"../\")"
   ]
  },
  {
   "cell_type": "code",
   "execution_count": 2,
   "metadata": {},
   "outputs": [],
   "source": [
    "import pandas as pd\n",
    "import glob\n",
    "from scipy.stats import ttest_ind"
   ]
  },
  {
   "cell_type": "code",
   "execution_count": 3,
   "metadata": {},
   "outputs": [],
   "source": [
    "resultDir = 'results'"
   ]
  },
  {
   "cell_type": "code",
   "execution_count": 4,
   "metadata": {},
   "outputs": [],
   "source": [
    "problem = 'cauctions' # choices=['setcover', 'cauctions', 'facilities', 'indset']\n",
    "trainingSetSize = 'small'\n",
    "sampling_Strategies = ['uniform5', 'depthK']\n",
    "sampling_seeds = [0, 0]\n",
    "metric_columns = ['acc@1','acc@3','acc@5','acc@10']\n"
   ]
  },
  {
   "cell_type": "code",
   "execution_count": 5,
   "metadata": {},
   "outputs": [],
   "source": [
    "samplingStragety1 = sampling_Strategies[0]\n",
    "samplingStragety2 = sampling_Strategies[1]\n",
    "ss1 = sampling_seeds[0]\n",
    "ss2 = sampling_seeds[1]"
   ]
  },
  {
   "cell_type": "code",
   "execution_count": 8,
   "metadata": {},
   "outputs": [
    {
     "data": {
      "text/plain": [
       "'results/small/cauctions/test_branchingAccSB'"
      ]
     },
     "execution_count": 8,
     "metadata": {},
     "output_type": "execute_result"
    }
   ],
   "source": [
    "# f\"{resultDir}/{problem}_{samplingStragety1}_ss{ss1}_*\"\n",
    "f'results/{trainingSetSize}/{problem}/test_branchingAccSB'"
   ]
  },
  {
   "cell_type": "code",
   "execution_count": 9,
   "metadata": {},
   "outputs": [],
   "source": [
    "# \n",
    "resultDir = f'results/{trainingSetSize}/{problem}/test_branchingAccSB'\n",
    "\n",
    "targetfiles_strategy1 = glob.glob(f\"{resultDir}/{problem}_{samplingStragety1}_on_{samplingStragety1}_ss{ss1}*\")\n",
    "targetfile1 = targetfiles_strategy1[-1]\n",
    "target_df1 = pd.read_csv(targetfile1)\n",
    "mean1 = target_df1[metric_columns].mean()\n",
    "std1 = target_df1[metric_columns].std()\n",
    "\n",
    "targetfiles_strategy2 = glob.glob(f\"{resultDir}/{problem}_{samplingStragety2}_on_{samplingStragety2}_ss{ss2}*\")\n",
    "targetfile2 = targetfiles_strategy2[-1]\n",
    "target_df2 = pd.read_csv(targetfile2)\n",
    "mean2 = target_df2[metric_columns].mean()\n",
    "std2 = target_df2[metric_columns].std()\n",
    "\n",
    "t_statistics, p_values = ttest_ind(target_df1[metric_columns], target_df2[metric_columns], equal_var=False)"
   ]
  },
  {
   "cell_type": "code",
   "execution_count": 10,
   "metadata": {},
   "outputs": [
    {
     "data": {
      "text/html": [
       "<div>\n",
       "<style scoped>\n",
       "    .dataframe tbody tr th:only-of-type {\n",
       "        vertical-align: middle;\n",
       "    }\n",
       "\n",
       "    .dataframe tbody tr th {\n",
       "        vertical-align: top;\n",
       "    }\n",
       "\n",
       "    .dataframe thead th {\n",
       "        text-align: right;\n",
       "    }\n",
       "</style>\n",
       "<table border=\"1\" class=\"dataframe\">\n",
       "  <thead>\n",
       "    <tr style=\"text-align: right;\">\n",
       "      <th></th>\n",
       "      <th>Problem</th>\n",
       "      <th>Accuracy level</th>\n",
       "      <th>uniform5</th>\n",
       "      <th>depthK</th>\n",
       "      <th>T-Test t-statistic</th>\n",
       "      <th>T-Test p-value</th>\n",
       "    </tr>\n",
       "  </thead>\n",
       "  <tbody>\n",
       "    <tr>\n",
       "      <th>0</th>\n",
       "      <td>cauctions</td>\n",
       "      <td>acc@1</td>\n",
       "      <td>54.3500 ± 1.0144</td>\n",
       "      <td>38.0250 ± 1.8244</td>\n",
       "      <td>34.9754</td>\n",
       "      <td>0.0000</td>\n",
       "    </tr>\n",
       "    <tr>\n",
       "      <th>1</th>\n",
       "      <td>cauctions</td>\n",
       "      <td>acc@3</td>\n",
       "      <td>76.4000 ± 0.9542</td>\n",
       "      <td>64.1000 ± 2.1250</td>\n",
       "      <td>23.6139</td>\n",
       "      <td>0.0000</td>\n",
       "    </tr>\n",
       "    <tr>\n",
       "      <th>2</th>\n",
       "      <td>cauctions</td>\n",
       "      <td>acc@5</td>\n",
       "      <td>86.1750 ± 0.8156</td>\n",
       "      <td>78.0000 ± 1.7547</td>\n",
       "      <td>18.8943</td>\n",
       "      <td>0.0000</td>\n",
       "    </tr>\n",
       "    <tr>\n",
       "      <th>3</th>\n",
       "      <td>cauctions</td>\n",
       "      <td>acc@10</td>\n",
       "      <td>94.7000 ± 0.7504</td>\n",
       "      <td>91.1250 ± 1.1907</td>\n",
       "      <td>11.3595</td>\n",
       "      <td>0.0000</td>\n",
       "    </tr>\n",
       "  </tbody>\n",
       "</table>\n",
       "</div>"
      ],
      "text/plain": [
       "     Problem Accuracy level          uniform5            depthK  \\\n",
       "0  cauctions          acc@1  54.3500 ± 1.0144  38.0250 ± 1.8244   \n",
       "1  cauctions          acc@3  76.4000 ± 0.9542  64.1000 ± 2.1250   \n",
       "2  cauctions          acc@5  86.1750 ± 0.8156  78.0000 ± 1.7547   \n",
       "3  cauctions         acc@10  94.7000 ± 0.7504  91.1250 ± 1.1907   \n",
       "\n",
       "  T-Test t-statistic T-Test p-value  \n",
       "0            34.9754         0.0000  \n",
       "1            23.6139         0.0000  \n",
       "2            18.8943         0.0000  \n",
       "3            11.3595         0.0000  "
      ]
     },
     "execution_count": 10,
     "metadata": {},
     "output_type": "execute_result"
    }
   ],
   "source": [
    "df = pd.DataFrame()\n",
    "df['Problem'] = [problem]*4\n",
    "df['Accuracy level'] = ['acc@1', 'acc@3', 'acc@5', 'acc@10']\n",
    "df[samplingStragety1] = [\"%5.4f ± %5.4f\" % (m*100, s*100) for (m, s) in zip(mean1, std1)]\n",
    "df[samplingStragety2] = [\"%5.4f ± %5.4f\" % (m*100, s*100) for (m, s) in zip(mean2, std2)]\n",
    "df['T-Test t-statistic'] = [\"%5.4f\" % p for p in t_statistics]\n",
    "df['T-Test p-value'] = [\"%5.4f\" % p for p in p_values]\n",
    "df"
   ]
  },
  {
   "cell_type": "code",
   "execution_count": 20,
   "metadata": {},
   "outputs": [],
   "source": [
    "df.to_csv(f'{resultDir}/{problem}/{problem}_TTEST_{samplingStragety1}_vs_{samplingStragety2}.csv', float_format='%.4f')"
   ]
  },
  {
   "cell_type": "code",
   "execution_count": 8,
   "metadata": {},
   "outputs": [
    {
     "data": {
      "text/plain": [
       "'results/cauctions/cauctions_TTEST_uniform5_vs_depthK2.csv'"
      ]
     },
     "execution_count": 8,
     "metadata": {},
     "output_type": "execute_result"
    }
   ],
   "source": [
    "f'{resultDir}/{problem}/{problem}_TTEST_{samplingStragety1}_vs_{samplingStragety2}.csv'"
   ]
  }
 ],
 "metadata": {
  "interpreter": {
   "hash": "ca234dca2f8b365bbc6d0107f403dbc5cdf0a7f51e2e55a7ee794bab845423fe"
  },
  "kernelspec": {
   "display_name": "Python 3.8.11 64-bit ('ml4co': conda)",
   "name": "python3"
  },
  "language_info": {
   "codemirror_mode": {
    "name": "ipython",
    "version": 3
   },
   "file_extension": ".py",
   "mimetype": "text/x-python",
   "name": "python",
   "nbconvert_exporter": "python",
   "pygments_lexer": "ipython3",
   "version": "3.8.11"
  },
  "orig_nbformat": 2
 },
 "nbformat": 4,
 "nbformat_minor": 2
}
