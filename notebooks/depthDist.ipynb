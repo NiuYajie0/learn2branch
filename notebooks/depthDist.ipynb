{
 "cells": [
  {
   "cell_type": "code",
   "execution_count": 1,
   "metadata": {},
   "outputs": [],
   "source": [
    "import os\r\n",
    "os.chdir(\"../\")"
   ]
  },
  {
   "cell_type": "code",
   "execution_count": 2,
   "metadata": {},
   "outputs": [],
   "source": [
    "import pandas as pd\r\n",
    "import glob\r\n",
    "from scipy.stats import ttest_ind"
   ]
  },
  {
   "cell_type": "code",
   "execution_count": 3,
   "metadata": {},
   "outputs": [],
   "source": [
    "resultDir = 'results'\r\n",
    "problem = 'cauctions' # choices=['setcover', 'cauctions', 'facilities', 'indset']\r\n",
    "sampling_Strategies = ['uniform5','depthK','depthK2'] # choices: uniform5, depthK, depthK2, depthK3\r\n",
    "sampling_seed = 0"
   ]
  },
  {
   "cell_type": "code",
   "execution_count": 4,
   "metadata": {},
   "outputs": [],
   "source": [
    "sampleTimes_allStrategies = pd.DataFrame()\r\n",
    "for sampling_Strategy in sampling_Strategies:\r\n",
    "    problem_folders = {\r\n",
    "        'setcover': f'setcover/500r_1000c_0.05d({sampling_Strategy})/{sampling_seed}',\r\n",
    "        'cauctions': f'cauctions/100_500({sampling_Strategy})/{sampling_seed}',\r\n",
    "        'facilities': f'facilities/100_100_5({sampling_Strategy})/{sampling_seed}',\r\n",
    "        'indset': f'indset/500_4({sampling_Strategy})/{sampling_seed}',\r\n",
    "    }\r\n",
    "    problem_folder = problem_folders[problem]\r\n",
    "    depthTablePath = f'data/samples/{problem_folder}/depthTable(trainSol).csv'\r\n",
    "    depthTable = pd.read_csv(depthTablePath, index_col=0)\r\n",
    "    sampleTimes_allStrategies[f'{sampling_Strategy}'] = depthTable['sampleTimes']"
   ]
  },
  {
   "cell_type": "code",
   "execution_count": 5,
   "metadata": {},
   "outputs": [
    {
     "data": {
      "text/html": [
       "<div>\n",
       "<style scoped>\n",
       "    .dataframe tbody tr th:only-of-type {\n",
       "        vertical-align: middle;\n",
       "    }\n",
       "\n",
       "    .dataframe tbody tr th {\n",
       "        vertical-align: top;\n",
       "    }\n",
       "\n",
       "    .dataframe thead th {\n",
       "        text-align: right;\n",
       "    }\n",
       "</style>\n",
       "<table border=\"1\" class=\"dataframe\">\n",
       "  <thead>\n",
       "    <tr style=\"text-align: right;\">\n",
       "      <th></th>\n",
       "      <th>uniform5</th>\n",
       "      <th>depthK</th>\n",
       "      <th>depthK2</th>\n",
       "      <th>GroupName</th>\n",
       "    </tr>\n",
       "  </thead>\n",
       "  <tbody>\n",
       "    <tr>\n",
       "      <th>0</th>\n",
       "      <td>0.123735</td>\n",
       "      <td>0.581081</td>\n",
       "      <td>0.160160</td>\n",
       "      <td>[0,4]</td>\n",
       "    </tr>\n",
       "    <tr>\n",
       "      <th>1</th>\n",
       "      <td>0.398444</td>\n",
       "      <td>0.230574</td>\n",
       "      <td>0.302302</td>\n",
       "      <td>[5,9]</td>\n",
       "    </tr>\n",
       "    <tr>\n",
       "      <th>2</th>\n",
       "      <td>0.324514</td>\n",
       "      <td>0.086993</td>\n",
       "      <td>0.249249</td>\n",
       "      <td>[10,14]</td>\n",
       "    </tr>\n",
       "    <tr>\n",
       "      <th>3</th>\n",
       "      <td>0.108949</td>\n",
       "      <td>0.065878</td>\n",
       "      <td>0.141141</td>\n",
       "      <td>[15,19]</td>\n",
       "    </tr>\n",
       "    <tr>\n",
       "      <th>4</th>\n",
       "      <td>0.034241</td>\n",
       "      <td>0.029561</td>\n",
       "      <td>0.077077</td>\n",
       "      <td>[20,24]</td>\n",
       "    </tr>\n",
       "    <tr>\n",
       "      <th>5</th>\n",
       "      <td>0.007004</td>\n",
       "      <td>0.005068</td>\n",
       "      <td>0.039039</td>\n",
       "      <td>[25,29]</td>\n",
       "    </tr>\n",
       "    <tr>\n",
       "      <th>6</th>\n",
       "      <td>0.002335</td>\n",
       "      <td>0.000000</td>\n",
       "      <td>0.022022</td>\n",
       "      <td>[30,34]</td>\n",
       "    </tr>\n",
       "    <tr>\n",
       "      <th>7</th>\n",
       "      <td>0.000778</td>\n",
       "      <td>0.000845</td>\n",
       "      <td>0.009009</td>\n",
       "      <td>[35,39]</td>\n",
       "    </tr>\n",
       "  </tbody>\n",
       "</table>\n",
       "</div>"
      ],
      "text/plain": [
       "   uniform5    depthK   depthK2 GroupName\n",
       "0  0.123735  0.581081  0.160160     [0,4]\n",
       "1  0.398444  0.230574  0.302302     [5,9]\n",
       "2  0.324514  0.086993  0.249249   [10,14]\n",
       "3  0.108949  0.065878  0.141141   [15,19]\n",
       "4  0.034241  0.029561  0.077077   [20,24]\n",
       "5  0.007004  0.005068  0.039039   [25,29]\n",
       "6  0.002335  0.000000  0.022022   [30,34]\n",
       "7  0.000778  0.000845  0.009009   [35,39]"
      ]
     },
     "execution_count": 5,
     "metadata": {},
     "output_type": "execute_result"
    }
   ],
   "source": [
    "bin_size = 5\r\n",
    "binned = sampleTimes_allStrategies.groupby(sampleTimes_allStrategies.index // bin_size).sum()\r\n",
    "binned = binned / binned.sum()\r\n",
    "binned['GroupName'] = [f\"[{i*bin_size},{(i+1)*bin_size-1}]\" for i in binned.index]\r\n",
    "binned"
   ]
  },
  {
   "cell_type": "code",
   "execution_count": 6,
   "metadata": {},
   "outputs": [
    {
     "data": {
      "text/plain": [
       "[Text(0, 0, '[35,39]'),\n",
       " Text(0, 1, '[30,34]'),\n",
       " Text(0, 2, '[25,29]'),\n",
       " Text(0, 3, '[20,24]'),\n",
       " Text(0, 4, '[15,19]'),\n",
       " Text(0, 5, '[10,14]'),\n",
       " Text(0, 6, '[5,9]'),\n",
       " Text(0, 7, '[0,4]')]"
      ]
     },
     "execution_count": 6,
     "metadata": {},
     "output_type": "execute_result"
    },
    {
     "data": {
      "image/png": "[encoded data removed]",
      "text/plain": [
       "<Figure size 432x288 with 1 Axes>"
      ]
     },
     "metadata": {
      "needs_background": "light"
     },
     "output_type": "display_data"
    }
   ],
   "source": [
    "inv_bins = binned.sort_index(ascending=False)\r\n",
    "axe = inv_bins.plot.barh()\r\n",
    "axe.set_yticklabels(inv_bins['GroupName'])\r\n",
    "# axe.savefig(f'depthDist{problem}.pdf')"
   ]
  },
  {
   "cell_type": "code",
   "execution_count": null,
   "metadata": {},
   "outputs": [],
   "source": []
  },
  {
   "cell_type": "code",
   "execution_count": null,
   "metadata": {},
   "outputs": [],
   "source": []
  }
 ],
 "metadata": {
  "interpreter": {
   "hash": "ff360f1bf102cf8c91f5a77ece6f6af605b57cb70f237066b1f558df4d17e0ac"
  },
  "kernelspec": {
   "display_name": "Python 3.8.5 64-bit ('learn2branch': conda)",
   "name": "python3"
  },
  "language_info": {
   "codemirror_mode": {
    "name": "ipython",
    "version": 3
   },
   "file_extension": ".py",
   "mimetype": "text/x-python",
   "name": "python",
   "nbconvert_exporter": "python",
   "pygments_lexer": "ipython3",
   "version": "3.8.5"
  }
 },
 "nbformat": 4,
 "nbformat_minor": 4
}