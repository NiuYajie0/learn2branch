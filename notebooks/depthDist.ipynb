{
 "cells": [
  {
   "cell_type": "code",
   "execution_count": 1,
   "source": [
    "import os\r\n",
    "os.chdir(\"../\")"
   ],
   "outputs": [],
   "metadata": {}
  },
  {
   "cell_type": "code",
   "execution_count": 2,
   "source": [
    "import pandas as pd\r\n",
    "import glob\r\n",
    "from scipy.stats import ttest_ind"
   ],
   "outputs": [],
   "metadata": {}
  },
  {
   "cell_type": "code",
   "execution_count": 3,
   "source": [
    "resultDir = 'results'\r\n",
    "problem = 'setcover' # choices=['setcover', 'cauctions', 'facilities', 'indset']\r\n",
    "sampling_Strategies = ['uniform5','depthK','depthK2', 'depthK_adaptive'] # choices: uniform5, depthK, depthK2, depthK3\r\n",
    "sampling_seed = 0"
   ],
   "outputs": [],
   "metadata": {}
  },
  {
   "cell_type": "code",
   "execution_count": 40,
   "source": [
    "sampleTimes_allStrategies = pd.DataFrame()\r\n",
    "for sampling_Strategy in sampling_Strategies:\r\n",
    "    problem_folders = {\r\n",
    "        'setcover': f'setcover/500r_1000c_0.05d({sampling_Strategy})/{sampling_seed}',\r\n",
    "        'cauctions': f'cauctions/100_500({sampling_Strategy})/{sampling_seed}',\r\n",
    "        'facilities': f'facilities/100_100_5({sampling_Strategy})/{sampling_seed}',\r\n",
    "        'indset': f'indset/500_4({sampling_Strategy})/{sampling_seed}',\r\n",
    "    }\r\n",
    "    problem_folder = problem_folders[problem]\r\n",
    "    depthTablePath = f'data/samples/{problem_folder}/depthTable(trainSol).csv'\r\n",
    "    depthTable = pd.read_csv(depthTablePath, index_col=0)\r\n",
    "    sampleTimes_allStrategies[f'{sampling_Strategy}'] = depthTable['sampleTimes']"
   ],
   "outputs": [],
   "metadata": {}
  },
  {
   "cell_type": "code",
   "execution_count": 41,
   "source": [
    "bin_size = 5\r\n",
    "binned = sampleTimes_allStrategies.groupby(sampleTimes_allStrategies.index // bin_size).sum()\r\n",
    "binned = binned / binned.sum()\r\n",
    "binned['GroupName'] = [f\"[{i*bin_size},{(i+1)*bin_size-1}]\" for i in binned.index]\r\n",
    "binned"
   ],
   "outputs": [
    {
     "output_type": "execute_result",
     "data": {
      "text/plain": [
       "   uniform5    depthK   depthK2 GroupName\n",
       "0  0.072446  0.575784  0.122598     [0,4]\n",
       "1  0.438390  0.325784  0.316560     [5,9]\n",
       "2  0.363467  0.087979  0.313815   [10,14]\n",
       "3  0.114551  0.010453  0.192132   [15,19]\n",
       "4  0.011146  0.000000  0.053065   [20,24]\n",
       "5  0.000000  0.000000  0.001830   [25,29]"
      ],
      "text/html": [
       "<div>\n",
       "<style scoped>\n",
       "    .dataframe tbody tr th:only-of-type {\n",
       "        vertical-align: middle;\n",
       "    }\n",
       "\n",
       "    .dataframe tbody tr th {\n",
       "        vertical-align: top;\n",
       "    }\n",
       "\n",
       "    .dataframe thead th {\n",
       "        text-align: right;\n",
       "    }\n",
       "</style>\n",
       "<table border=\"1\" class=\"dataframe\">\n",
       "  <thead>\n",
       "    <tr style=\"text-align: right;\">\n",
       "      <th></th>\n",
       "      <th>uniform5</th>\n",
       "      <th>depthK</th>\n",
       "      <th>depthK2</th>\n",
       "      <th>GroupName</th>\n",
       "    </tr>\n",
       "  </thead>\n",
       "  <tbody>\n",
       "    <tr>\n",
       "      <th>0</th>\n",
       "      <td>0.072446</td>\n",
       "      <td>0.575784</td>\n",
       "      <td>0.122598</td>\n",
       "      <td>[0,4]</td>\n",
       "    </tr>\n",
       "    <tr>\n",
       "      <th>1</th>\n",
       "      <td>0.438390</td>\n",
       "      <td>0.325784</td>\n",
       "      <td>0.316560</td>\n",
       "      <td>[5,9]</td>\n",
       "    </tr>\n",
       "    <tr>\n",
       "      <th>2</th>\n",
       "      <td>0.363467</td>\n",
       "      <td>0.087979</td>\n",
       "      <td>0.313815</td>\n",
       "      <td>[10,14]</td>\n",
       "    </tr>\n",
       "    <tr>\n",
       "      <th>3</th>\n",
       "      <td>0.114551</td>\n",
       "      <td>0.010453</td>\n",
       "      <td>0.192132</td>\n",
       "      <td>[15,19]</td>\n",
       "    </tr>\n",
       "    <tr>\n",
       "      <th>4</th>\n",
       "      <td>0.011146</td>\n",
       "      <td>0.000000</td>\n",
       "      <td>0.053065</td>\n",
       "      <td>[20,24]</td>\n",
       "    </tr>\n",
       "    <tr>\n",
       "      <th>5</th>\n",
       "      <td>0.000000</td>\n",
       "      <td>0.000000</td>\n",
       "      <td>0.001830</td>\n",
       "      <td>[25,29]</td>\n",
       "    </tr>\n",
       "  </tbody>\n",
       "</table>\n",
       "</div>"
      ]
     },
     "metadata": {},
     "execution_count": 41
    }
   ],
   "metadata": {}
  },
  {
   "cell_type": "code",
   "execution_count": 42,
   "source": [
    "inv_bins = binned.sort_index(ascending=False)\r\n",
    "axe = inv_bins.plot.barh()\r\n",
    "axe.set_yticklabels(inv_bins['GroupName'])\r\n",
    "# axe.savefig(f'depthDist{problem}.pdf')"
   ],
   "outputs": [
    {
     "output_type": "execute_result",
     "data": {
      "text/plain": [
       "[Text(0, 0, '[25,29]'),\n",
       " Text(0, 1, '[20,24]'),\n",
       " Text(0, 2, '[15,19]'),\n",
       " Text(0, 3, '[10,14]'),\n",
       " Text(0, 4, '[5,9]'),\n",
       " Text(0, 5, '[0,4]')]"
      ]
     },
     "metadata": {},
     "execution_count": 42
    },
    {
     "output_type": "display_data",
     "data": {
      "text/plain": [
       "<Figure size 432x288 with 1 Axes>"
      ],
      "image/png": "[encoded data removed]"
     },
     "metadata": {
      "needs_background": "light"
     }
    }
   ],
   "metadata": {}
  },
  {
   "cell_type": "markdown",
   "source": [
    "# 保存单个 depthTable 的 accessTimes\r\n",
    "\r\n",
    "先读取`depthTable(trainSol).csv`, 这个是保存每种sampling strategy采样过程中的访问深度情况和采样情况，我们只需要读取uniform5 的 depthTable 的 accessTime 列就行了\r\n"
   ],
   "metadata": {}
  },
  {
   "cell_type": "code",
   "execution_count": 10,
   "source": [
    "sampleDir = 'data/samples'\r\n",
    "problem = 'setcover' # choices=['setcover', 'cauctions', 'facilities', 'indset']\r\n",
    "# sampling_Strategy = 'uniform5' # choices: uniform5, depthK, depthK2, depth_adaptive\r\n",
    "sampling_seed = 0\r\n",
    "\r\n",
    "depthTablePaths = {\r\n",
    "    'setcover': f'setcover/500r_1000c_0.05d(uniform5)/{sampling_seed}',\r\n",
    "    'cauctions': f'cauctions/100_500(uniform5)/{sampling_seed}',\r\n",
    "    'facilities': f'facilities/100_100_5(uniform5)/{sampling_seed}',\r\n",
    "    'indset': f'indset/500_4(uniform5)/{sampling_seed}',\r\n",
    "}\r\n",
    "depthTablePath = f'{sampleDir}/{depthTablePaths[problem]}/depthTable(trainSol).csv'\r\n",
    "depthTable = pd.read_csv(depthTablePath, index_col=0)"
   ],
   "outputs": [],
   "metadata": {}
  },
  {
   "cell_type": "code",
   "execution_count": 11,
   "source": [
    "bin_size = 5\r\n",
    "binned = depthTable['accessTimes'].groupby(depthTable.index // bin_size).sum()\r\n",
    "binned /= binned.sum()\r\n",
    "binned.index.name = 'depth//5'\r\n",
    "binned"
   ],
   "outputs": [
    {
     "output_type": "execute_result",
     "data": {
      "text/plain": [
       "depth//5\n",
       "0    0.086655\n",
       "1    0.438031\n",
       "2    0.355058\n",
       "3    0.110559\n",
       "4    0.009635\n",
       "5    0.000061\n",
       "Name: accessTimes, dtype: float64"
      ]
     },
     "metadata": {},
     "execution_count": 11
    }
   ],
   "metadata": {}
  },
  {
   "cell_type": "code",
   "execution_count": 12,
   "source": [
    "binned.to_csv('depthTable_SolSB_binned5.csv')"
   ],
   "outputs": [],
   "metadata": {}
  },
  {
   "cell_type": "code",
   "execution_count": 37,
   "source": [
    "dff = pd.read_csv('depthTable_SolSB_binned5.csv', index_col='depth//5')\r\n",
    "dff"
   ],
   "outputs": [
    {
     "output_type": "display_data",
     "data": {
      "text/plain": [
       "          accessTimes\n",
       "depth//5             \n",
       "0            0.126149\n",
       "1            0.412810\n",
       "2            0.300835\n",
       "3            0.105769\n",
       "4            0.036508\n",
       "5            0.012833\n",
       "6            0.004405\n",
       "7            0.000690"
      ],
      "text/html": [
       "<div>\n",
       "<style scoped>\n",
       "    .dataframe tbody tr th:only-of-type {\n",
       "        vertical-align: middle;\n",
       "    }\n",
       "\n",
       "    .dataframe tbody tr th {\n",
       "        vertical-align: top;\n",
       "    }\n",
       "\n",
       "    .dataframe thead th {\n",
       "        text-align: right;\n",
       "    }\n",
       "</style>\n",
       "<table border=\"1\" class=\"dataframe\">\n",
       "  <thead>\n",
       "    <tr style=\"text-align: right;\">\n",
       "      <th></th>\n",
       "      <th>accessTimes</th>\n",
       "    </tr>\n",
       "    <tr>\n",
       "      <th>depth//5</th>\n",
       "      <th></th>\n",
       "    </tr>\n",
       "  </thead>\n",
       "  <tbody>\n",
       "    <tr>\n",
       "      <th>0</th>\n",
       "      <td>0.126149</td>\n",
       "    </tr>\n",
       "    <tr>\n",
       "      <th>1</th>\n",
       "      <td>0.412810</td>\n",
       "    </tr>\n",
       "    <tr>\n",
       "      <th>2</th>\n",
       "      <td>0.300835</td>\n",
       "    </tr>\n",
       "    <tr>\n",
       "      <th>3</th>\n",
       "      <td>0.105769</td>\n",
       "    </tr>\n",
       "    <tr>\n",
       "      <th>4</th>\n",
       "      <td>0.036508</td>\n",
       "    </tr>\n",
       "    <tr>\n",
       "      <th>5</th>\n",
       "      <td>0.012833</td>\n",
       "    </tr>\n",
       "    <tr>\n",
       "      <th>6</th>\n",
       "      <td>0.004405</td>\n",
       "    </tr>\n",
       "    <tr>\n",
       "      <th>7</th>\n",
       "      <td>0.000690</td>\n",
       "    </tr>\n",
       "  </tbody>\n",
       "</table>\n",
       "</div>"
      ]
     },
     "metadata": {}
    }
   ],
   "metadata": {}
  },
  {
   "cell_type": "code",
   "execution_count": null,
   "source": [],
   "outputs": [],
   "metadata": {}
  }
 ],
 "metadata": {
  "interpreter": {
   "hash": "ca234dca2f8b365bbc6d0107f403dbc5cdf0a7f51e2e55a7ee794bab845423fe"
  },
  "kernelspec": {
   "name": "python3",
   "display_name": "Python 3.8.8 64-bit ('ml4co': conda)"
  },
  "language_info": {
   "codemirror_mode": {
    "name": "ipython",
    "version": 3
   },
   "file_extension": ".py",
   "mimetype": "text/x-python",
   "name": "python",
   "nbconvert_exporter": "python",
   "pygments_lexer": "ipython3",
   "version": "3.8.8"
  }
 },
 "nbformat": 4,
 "nbformat_minor": 4
}