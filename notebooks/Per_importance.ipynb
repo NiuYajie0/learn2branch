{
 "cells": [
  {
   "cell_type": "code",
   "execution_count": 1,
   "metadata": {},
   "outputs": [],
   "source": [
    "import os\n",
    "os.chdir(\"../\")"
   ]
  },
  {
   "cell_type": "code",
   "execution_count": 2,
   "metadata": {},
   "outputs": [],
   "source": [
    "import pandas as pd\n",
    "import glob\n",
    "import time\n",
    "import numpy as np\n",
    "import matplotlib.pyplot as plt"
   ]
  },
  {
   "cell_type": "code",
   "execution_count": 192,
   "metadata": {},
   "outputs": [],
   "source": [
    "resultDir = 'D:\\Program Files\\learn2brancher\\\\results'\n",
    "problem = 'indset' # choices=['setcover', 'cauctions', 'facilities', 'indset']\n",
    "# sampling_Strategies = ['uniform5','depthK','depthK2'] # choices: uniform5, depthK, depthK2, depthK3\n",
    "model = ['Lodi','GraphConv']\n",
    "model1 = model[0]\n",
    "features = ['edge','constraint_1','constraint_2','constraint_3','constraint_4','constraint_5','variable_2','variable_5','variable_6','variable_7','variable_8','variable_9','variable_10','variable_11','variable_12','variable_13','variable_1']\n",
    "metric_columns = ['acc@1','acc@3','acc@5','acc@10']\n",
    "Lodi_files = glob.glob(f'{resultDir}\\{problem}\\{model1}*.csv')\n",
    "feat_files1 = glob.glob(f'{resultDir}\\{problem}\\{features[0]}\\*.csv')\n",
    "feat_files2 = glob.glob(f'{resultDir}\\{problem}\\{features[1]}\\*.csv')\n",
    "feat_files3 = glob.glob(f'{resultDir}\\{problem}\\{features[2]}\\*.csv')\n",
    "feat_files4 = glob.glob(f'{resultDir}\\{problem}\\{features[3]}\\*.csv')\n",
    "feat_files5 = glob.glob(f'{resultDir}\\{problem}\\{features[4]}\\*.csv')\n",
    "feat_files6 = glob.glob(f'{resultDir}\\{problem}\\{features[5]}\\*.csv')\n",
    "feat_files7 = glob.glob(f'{resultDir}\\{problem}\\{features[6]}\\*.csv')\n",
    "feat_files8 = glob.glob(f'{resultDir}\\{problem}\\{features[7]}\\*.csv')\n",
    "feat_files9 = glob.glob(f'{resultDir}\\{problem}\\{features[8]}\\*.csv')\n",
    "feat_files10 = glob.glob(f'{resultDir}\\{problem}\\{features[9]}\\*.csv')\n",
    "feat_files11 = glob.glob(f'{resultDir}\\{problem}\\{features[10]}\\*.csv')\n",
    "feat_files12 = glob.glob(f'{resultDir}\\{problem}\\{features[11]}\\*.csv')\n",
    "feat_files13 = glob.glob(f'{resultDir}\\{problem}\\{features[12]}\\*.csv')\n",
    "feat_files14 = glob.glob(f'{resultDir}\\{problem}\\{features[13]}\\*.csv')\n",
    "feat_files15 = glob.glob(f'{resultDir}\\{problem}\\{features[14]}\\*.csv')\n",
    "feat_files16 = glob.glob(f'{resultDir}\\{problem}\\{features[15]}\\*.csv')\n",
    "feat_files17 = glob.glob(f'{resultDir}\\{problem}\\{features[16]}\\*.csv')\n",
    "mean = np.zeros(17)"
   ]
  },
  {
   "cell_type": "code",
   "execution_count": 193,
   "metadata": {},
   "outputs": [
    {
     "data": {
      "text/plain": [
       "0.26225"
      ]
     },
     "execution_count": 193,
     "metadata": {},
     "output_type": "execute_result"
    }
   ],
   "source": [
    "targetfile_Lodi = Lodi_files[0]\n",
    "target_df_Lodi = pd.read_csv(targetfile_Lodi)\n",
    "mean[0] = target_df_Lodi[metric_columns].mean()[2]\n",
    "mean[0]"
   ]
  },
  {
   "cell_type": "code",
   "execution_count": 194,
   "metadata": {},
   "outputs": [
    {
     "data": {
      "text/plain": [
       "array([0.269  , 0.26725, 0.2745 , 0.2725 , 0.27075, 0.26675, 0.269  ,\n",
       "       0.27   , 0.2695 , 0.26875, 0.27075, 0.2705 , 0.2655 , 0.26925,\n",
       "       0.2705 , 0.268  , 0.271  , 0.26675, 0.27025, 0.26875])"
      ]
     },
     "execution_count": 194,
     "metadata": {},
     "output_type": "execute_result"
    }
   ],
   "source": [
    "edge = np.zeros(20)\n",
    "for i in range(len(edge)):\n",
    "   df = pd.read_csv(feat_files1[i])\n",
    "   edge[i] = df[metric_columns].mean()[2]\n",
    "edge"
   ]
  },
  {
   "cell_type": "code",
   "execution_count": 195,
   "metadata": {},
   "outputs": [
    {
     "data": {
      "text/plain": [
       "-0.007212500000000011"
      ]
     },
     "execution_count": 195,
     "metadata": {},
     "output_type": "execute_result"
    }
   ],
   "source": [
    "score1 = mean[0]-edge.mean()\n",
    "score1"
   ]
  },
  {
   "cell_type": "code",
   "execution_count": 196,
   "metadata": {},
   "outputs": [
    {
     "data": {
      "text/plain": [
       "0.0020283537043622357"
      ]
     },
     "execution_count": 196,
     "metadata": {},
     "output_type": "execute_result"
    }
   ],
   "source": [
    "std1 = edge.std()\n",
    "std1"
   ]
  },
  {
   "cell_type": "code",
   "execution_count": 197,
   "metadata": {},
   "outputs": [
    {
     "data": {
      "text/plain": [
       "array([0.22525, 0.22525, 0.22525, 0.22475, 0.22475, 0.22575, 0.22725,\n",
       "       0.225  , 0.22325, 0.22425, 0.22575, 0.225  , 0.22475, 0.225  ,\n",
       "       0.2245 , 0.226  , 0.224  , 0.22475, 0.225  , 0.223  ])"
      ]
     },
     "execution_count": 197,
     "metadata": {},
     "output_type": "execute_result"
    }
   ],
   "source": [
    "constraint_1 = np.zeros(20)\n",
    "for i in range(len(constraint_1)):\n",
    "   df = pd.read_csv(feat_files2[i])\n",
    "   constraint_1[i] = df[metric_columns].mean()[2]\n",
    "constraint_1"
   ]
  },
  {
   "cell_type": "code",
   "execution_count": 198,
   "metadata": {},
   "outputs": [
    {
     "data": {
      "text/plain": [
       "0.037325000000000025"
      ]
     },
     "execution_count": 198,
     "metadata": {},
     "output_type": "execute_result"
    }
   ],
   "source": [
    "score2 = mean[0]-constraint_1.mean()\n",
    "score2"
   ]
  },
  {
   "cell_type": "code",
   "execution_count": 199,
   "metadata": {},
   "outputs": [
    {
     "data": {
      "text/plain": [
       "0.0009051933495115831"
      ]
     },
     "execution_count": 199,
     "metadata": {},
     "output_type": "execute_result"
    }
   ],
   "source": [
    "std2 = constraint_1.std()\n",
    "std2"
   ]
  },
  {
   "cell_type": "code",
   "execution_count": 200,
   "metadata": {},
   "outputs": [
    {
     "data": {
      "text/plain": [
       "array([0.21975, 0.21925, 0.22025, 0.221  , 0.2205 , 0.22025, 0.221  ,\n",
       "       0.22075, 0.2205 , 0.21925, 0.22175, 0.21975, 0.22025, 0.22175,\n",
       "       0.2215 , 0.221  , 0.22   , 0.22075, 0.22175, 0.2215 ])"
      ]
     },
     "execution_count": 200,
     "metadata": {},
     "output_type": "execute_result"
    }
   ],
   "source": [
    "constraint_2 = np.zeros(20)\n",
    "for i in range(len(constraint_2)):\n",
    "   df = pd.read_csv(feat_files3[i])\n",
    "   constraint_2[i] = df[metric_columns].mean()[2]\n",
    "constraint_2"
   ]
  },
  {
   "cell_type": "code",
   "execution_count": 201,
   "metadata": {},
   "outputs": [
    {
     "data": {
      "text/plain": [
       "0.041624999999999995"
      ]
     },
     "execution_count": 201,
     "metadata": {},
     "output_type": "execute_result"
    }
   ],
   "source": [
    "score3 = mean[0]-constraint_2.mean()\n",
    "score3"
   ]
  },
  {
   "cell_type": "code",
   "execution_count": 202,
   "metadata": {},
   "outputs": [
    {
     "data": {
      "text/plain": [
       "0.0007725768570181116"
      ]
     },
     "execution_count": 202,
     "metadata": {},
     "output_type": "execute_result"
    }
   ],
   "source": [
    "std3 = constraint_2.std()\n",
    "std3"
   ]
  },
  {
   "cell_type": "code",
   "execution_count": 203,
   "metadata": {},
   "outputs": [
    {
     "data": {
      "text/plain": [
       "array([0.25675, 0.2585 , 0.257  , 0.25625, 0.2565 , 0.256  , 0.257  ,\n",
       "       0.25675, 0.257  , 0.25875, 0.25775, 0.26025, 0.2585 , 0.25525,\n",
       "       0.25675, 0.25675, 0.257  , 0.258  , 0.2565 , 0.25875])"
      ]
     },
     "execution_count": 203,
     "metadata": {},
     "output_type": "execute_result"
    }
   ],
   "source": [
    "constraint_3 = np.zeros(20)\n",
    "for i in range(len(constraint_3)):\n",
    "   df = pd.read_csv(feat_files4[i])\n",
    "   constraint_3[i] = df[metric_columns].mean()[2]\n",
    "constraint_3"
   ]
  },
  {
   "cell_type": "code",
   "execution_count": 204,
   "metadata": {},
   "outputs": [
    {
     "data": {
      "text/plain": [
       "0.00495000000000001"
      ]
     },
     "execution_count": 204,
     "metadata": {},
     "output_type": "execute_result"
    }
   ],
   "source": [
    "score4 = mean[0]-constraint_3.mean()\n",
    "score4"
   ]
  },
  {
   "cell_type": "code",
   "execution_count": 205,
   "metadata": {},
   "outputs": [
    {
     "data": {
      "text/plain": [
       "0.0011472793905583701"
      ]
     },
     "execution_count": 205,
     "metadata": {},
     "output_type": "execute_result"
    }
   ],
   "source": [
    "std4 = constraint_3.std()\n",
    "std4"
   ]
  },
  {
   "cell_type": "code",
   "execution_count": 206,
   "metadata": {},
   "outputs": [
    {
     "data": {
      "text/plain": [
       "array([0.25675, 0.25875, 0.25925, 0.2575 , 0.2555 , 0.256  , 0.25725,\n",
       "       0.25975, 0.25825, 0.25825, 0.25875, 0.2575 , 0.25725, 0.259  ,\n",
       "       0.256  , 0.258  , 0.25825, 0.25625, 0.25775, 0.255  ])"
      ]
     },
     "execution_count": 206,
     "metadata": {},
     "output_type": "execute_result"
    }
   ],
   "source": [
    "constraint_4 = np.zeros(20)\n",
    "for i in range(len(constraint_4)):\n",
    "   df = pd.read_csv(feat_files5[i])\n",
    "   constraint_4[i] = df[metric_columns].mean()[2]\n",
    "constraint_4"
   ]
  },
  {
   "cell_type": "code",
   "execution_count": 207,
   "metadata": {},
   "outputs": [
    {
     "data": {
      "text/plain": [
       "0.0047000000000000375"
      ]
     },
     "execution_count": 207,
     "metadata": {},
     "output_type": "execute_result"
    }
   ],
   "source": [
    "score5 = mean[0]-constraint_4.mean()\n",
    "score5"
   ]
  },
  {
   "cell_type": "code",
   "execution_count": 208,
   "metadata": {},
   "outputs": [
    {
     "data": {
      "text/plain": [
       "0.0012737739202856996"
      ]
     },
     "execution_count": 208,
     "metadata": {},
     "output_type": "execute_result"
    }
   ],
   "source": [
    "std5 = constraint_4.std()\n",
    "std5"
   ]
  },
  {
   "cell_type": "code",
   "execution_count": 209,
   "metadata": {},
   "outputs": [
    {
     "data": {
      "text/plain": [
       "array([0.2595 , 0.259  , 0.25975, 0.259  , 0.26   , 0.26175, 0.2575 ,\n",
       "       0.2605 , 0.26275, 0.2585 , 0.25975, 0.2595 , 0.259  , 0.26225,\n",
       "       0.26275, 0.261  , 0.2615 , 0.25875, 0.2605 , 0.2585 ])"
      ]
     },
     "execution_count": 209,
     "metadata": {},
     "output_type": "execute_result"
    }
   ],
   "source": [
    "constraint_5 = np.zeros(20)\n",
    "for i in range(len(constraint_5)):\n",
    "   df = pd.read_csv(feat_files6[i])\n",
    "   constraint_5[i] = df[metric_columns].mean()[2]\n",
    "constraint_5"
   ]
  },
  {
   "cell_type": "code",
   "execution_count": 210,
   "metadata": {},
   "outputs": [
    {
     "data": {
      "text/plain": [
       "0.0021625000000000116"
      ]
     },
     "execution_count": 210,
     "metadata": {},
     "output_type": "execute_result"
    }
   ],
   "source": [
    "score6 = mean[0]-constraint_5.mean()\n",
    "score6"
   ]
  },
  {
   "cell_type": "code",
   "execution_count": 211,
   "metadata": {},
   "outputs": [
    {
     "data": {
      "text/plain": [
       "0.0014626068337048016"
      ]
     },
     "execution_count": 211,
     "metadata": {},
     "output_type": "execute_result"
    }
   ],
   "source": [
    "std6 = constraint_5.std()\n",
    "std6"
   ]
  },
  {
   "cell_type": "code",
   "execution_count": 212,
   "metadata": {},
   "outputs": [
    {
     "data": {
      "text/plain": [
       "array([0.26225, 0.26225, 0.26225, 0.26225, 0.26225, 0.26225, 0.26225,\n",
       "       0.26225, 0.26225, 0.26225, 0.26225, 0.26225, 0.26225, 0.26225,\n",
       "       0.26225, 0.26225, 0.26225, 0.26225, 0.26225, 0.26225])"
      ]
     },
     "execution_count": 212,
     "metadata": {},
     "output_type": "execute_result"
    }
   ],
   "source": [
    "variable_1 = np.zeros(20)\n",
    "for i in range(len(variable_1)):\n",
    "   df = pd.read_csv(feat_files7[i])\n",
    "   variable_1[i] = df[metric_columns].mean()[2]\n",
    "variable_1"
   ]
  },
  {
   "cell_type": "code",
   "execution_count": 213,
   "metadata": {},
   "outputs": [
    {
     "data": {
      "text/plain": [
       "0.0"
      ]
     },
     "execution_count": 213,
     "metadata": {},
     "output_type": "execute_result"
    }
   ],
   "source": [
    "score7 = mean[0]-variable_1.mean()\n",
    "score7"
   ]
  },
  {
   "cell_type": "code",
   "execution_count": 214,
   "metadata": {},
   "outputs": [
    {
     "data": {
      "text/plain": [
       "0.0"
      ]
     },
     "execution_count": 214,
     "metadata": {},
     "output_type": "execute_result"
    }
   ],
   "source": [
    "std7 = variable_1.std()\n",
    "std7"
   ]
  },
  {
   "cell_type": "code",
   "execution_count": 215,
   "metadata": {},
   "outputs": [
    {
     "data": {
      "text/plain": [
       "array([0.2795 , 0.2795 , 0.28175, 0.27925, 0.27575, 0.27825, 0.28025,\n",
       "       0.28075, 0.2825 , 0.2795 , 0.27625, 0.27975, 0.27625, 0.2775 ,\n",
       "       0.2775 , 0.27725, 0.27475, 0.28175, 0.27875, 0.28075])"
      ]
     },
     "execution_count": 215,
     "metadata": {},
     "output_type": "execute_result"
    }
   ],
   "source": [
    "variable_2 = np.zeros(20)\n",
    "for i in range(len(variable_2)):\n",
    "   df = pd.read_csv(feat_files8[i])\n",
    "   variable_2[i] = df[metric_columns].mean()[2]\n",
    "variable_2"
   ]
  },
  {
   "cell_type": "code",
   "execution_count": 216,
   "metadata": {},
   "outputs": [
    {
     "data": {
      "text/plain": [
       "-0.016625"
      ]
     },
     "execution_count": 216,
     "metadata": {},
     "output_type": "execute_result"
    }
   ],
   "source": [
    "score8 = mean[0]-variable_2.mean()\n",
    "score8"
   ]
  },
  {
   "cell_type": "code",
   "execution_count": 217,
   "metadata": {},
   "outputs": [
    {
     "data": {
      "text/plain": [
       "0.002098362456774343"
      ]
     },
     "execution_count": 217,
     "metadata": {},
     "output_type": "execute_result"
    }
   ],
   "source": [
    "std8 = variable_2.std()\n",
    "std8"
   ]
  },
  {
   "cell_type": "code",
   "execution_count": 218,
   "metadata": {},
   "outputs": [
    {
     "data": {
      "text/plain": [
       "array([0.2575 , 0.25925, 0.25975, 0.25775, 0.2605 , 0.25625, 0.258  ,\n",
       "       0.2585 , 0.25625, 0.25625, 0.2595 , 0.25475, 0.2565 , 0.2605 ,\n",
       "       0.259  , 0.25875, 0.25925, 0.25925, 0.25275, 0.25825])"
      ]
     },
     "execution_count": 218,
     "metadata": {},
     "output_type": "execute_result"
    }
   ],
   "source": [
    "variable_3 = np.zeros(20)\n",
    "for i in range(len(variable_3)):\n",
    "   df = pd.read_csv(feat_files9[i])\n",
    "   variable_3[i] = df[metric_columns].mean()[2]\n",
    "variable_3"
   ]
  },
  {
   "cell_type": "code",
   "execution_count": 219,
   "metadata": {},
   "outputs": [
    {
     "data": {
      "text/plain": [
       "0.004325000000000023"
      ]
     },
     "execution_count": 219,
     "metadata": {},
     "output_type": "execute_result"
    }
   ],
   "source": [
    "score9 = mean[0]-variable_3.mean()\n",
    "score9"
   ]
  },
  {
   "cell_type": "code",
   "execution_count": 220,
   "metadata": {},
   "outputs": [
    {
     "data": {
      "text/plain": [
       "0.001925324647949015"
      ]
     },
     "execution_count": 220,
     "metadata": {},
     "output_type": "execute_result"
    }
   ],
   "source": [
    "std9 = variable_3.std()\n",
    "std9"
   ]
  },
  {
   "cell_type": "code",
   "execution_count": 221,
   "metadata": {},
   "outputs": [
    {
     "data": {
      "text/plain": [
       "array([0.2585 , 0.25575, 0.25225, 0.25225, 0.25475, 0.259  , 0.252  ,\n",
       "       0.25525, 0.255  , 0.2555 , 0.25925, 0.26275, 0.2555 , 0.2615 ,\n",
       "       0.254  , 0.2585 , 0.25525, 0.26125, 0.25675, 0.251  ])"
      ]
     },
     "execution_count": 221,
     "metadata": {},
     "output_type": "execute_result"
    }
   ],
   "source": [
    "variable_4 = np.zeros(20)\n",
    "for i in range(len(variable_4)):\n",
    "   df = pd.read_csv(feat_files10[i])\n",
    "   variable_4[i] = df[metric_columns].mean()[2]\n",
    "variable_4"
   ]
  },
  {
   "cell_type": "code",
   "execution_count": 222,
   "metadata": {},
   "outputs": [
    {
     "data": {
      "text/plain": [
       "0.005949999999999955"
      ]
     },
     "execution_count": 222,
     "metadata": {},
     "output_type": "execute_result"
    }
   ],
   "source": [
    "score10 = mean[0]-variable_4.mean()\n",
    "score10"
   ]
  },
  {
   "cell_type": "code",
   "execution_count": 223,
   "metadata": {},
   "outputs": [
    {
     "data": {
      "text/plain": [
       "0.003252499039200464"
      ]
     },
     "execution_count": 223,
     "metadata": {},
     "output_type": "execute_result"
    }
   ],
   "source": [
    "std10 = variable_4.std()\n",
    "std10"
   ]
  },
  {
   "cell_type": "code",
   "execution_count": 224,
   "metadata": {},
   "outputs": [
    {
     "data": {
      "text/plain": [
       "array([0.32925, 0.33175, 0.32575, 0.323  , 0.32725, 0.32525, 0.3325 ,\n",
       "       0.328  , 0.33225, 0.327  , 0.33025, 0.3325 , 0.329  , 0.33   ,\n",
       "       0.33375, 0.32725, 0.3285 , 0.332  , 0.32425, 0.33275])"
      ]
     },
     "execution_count": 224,
     "metadata": {},
     "output_type": "execute_result"
    }
   ],
   "source": [
    "variable_5 = np.zeros(20)\n",
    "for i in range(len(variable_5)):\n",
    "   df = pd.read_csv(feat_files11[i])\n",
    "   variable_5[i] = df[metric_columns].mean()[2]\n",
    "variable_5"
   ]
  },
  {
   "cell_type": "code",
   "execution_count": 227,
   "metadata": {},
   "outputs": [
    {
     "data": {
      "text/plain": [
       "-0.06686250000000005"
      ]
     },
     "execution_count": 227,
     "metadata": {},
     "output_type": "execute_result"
    }
   ],
   "source": [
    "score11 = mean[0]-variable_5.mean()\n",
    "score11"
   ]
  },
  {
   "cell_type": "code",
   "execution_count": 228,
   "metadata": {},
   "outputs": [
    {
     "data": {
      "text/plain": [
       "0.0030428964408931104"
      ]
     },
     "execution_count": 228,
     "metadata": {},
     "output_type": "execute_result"
    }
   ],
   "source": [
    "std11 = variable_5.std()\n",
    "std11"
   ]
  },
  {
   "cell_type": "code",
   "execution_count": 229,
   "metadata": {},
   "outputs": [
    {
     "data": {
      "text/plain": [
       "array([0.3045 , 0.30775, 0.30575, 0.308  , 0.30325, 0.30725, 0.3025 ,\n",
       "       0.30725, 0.3035 , 0.306  , 0.3055 , 0.308  , 0.31025, 0.30875,\n",
       "       0.30325, 0.30175, 0.30875, 0.305  , 0.3045 , 0.3005 ])"
      ]
     },
     "execution_count": 229,
     "metadata": {},
     "output_type": "execute_result"
    }
   ],
   "source": [
    "variable_6 = np.zeros(20)\n",
    "for i in range(len(variable_6)):\n",
    "   df = pd.read_csv(feat_files12[i])\n",
    "   variable_6[i] = df[metric_columns].mean()[2]\n",
    "variable_6"
   ]
  },
  {
   "cell_type": "code",
   "execution_count": 230,
   "metadata": {},
   "outputs": [
    {
     "data": {
      "text/plain": [
       "-0.04335"
      ]
     },
     "execution_count": 230,
     "metadata": {},
     "output_type": "execute_result"
    }
   ],
   "source": [
    "score12 = mean[0]-variable_6.mean()\n",
    "score12"
   ]
  },
  {
   "cell_type": "code",
   "execution_count": 231,
   "metadata": {},
   "outputs": [
    {
     "data": {
      "text/plain": [
       "0.002568316569272563"
      ]
     },
     "execution_count": 231,
     "metadata": {},
     "output_type": "execute_result"
    }
   ],
   "source": [
    "std12 = variable_6.std()\n",
    "std12"
   ]
  },
  {
   "cell_type": "code",
   "execution_count": 232,
   "metadata": {},
   "outputs": [
    {
     "data": {
      "text/plain": [
       "array([0.296  , 0.29525, 0.29425, 0.29925, 0.297  , 0.29775, 0.2985 ,\n",
       "       0.298  , 0.2925 , 0.299  , 0.296  , 0.30275, 0.29425, 0.29475,\n",
       "       0.293  , 0.2975 , 0.2925 , 0.2985 , 0.2985 , 0.296  ])"
      ]
     },
     "execution_count": 232,
     "metadata": {},
     "output_type": "execute_result"
    }
   ],
   "source": [
    "variable_7 = np.zeros(20)\n",
    "for i in range(len(variable_7)):\n",
    "   df = pd.read_csv(feat_files13[i])\n",
    "   variable_7[i] = df[metric_columns].mean()[2]\n",
    "variable_7"
   ]
  },
  {
   "cell_type": "code",
   "execution_count": 233,
   "metadata": {},
   "outputs": [
    {
     "data": {
      "text/plain": [
       "-0.034312500000000024"
      ]
     },
     "execution_count": 233,
     "metadata": {},
     "output_type": "execute_result"
    }
   ],
   "source": [
    "score13 = mean[0]-variable_7.mean()\n",
    "score13"
   ]
  },
  {
   "cell_type": "code",
   "execution_count": 234,
   "metadata": {},
   "outputs": [
    {
     "data": {
      "text/plain": [
       "0.0025456764818020216"
      ]
     },
     "execution_count": 234,
     "metadata": {},
     "output_type": "execute_result"
    }
   ],
   "source": [
    "std13 = variable_7.std()\n",
    "std13"
   ]
  },
  {
   "cell_type": "code",
   "execution_count": 235,
   "metadata": {},
   "outputs": [
    {
     "data": {
      "text/plain": [
       "array([0.24325, 0.241  , 0.2395 , 0.23975, 0.242  , 0.24175, 0.2435 ,\n",
       "       0.24525, 0.244  , 0.23925, 0.24225, 0.241  , 0.249  , 0.24   ,\n",
       "       0.2395 , 0.23775, 0.2365 , 0.24825, 0.244  , 0.24625])"
      ]
     },
     "execution_count": 235,
     "metadata": {},
     "output_type": "execute_result"
    }
   ],
   "source": [
    "variable_8 = np.zeros(20)\n",
    "for i in range(len(variable_8)):\n",
    "   df = pd.read_csv(feat_files14[i])\n",
    "   variable_8[i] = df[metric_columns].mean()[2]\n",
    "variable_8"
   ]
  },
  {
   "cell_type": "code",
   "execution_count": 236,
   "metadata": {},
   "outputs": [
    {
     "data": {
      "text/plain": [
       "0.020062499999999983"
      ]
     },
     "execution_count": 236,
     "metadata": {},
     "output_type": "execute_result"
    }
   ],
   "source": [
    "score14 = mean[0]-variable_8.mean()\n",
    "score14"
   ]
  },
  {
   "cell_type": "code",
   "execution_count": 237,
   "metadata": {},
   "outputs": [
    {
     "data": {
      "text/plain": [
       "0.0032199330350179715"
      ]
     },
     "execution_count": 237,
     "metadata": {},
     "output_type": "execute_result"
    }
   ],
   "source": [
    "std14 = variable_8.std()\n",
    "std14"
   ]
  },
  {
   "cell_type": "code",
   "execution_count": 238,
   "metadata": {},
   "outputs": [
    {
     "data": {
      "text/plain": [
       "array([0.25225, 0.256  , 0.256  , 0.2565 , 0.25275, 0.25775, 0.25325,\n",
       "       0.25675, 0.25575, 0.2545 , 0.257  , 0.25675, 0.255  , 0.26275,\n",
       "       0.25625, 0.25275, 0.2565 , 0.25225, 0.262  , 0.2545 ])"
      ]
     },
     "execution_count": 238,
     "metadata": {},
     "output_type": "execute_result"
    }
   ],
   "source": [
    "variable_9 = np.zeros(20)\n",
    "for i in range(len(variable_9)):\n",
    "   df = pd.read_csv(feat_files15[i])\n",
    "   variable_9[i] = df[metric_columns].mean()[2]\n",
    "variable_9"
   ]
  },
  {
   "cell_type": "code",
   "execution_count": 239,
   "metadata": {},
   "outputs": [
    {
     "data": {
      "text/plain": [
       "0.006387499999999935"
      ]
     },
     "execution_count": 239,
     "metadata": {},
     "output_type": "execute_result"
    }
   ],
   "source": [
    "score15 = mean[0]-variable_9.mean()\n",
    "score15"
   ]
  },
  {
   "cell_type": "code",
   "execution_count": 240,
   "metadata": {},
   "outputs": [
    {
     "data": {
      "text/plain": [
       "0.0027323009991580445"
      ]
     },
     "execution_count": 240,
     "metadata": {},
     "output_type": "execute_result"
    }
   ],
   "source": [
    "std15 = variable_9.std()\n",
    "std15"
   ]
  },
  {
   "cell_type": "code",
   "execution_count": 241,
   "metadata": {},
   "outputs": [
    {
     "data": {
      "text/plain": [
       "array([0.25075, 0.251  , 0.25275, 0.24475, 0.25475, 0.2515 , 0.251  ,\n",
       "       0.25375, 0.254  , 0.25025, 0.25175, 0.25375, 0.252  , 0.25475,\n",
       "       0.24775, 0.2525 , 0.25025, 0.2485 , 0.25   , 0.25375])"
      ]
     },
     "execution_count": 241,
     "metadata": {},
     "output_type": "execute_result"
    }
   ],
   "source": [
    "variable_10 = np.zeros(20)\n",
    "for i in range(len(variable_10)):\n",
    "   df = pd.read_csv(feat_files16[i])\n",
    "   variable_10[i] = df[metric_columns].mean()[2]\n",
    "variable_10"
   ]
  },
  {
   "cell_type": "code",
   "execution_count": 242,
   "metadata": {},
   "outputs": [
    {
     "data": {
      "text/plain": [
       "0.010774999999999979"
      ]
     },
     "execution_count": 242,
     "metadata": {},
     "output_type": "execute_result"
    }
   ],
   "source": [
    "score16 = mean[0]-variable_10.mean()\n",
    "score16"
   ]
  },
  {
   "cell_type": "code",
   "execution_count": 243,
   "metadata": {},
   "outputs": [
    {
     "data": {
      "text/plain": [
       "0.002454460225793044"
      ]
     },
     "execution_count": 243,
     "metadata": {},
     "output_type": "execute_result"
    }
   ],
   "source": [
    "std16 = variable_10.std()\n",
    "std16"
   ]
  },
  {
   "cell_type": "code",
   "execution_count": 244,
   "metadata": {},
   "outputs": [
    {
     "data": {
      "text/plain": [
       "array([0.26225, 0.26225, 0.26225, 0.26225, 0.26225, 0.26225, 0.26225,\n",
       "       0.26225, 0.26225, 0.26225, 0.26225, 0.26225, 0.26225, 0.26225,\n",
       "       0.26225, 0.26225, 0.26225, 0.26225, 0.26225, 0.26225])"
      ]
     },
     "execution_count": 244,
     "metadata": {},
     "output_type": "execute_result"
    }
   ],
   "source": [
    "variable_11 = np.zeros(20)\n",
    "for i in range(len(variable_11)):\n",
    "   df = pd.read_csv(feat_files17[i])\n",
    "   variable_11[i] = df[metric_columns].mean()[2]\n",
    "variable_11"
   ]
  },
  {
   "cell_type": "code",
   "execution_count": 245,
   "metadata": {},
   "outputs": [
    {
     "data": {
      "text/plain": [
       "0.0"
      ]
     },
     "execution_count": 245,
     "metadata": {},
     "output_type": "execute_result"
    }
   ],
   "source": [
    "score17 = mean[0]-variable_11.mean()\n",
    "score17"
   ]
  },
  {
   "cell_type": "code",
   "execution_count": 246,
   "metadata": {},
   "outputs": [
    {
     "data": {
      "text/plain": [
       "0.0"
      ]
     },
     "execution_count": 246,
     "metadata": {},
     "output_type": "execute_result"
    }
   ],
   "source": [
    "std17 = variable_11.std()\n",
    "std17"
   ]
  },
  {
   "cell_type": "code",
   "execution_count": 422,
   "metadata": {},
   "outputs": [
    {
     "data": {
      "text/html": [
       "<div>\n",
       "<style scoped>\n",
       "    .dataframe tbody tr th:only-of-type {\n",
       "        vertical-align: middle;\n",
       "    }\n",
       "\n",
       "    .dataframe tbody tr th {\n",
       "        vertical-align: top;\n",
       "    }\n",
       "\n",
       "    .dataframe thead th {\n",
       "        text-align: right;\n",
       "    }\n",
       "</style>\n",
       "<table border=\"1\" class=\"dataframe\">\n",
       "  <thead>\n",
       "    <tr style=\"text-align: right;\">\n",
       "      <th></th>\n",
       "      <th>edge</th>\n",
       "      <th>CF1</th>\n",
       "      <th>CF2</th>\n",
       "      <th>CF3</th>\n",
       "      <th>CF4</th>\n",
       "      <th>CF5</th>\n",
       "      <th>VF2</th>\n",
       "      <th>VF5</th>\n",
       "      <th>VF6</th>\n",
       "      <th>VF7</th>\n",
       "      <th>VF8</th>\n",
       "      <th>VF9</th>\n",
       "      <th>VF10</th>\n",
       "      <th>VF11</th>\n",
       "      <th>VF12</th>\n",
       "      <th>VF13</th>\n",
       "      <th>VF1</th>\n",
       "    </tr>\n",
       "  </thead>\n",
       "  <tbody>\n",
       "    <tr>\n",
       "      <th>0</th>\n",
       "      <td>0.007825</td>\n",
       "      <td>0.004588</td>\n",
       "      <td>0.0047</td>\n",
       "      <td>0.162725</td>\n",
       "      <td>0.009462</td>\n",
       "      <td>0.206437</td>\n",
       "      <td>0.027487</td>\n",
       "      <td>0.040275</td>\n",
       "      <td>0.070212</td>\n",
       "      <td>0.380912</td>\n",
       "      <td>0.10275</td>\n",
       "      <td>0.012925</td>\n",
       "      <td>0.021312</td>\n",
       "      <td>0.210425</td>\n",
       "      <td>-0.00455</td>\n",
       "      <td>0.004212</td>\n",
       "      <td>0.0</td>\n",
       "    </tr>\n",
       "  </tbody>\n",
       "</table>\n",
       "</div>"
      ],
      "text/plain": [
       "       edge       CF1     CF2       CF3       CF4       CF5       VF2  \\\n",
       "0  0.007825  0.004588  0.0047  0.162725  0.009462  0.206437  0.027487   \n",
       "\n",
       "        VF5       VF6       VF7      VF8       VF9      VF10      VF11  \\\n",
       "0  0.040275  0.070212  0.380912  0.10275  0.012925  0.021312  0.210425   \n",
       "\n",
       "      VF12      VF13  VF1  \n",
       "0 -0.00455  0.004212  0.0  "
      ]
     },
     "execution_count": 422,
     "metadata": {},
     "output_type": "execute_result"
    }
   ],
   "source": [
    "data = {\n",
    "    'edge' :[score1],\n",
    "    'CF1' :[score2],\n",
    "    'CF2':[score3],\n",
    "    'CF3':[score4],\n",
    "    'CF4':[score5],\n",
    "    'CF5':[score6],\n",
    "    'VF2':[score7],\n",
    "    'VF5':[score8],\n",
    "    'VF6':[score9],\n",
    "    'VF7':[score10],\n",
    "    'VF8':[score11],\n",
    "    'VF9':[score12],\n",
    "    'VF10':[score13],\n",
    "    'VF11':[score14],\n",
    "    'VF12':[score15],\n",
    "    'VF13':[score16],\n",
    "    'VF1':[score17]\n",
    "}\n",
    "df= pd.DataFrame(data)\n",
    "df"
   ]
  },
  {
   "cell_type": "code",
   "execution_count": 423,
   "metadata": {},
   "outputs": [],
   "source": [
    "data_x = np.arange(17)\n",
    "data_y = [score1,score2,score3,score4,score5,score6,score17,score7,score8,score9,score10,score11,score12,score13,score14,score15,score16]\n",
    "std_err=[std1,std2,std3,std4,std5,std6,std17,std7,std8,std9,std10,std11,std12,std13,std14,std15,std16]\n",
    "tick = (\"edge\",\"CF1\",\"CF2\",\"CF3\",\"CF4\",\"CF5\",\"VF1\",\"VF2\",\"VF3\",\"VF4\",\"VF5\",\"VF6\",\"VF7\",\"VF8\",\"VF9\",\"VF10\",\"VF11\")\n",
    "# # df = pd.DataFrame(data)\n",
    "# df.index=[' ']\n",
    "# df"
   ]
  },
  {
   "cell_type": "code",
   "execution_count": 71,
   "metadata": {},
   "outputs": [
    {
     "data": {
      "text/plain": [
       "[0.007825000000000082,\n",
       " 0.004587500000000078,\n",
       " 0.0046999999999999265,\n",
       " 0.1627249999999998,\n",
       " 0.00946249999999993,\n",
       " 0.20643749999999983,\n",
       " 0.0,\n",
       " 0.027487499999999776,\n",
       " 0.04027499999999995,\n",
       " 0.0702124999999999,\n",
       " 0.3809125,\n",
       " 0.1027499999999999,\n",
       " 0.012924999999999853,\n",
       " 0.021312499999999956,\n",
       " 0.21042499999999997,\n",
       " -0.004550000000000054,\n",
       " 0.004212499999999841]"
      ]
     },
     "execution_count": 71,
     "metadata": {},
     "output_type": "execute_result"
    }
   ],
   "source": [
    "data_set = [score1,score2,score3,score4,score5,score6,score17,score7,score8,score9,score10,score11,score12,score13,score14,score15,score16]\n",
    "std_err_set=[std1,std2,std3,std4,std5,std6,std17,std7,std8,std9,std10,std11,std12,std13,std14,std15,std16]\n",
    "data_set"
   ]
  },
  {
   "cell_type": "code",
   "execution_count": 131,
   "metadata": {},
   "outputs": [
    {
     "data": {
      "text/plain": [
       "[0.00286249999999999,\n",
       " 0.028787499999999966,\n",
       " 0.01232499999999992,\n",
       " 0.00482500000000019,\n",
       " -0.002387499999999987,\n",
       " -2.5000000000052758e-05,\n",
       " 0.0,\n",
       " 0.020412499999999945,\n",
       " 0.11397500000000005,\n",
       " 0.06691249999999982,\n",
       " 0.3467125,\n",
       " 0.2654749999999999,\n",
       " 0.007150000000000101,\n",
       " 0.0180499999999999,\n",
       " 0.10373750000000004,\n",
       " -0.0043875000000001,\n",
       " -0.004850000000000021]"
      ]
     },
     "execution_count": 131,
     "metadata": {},
     "output_type": "execute_result"
    }
   ],
   "source": [
    "data_cau = [score1,score2,score3,score4,score5,score6,score17,score7,score8,score9,score10,score11,score12,score13,score14,score15,score16]\n",
    "std_err_cau=[std1,std2,std3,std4,std5,std6,std17,std7,std8,std9,std10,std11,std12,std13,std14,std15,std16]\n",
    "data_cau"
   ]
  },
  {
   "cell_type": "code",
   "execution_count": 188,
   "metadata": {},
   "outputs": [
    {
     "data": {
      "text/plain": [
       "[-0.0011750000000000371,\n",
       " -0.005087500000000245,\n",
       " -0.006125000000000269,\n",
       " 0.0007249999999996426,\n",
       " 0.0003249999999997977,\n",
       " -7.500000000015827e-05,\n",
       " 0.16547499999999982,\n",
       " -0.0010625000000001883,\n",
       " -0.0035875000000000767,\n",
       " -0.0006625000000001213,\n",
       " 0.1111249999999997,\n",
       " -0.006500000000000283,\n",
       " -0.0005375000000000796,\n",
       " -0.0016125000000002387,\n",
       " 0.0024125000000000396,\n",
       " -0.0012250000000001426,\n",
       " -0.00010000000000010001]"
      ]
     },
     "execution_count": 188,
     "metadata": {},
     "output_type": "execute_result"
    }
   ],
   "source": [
    "data_fac = [score1,score2,score3,score4,score5,score6,score17,score7,score8,score9,score10,score11,score12,score13,score14,score15,score16]\n",
    "std_err_fac=[std1,std2,std3,std4,std5,std6,std17,std7,std8,std9,std10,std11,std12,std13,std14,std15,std16]\n",
    "data_fac"
   ]
  },
  {
   "cell_type": "code",
   "execution_count": 247,
   "metadata": {},
   "outputs": [
    {
     "data": {
      "text/plain": [
       "[-0.007212500000000011,\n",
       " 0.037325000000000025,\n",
       " 0.041624999999999995,\n",
       " 0.00495000000000001,\n",
       " 0.0047000000000000375,\n",
       " 0.0021625000000000116,\n",
       " 0.0,\n",
       " 0.0,\n",
       " -0.016625,\n",
       " 0.004325000000000023,\n",
       " 0.005949999999999955,\n",
       " -0.06686250000000005,\n",
       " -0.04335,\n",
       " -0.034312500000000024,\n",
       " 0.020062499999999983,\n",
       " 0.006387499999999935,\n",
       " 0.010774999999999979]"
      ]
     },
     "execution_count": 247,
     "metadata": {},
     "output_type": "execute_result"
    }
   ],
   "source": [
    "data_ind = [score1,score2,score3,score4,score5,score6,score17,score7,score8,score9,score10,score11,score12,score13,score14,score15,score16]\n",
    "std_err_ind=[std1,std2,std3,std4,std5,std6,std17,std7,std8,std9,std10,std11,std12,std13,std14,std15,std16]\n",
    "data_ind"
   ]
  },
  {
   "cell_type": "code",
   "execution_count": 262,
   "metadata": {},
   "outputs": [
    {
     "data": {
      "text/plain": [
       "<matplotlib.legend.Legend at 0x29dafca83a0>"
      ]
     },
     "execution_count": 262,
     "metadata": {},
     "output_type": "execute_result"
    },
    {
     "data": {
      "image/png": "[encoded data removed]",
      "text/plain": [
       "<Figure size 576x360 with 1 Axes>"
      ]
     },
     "metadata": {
      "needs_background": "light"
     },
     "output_type": "display_data"
    }
   ],
   "source": [
    "tick = (\"edge\",\"CF1\",\"CF2\",\"CF3\",\"CF4\",\"CF5\",\"VF1\",\"VF2\",\"VF3\",\"VF4\",\"VF5\",\"VF6\",\"VF7\",\"VF8\",\"VF9\",\"VF10\",\"VF11\")\n",
    "plt.figure(figsize=(8,5))\n",
    "bar_width = 0.4\n",
    "plt.xlabel(\"Bigraph features\",fontsize=10)\n",
    "plt.ylabel(\"BPFI scores on acc@5 accuracy\",fontsize=10)\n",
    "error_params=dict(elinewidth=4,ecolor='coral',capsize=5)\n",
    "plt.plot(tick,data_set,linestyle='--',linewidth=1.8)\n",
    "plt.plot(tick,data_cau,linestyle='-.',linewidth=1.8)\n",
    "plt.plot(tick,data_ind,linestyle=':',linewidth=1.8)\n",
    "plt.plot(tick,data_fac,dashes=[6, 4],linewidth=1.8)\n",
    "#plt.tight_layout()\n",
    "plt.xticks(rotation=290)\n",
    "plt.tick_params(labelsize=10) \n",
    "plt.legend(['Set Covering', 'Combinatorial Auction','Maximum Independent Set','Capacitated Facility Location'])\n",
    "plt.savefig('score.pdf',bbox_inches = \"tight\")"
   ]
  },
  {
   "cell_type": "code",
   "execution_count": 741,
   "metadata": {},
   "outputs": [
    {
     "data": {
      "text/plain": [
       "<matplotlib.legend.Legend at 0x1cbdba91a30>"
      ]
     },
     "execution_count": 741,
     "metadata": {},
     "output_type": "execute_result"
    },
    {
     "data": {
      "image/png": "[encoded data removed]",
      "text/plain": [
       "<Figure size 720x576 with 1 Axes>"
      ]
     },
     "metadata": {
      "needs_background": "light"
     },
     "output_type": "display_data"
    }
   ],
   "source": [
    "\n",
    "X = np.arange(17)\n",
    "plt.figure(figsize=(10,8))\n",
    "#添加子图区域\n",
    "#绘制柱状图\n",
    "plt.bar(X + 0.00, std_err_set, width = 0.25)\n",
    "plt.bar(X + 0.25, std_err_cau,  width = 0.25)\n",
    "plt.bar(X + 0.50, std_err_ind,  width = 0.25)\n",
    "plt.bar(X + 0.75, std_err_fac,  width = 0.25)\n",
    "plt.legend(['Setcover', 'Cauctions','Indset','Facilities'])"
   ]
  },
  {
   "cell_type": "code",
   "execution_count": 754,
   "metadata": {},
   "outputs": [
    {
     "data": {
      "image/png": "[encoded data removed]",
      "text/plain": [
       "<Figure size 720x576 with 1 Axes>"
      ]
     },
     "metadata": {
      "needs_background": "light"
     },
     "output_type": "display_data"
    }
   ],
   "source": [
    "\n",
    "plt.figure(figsize=(10,8))\n",
    "label = ['Setcover', 'Cauctions','Indset','Facilities']\n",
    "plt.stackplot(,std_err_set,std_err_cau,std_err_ind,std_err_fac,labels=label)\n",
    "plt.xlabel('Features',fontsize=20)  # x轴标题\n",
    "plt.ylabel('Errors',fontsize=20)  # y轴标题\n",
    "plt.xticks(rotation=290)\n",
    "plt.tick_params(labelsize=15)\n",
    "plt.legend(['Setcover', 'Cauctions','Indset','Facilities'])\n",
    "plt.savefig('err.pdf')"
   ]
  },
  {
   "cell_type": "code",
   "execution_count": 424,
   "metadata": {},
   "outputs": [
    {
     "data": {
      "image/png": "[encoded data removed]",
      "text/plain": [
       "<Figure size 720x576 with 1 Axes>"
      ]
     },
     "metadata": {
      "needs_background": "light"
     },
     "output_type": "display_data"
    }
   ],
   "source": [
    "plt.figure(figsize=(10,8))\n",
    "bar_width = 0.4\n",
    "plt.xlabel(\"Features\",fontsize=20)\n",
    "plt.ylabel(\"Scores\",fontsize=20)\n",
    "error_params=dict(elinewidth=4,ecolor='coral',capsize=5)\n",
    "plt.bar(x = tick,height = data_y,yerr = std_err,error_kw=error_params)\n",
    "#plt.tight_layout()\n",
    "plt.ylim((-0.07,0.40))\n",
    "plt.xticks(rotation=290)\n",
    "plt.tick_params(labelsize=15) \n",
    "#plt.show()\n",
    "plt.savefig('b.pdf')\n",
    "#plt.savefig('4.pdf',bbox_inches = \"tight\")\n",
    "# ax.set_title(\"SetCover_Permutation\")\n",
    "# ax.set_ylabel('acc@10')\n",
    "# ax.set_ylim(-0.06,0.30)\n",
    "# ax.set_xlim(-0.4,0.3)"
   ]
  },
  {
   "cell_type": "code",
   "execution_count": 67,
   "metadata": {},
   "outputs": [
    {
     "data": {
      "image/png": "[encoded data removed]",
      "text/plain": [
       "<Figure size 432x288 with 1 Axes>"
      ]
     },
     "metadata": {
      "needs_background": "light"
     },
     "output_type": "display_data"
    }
   ],
   "source": [
    "ax = plt.gca()\n",
    "ax.xaxis.set_ticks_position(\"bottom\")\n",
    "ax.yaxis.set_ticks_position(\"left\")\n",
    "ax.spines[\"bottom\"].set_position((\"data\",0))\n",
    "plt.show()"
   ]
  },
  {
   "cell_type": "code",
   "execution_count": 486,
   "metadata": {},
   "outputs": [
    {
     "data": {
      "image/png": "[encoded data removed]",
      "text/plain": [
       "<Figure size 720x576 with 1 Axes>"
      ]
     },
     "metadata": {
      "needs_background": "light"
     },
     "output_type": "display_data"
    }
   ],
   "source": [
    "plt.figure(figsize=(10,8))\n",
    "x = [\"Setco1\", \"Setco2\",\"Cauct1\",\"Cauct2\",\"Indset1\",\"Indset2\",\"Facilit1\",\"Facilit2\"]\n",
    "y1 = [1, 1, 1, 1, 1, 1, 1,1]\n",
    "y2 = [0.9772, 0.9353, 1.0066, 0.9826, 0.3530, 4.2284, 0.9726,1.0075]\n",
    "#绘制折线图，添加数据点，设置点的大小\n",
    "# * 表示绘制五角星；此处也可以不设置线条颜色，matplotlib会自动为线条添加不同的颜色\n",
    "plt.plot(x, y1, 'r',marker='.', markersize=10)\n",
    "plt.plot(x, y2, 'b', marker='.',markersize=10)\n",
    "#plt.title('ML-B&B solution efficiencies terms of number of B&B nodes')  # 折线图标题\n",
    "plt.xlabel('Problems',fontsize=20)  # x轴标题\n",
    "plt.ylabel('The number of nodes',fontsize=20)  # y轴标题\n",
    "#给图像添加注释，并设置样式\n",
    "#for a, b in zip(x, y1):\n",
    "   # plt.text(a, b, b, ha='center', va='bottom', fontsize=10)\n",
    "for a, b in zip(x, y2):\n",
    "    plt.text(a, b, b, ha='center', va='bottom', fontsize=10)\n",
    "#绘制图例\n",
    "plt.legend(['model1', 'model2'])\n",
    "plt.tick_params(labelsize=15) \n",
    "#plt.yscale(\"log\")\n",
    "plt.ylim((0,4.5))\n",
    "#显示图像\n",
    "#plt.show()\n",
    "plt.savefig(\"node.pdf\")"
   ]
  },
  {
   "cell_type": "code",
   "execution_count": null,
   "metadata": {},
   "outputs": [],
   "source": [
    "x = [\"Setco1\", \"Setco2\",\"Cauct1\",\"Cauct2\",\"Indset1\",\"Indset2\",\"Facilit1\",\"Facilit2\"]\n",
    "y1 = [1, 1, 1, 1, 1, 1, 1,1]\n",
    "y2 = [0.9772, 0.9353, 1.0066, 0.9826, 0.3530, 4.2284, 0.9726,1.0075]"
   ]
  },
  {
   "cell_type": "code",
   "execution_count": 488,
   "metadata": {},
   "outputs": [
    {
     "data": {
      "image/png": "[encoded data removed]",
      "text/plain": [
       "<Figure size 720x576 with 1 Axes>"
      ]
     },
     "metadata": {
      "needs_background": "light"
     },
     "output_type": "display_data"
    }
   ],
   "source": [
    "plt.figure(figsize=(10,8))\n",
    "x = [\"Setco1\", \"Setco2\",\"Cauct1\",\"Cauct2\",\"Indset1\",\"Indset2\",\"Facilit1\",\"Facilit2\"]\n",
    "y1 = [1, 1, 1, 1, 1, 1, 1,1]\n",
    "y2 = [0.9732, 0.9212, 0.9938, 0.9575, 0.4898, 3.7540, 0.9779,0.9798]\n",
    "#绘制折线图，添加数据点，设置点的大小\n",
    "# * 表示绘制五角星；此处也可以不设置线条颜色，matplotlib会自动为线条添加不同的颜色\n",
    "plt.plot(x, y1, 'r', marker='.',markersize=10)\n",
    "plt.plot(x, y2, 'b', marker='.',markersize=10)\n",
    "#plt.title('ML-B&B solution efficiencies terms of soving time')  # 折线图标题\n",
    "plt.xlabel('Problems',fontsize=20)  # x轴标题\n",
    "plt.ylabel('Time',fontsize=20)  # y轴标题\n",
    "#给图像添加注释，并设置样式\n",
    "#plt.axhline(0, linestyle='--')\n",
    "#for a, b in zip(x, y1):\n",
    "  #  plt.text(a, b, b, ha='center', va='bottom', fontsize=10)\n",
    "for a, b in zip(x, y2):\n",
    "    plt.text(a, b, b, ha='center', va='bottom', fontsize=10)\n",
    "plt.tick_params(labelsize=15) \n",
    "plt.ylim((0,4.5))\n",
    "#绘制图例\n",
    "#plt.legend(['model1', 'model2'])\n",
    "#plt.yscale(\"log\")\n",
    "#显示图像\n",
    "#plt.show()\n",
    "plt.savefig(\"time.pdf\")"
   ]
  },
  {
   "cell_type": "code",
   "execution_count": 263,
   "metadata": {},
   "outputs": [
    {
     "data": {
      "image/png": "[encoded data removed]",
      "text/plain": [
       "<Figure size 576x360 with 1 Axes>"
      ]
     },
     "metadata": {
      "needs_background": "light"
     },
     "output_type": "display_data"
    }
   ],
   "source": [
    "plt.figure(figsize=(8,5))\n",
    "x = [\"SC(easy)\", \"SC(medium)\",\"CC(easy)\",\"CC(medium)\",\"IS(easy)\",\"IS(medium)\",\"FL(easy)\",\"FL(medium)\"]\n",
    "model1 = [38,18,49,41,41,63,42,40]\n",
    "model2 = [62,82,51,59,59,37,58,60]\n",
    "plt.bar(x,model2,label='model1',hatch='\\\\',alpha=0.9,edgecolor = 'white')\n",
    "plt.bar(x,model1,bottom=model2,label='model2',alpha=0.2)\n",
    "#plt.bar(x,model1,bottom=model2,label='model2',color = 'white',edgecolor='black')\n",
    "# alpha=0.9,\n",
    "plt.legend(['BPFI-GCNN', 'Full GCNN'])\n",
    "plt.axhline(y=50, color='black', linestyle='-.')\n",
    "#plt.title('ML-B&B solution efficiencies terms of wins')  # 折线图标题\n",
    "plt.xlabel('Problems',fontsize=10)  # x轴标题\n",
    "plt.ylabel('The number of Wins',fontsize=10)  # y轴标题\n",
    "plt.xticks(rotation=20)\n",
    "plt.tick_params(labelsize=10) \n",
    "plt.savefig(\"20.pdf\",bbox_inches = \"tight\")"
   ]
  }
 ],
 "metadata": {
  "interpreter": {
   "hash": "460d1e8ad1f65cd67cc2e10e182dc6d962fbacdc13e4644fd11070703448b767"
  },
  "kernelspec": {
   "display_name": "Python 3.8.10 64-bit ('learn2branch': conda)",
   "language": "python",
   "name": "python3"
  },
  "language_info": {
   "codemirror_mode": {
    "name": "ipython",
    "version": 3
   },
   "file_extension": ".py",
   "mimetype": "text/x-python",
   "name": "python",
   "nbconvert_exporter": "python",
   "pygments_lexer": "ipython3",
   "version": "3.8.10"
  },
  "orig_nbformat": 4
 },
 "nbformat": 4,
 "nbformat_minor": 2
}
