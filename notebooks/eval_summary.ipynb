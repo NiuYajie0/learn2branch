{
 "cells": [
  {
   "cell_type": "code",
   "execution_count": 1,
   "metadata": {},
   "outputs": [],
   "source": [
    "import os\n",
    "os.chdir(\"../\")"
   ]
  },
  {
   "cell_type": "code",
   "execution_count": 2,
   "metadata": {},
   "outputs": [],
   "source": [
    "import glob\n",
    "import pandas as pd\n",
    "import time\n",
    "import numpy as np\n",
    "from scipy import stats"
   ]
  },
  {
   "cell_type": "code",
   "execution_count": 76,
   "metadata": {},
   "outputs": [],
   "source": [
    "resultDir = 'results'\n",
    "problem = 'cauctions' # choices=['setcover', 'cauctions', 'facilities', 'indset']\n",
    "sampling_Strategies = ['uniform5','depthK','depthK2'] # choices: uniform5, depthK, depthK2, depthK3\n",
    "seeds = [0,1,2,3,4]"
   ]
  },
  {
   "cell_type": "code",
   "execution_count": 77,
   "metadata": {},
   "outputs": [],
   "source": [
    "eval_files = glob.glob(f'{resultDir}/{problem}_*.csv')\n",
    "eval_file = eval_files[-1]\n",
    "\n",
    "df = pd.read_csv(eval_file)\n",
    "df = pd.concat([df[df['type']=='small'], df[df['type']=='medium']])\n",
    "df = df.astype({'nlps': float, 'nnodes' : float})\n",
    "\n",
    "df_gcnns = df[df['policy'] != 'internal:relpscost'].copy()"
   ]
  },
  {
   "cell_type": "code",
   "execution_count": 78,
   "metadata": {},
   "outputs": [],
   "source": [
    "def gmean_1shifted(x):\n",
    "    return stats.mstats.gmean(x + 1) - 1"
   ]
  },
  {
   "cell_type": "markdown",
   "metadata": {},
   "source": [
    "# 1. Means"
   ]
  },
  {
   "cell_type": "code",
   "execution_count": 138,
   "metadata": {},
   "outputs": [
    {
     "data": {
      "text/html": [
       "<div>\n",
       "<style scoped>\n",
       "    .dataframe tbody tr th:only-of-type {\n",
       "        vertical-align: middle;\n",
       "    }\n",
       "\n",
       "    .dataframe tbody tr th {\n",
       "        vertical-align: top;\n",
       "    }\n",
       "\n",
       "    .dataframe thead th {\n",
       "        text-align: right;\n",
       "    }\n",
       "</style>\n",
       "<table border=\"1\" class=\"dataframe\">\n",
       "  <thead>\n",
       "    <tr style=\"text-align: right;\">\n",
       "      <th></th>\n",
       "      <th></th>\n",
       "      <th>nnodes</th>\n",
       "      <th>stime</th>\n",
       "    </tr>\n",
       "    <tr>\n",
       "      <th>type</th>\n",
       "      <th>sampling_strategy</th>\n",
       "      <th></th>\n",
       "      <th></th>\n",
       "    </tr>\n",
       "  </thead>\n",
       "  <tbody>\n",
       "    <tr>\n",
       "      <th rowspan=\"3\" valign=\"top\">medium</th>\n",
       "      <th>depthK</th>\n",
       "      <td>1175.979549</td>\n",
       "      <td>59.232734</td>\n",
       "    </tr>\n",
       "    <tr>\n",
       "      <th>depthK2</th>\n",
       "      <td>1189.875678</td>\n",
       "      <td>60.563289</td>\n",
       "    </tr>\n",
       "    <tr>\n",
       "      <th>uniform5</th>\n",
       "      <td>1203.071862</td>\n",
       "      <td>61.204966</td>\n",
       "    </tr>\n",
       "    <tr>\n",
       "      <th rowspan=\"3\" valign=\"top\">small</th>\n",
       "      <th>depthK</th>\n",
       "      <td>67.402727</td>\n",
       "      <td>5.757237</td>\n",
       "    </tr>\n",
       "    <tr>\n",
       "      <th>depthK2</th>\n",
       "      <td>63.955518</td>\n",
       "      <td>5.662016</td>\n",
       "    </tr>\n",
       "    <tr>\n",
       "      <th>uniform5</th>\n",
       "      <td>65.949223</td>\n",
       "      <td>5.805463</td>\n",
       "    </tr>\n",
       "  </tbody>\n",
       "</table>\n",
       "</div>"
      ],
      "text/plain": [
       "                               nnodes      stime\n",
       "type   sampling_strategy                        \n",
       "medium depthK             1175.979549  59.232734\n",
       "       depthK2            1189.875678  60.563289\n",
       "       uniform5           1203.071862  61.204966\n",
       "small  depthK               67.402727   5.757237\n",
       "       depthK2              63.955518   5.662016\n",
       "       uniform5             65.949223   5.805463"
      ]
     },
     "execution_count": 138,
     "metadata": {},
     "output_type": "execute_result"
    }
   ],
   "source": [
    "dfgcnns_gmean = df_gcnns.groupby(['type','sampling_strategy'])[['nnodes', 'stime']].agg(gmean_1shifted)\n",
    "dfgcnns_mean = df_gcnns.groupby(['type','sampling_strategy'])[['nnodes', 'stime']].mean()\n",
    "dfgcnns_gmean"
   ]
  },
  {
   "cell_type": "code",
   "execution_count": 140,
   "metadata": {},
   "outputs": [],
   "source": [
    "def norm_by_uniform5(dfgcnns_grouped):\n",
    "    df_list = []\n",
    "    for probSize in dfgcnns_grouped.index.levels[0]:\n",
    "        df_list.append(dfgcnns_grouped.loc[probSize] / dfgcnns_grouped.loc[(probSize, 'uniform5')])\n",
    "    return pd.concat(df_list, keys=dfgcnns_grouped.index.levels[0])"
   ]
  },
  {
   "cell_type": "code",
   "execution_count": 142,
   "metadata": {},
   "outputs": [
    {
     "data": {
      "text/html": [
       "<div>\n",
       "<style scoped>\n",
       "    .dataframe tbody tr th:only-of-type {\n",
       "        vertical-align: middle;\n",
       "    }\n",
       "\n",
       "    .dataframe tbody tr th {\n",
       "        vertical-align: top;\n",
       "    }\n",
       "\n",
       "    .dataframe thead th {\n",
       "        text-align: right;\n",
       "    }\n",
       "</style>\n",
       "<table border=\"1\" class=\"dataframe\">\n",
       "  <thead>\n",
       "    <tr style=\"text-align: right;\">\n",
       "      <th></th>\n",
       "      <th></th>\n",
       "      <th>nnodes</th>\n",
       "      <th>stime</th>\n",
       "    </tr>\n",
       "    <tr>\n",
       "      <th>type</th>\n",
       "      <th>sampling_strategy</th>\n",
       "      <th></th>\n",
       "      <th></th>\n",
       "    </tr>\n",
       "  </thead>\n",
       "  <tbody>\n",
       "    <tr>\n",
       "      <th rowspan=\"3\" valign=\"top\">medium</th>\n",
       "      <th>depthK</th>\n",
       "      <td>0.977481</td>\n",
       "      <td>0.967777</td>\n",
       "    </tr>\n",
       "    <tr>\n",
       "      <th>depthK2</th>\n",
       "      <td>0.989031</td>\n",
       "      <td>0.989516</td>\n",
       "    </tr>\n",
       "    <tr>\n",
       "      <th>uniform5</th>\n",
       "      <td>1.000000</td>\n",
       "      <td>1.000000</td>\n",
       "    </tr>\n",
       "    <tr>\n",
       "      <th rowspan=\"3\" valign=\"top\">small</th>\n",
       "      <th>depthK</th>\n",
       "      <td>1.022040</td>\n",
       "      <td>0.991693</td>\n",
       "    </tr>\n",
       "    <tr>\n",
       "      <th>depthK2</th>\n",
       "      <td>0.969769</td>\n",
       "      <td>0.975291</td>\n",
       "    </tr>\n",
       "    <tr>\n",
       "      <th>uniform5</th>\n",
       "      <td>1.000000</td>\n",
       "      <td>1.000000</td>\n",
       "    </tr>\n",
       "  </tbody>\n",
       "</table>\n",
       "</div>"
      ],
      "text/plain": [
       "                            nnodes     stime\n",
       "type   sampling_strategy                    \n",
       "medium depthK             0.977481  0.967777\n",
       "       depthK2            0.989031  0.989516\n",
       "       uniform5           1.000000  1.000000\n",
       "small  depthK             1.022040  0.991693\n",
       "       depthK2            0.969769  0.975291\n",
       "       uniform5           1.000000  1.000000"
      ]
     },
     "execution_count": 142,
     "metadata": {},
     "output_type": "execute_result"
    }
   ],
   "source": [
    "dfgcnns_gmean_norm = norm_by_uniform5(dfgcnns_gmean)\n",
    "dfgcnns_mean_norm = norm_by_uniform5(dfgcnns_mean)\n",
    "dfgcnns_gmean_norm"
   ]
  },
  {
   "cell_type": "markdown",
   "metadata": {},
   "source": [
    "# 2. Std variances (per instance)"
   ]
  },
  {
   "cell_type": "code",
   "execution_count": 147,
   "metadata": {},
   "outputs": [],
   "source": [
    "dfgcnns_std_norm_perInstance = df_gcnns.groupby(['type','sampling_strategy','instance']).std() / df_gcnns.groupby(['type','sampling_strategy','instance']).mean()"
   ]
  },
  {
   "cell_type": "code",
   "execution_count": 148,
   "metadata": {},
   "outputs": [
    {
     "data": {
      "text/html": [
       "<div>\n",
       "<style scoped>\n",
       "    .dataframe tbody tr th:only-of-type {\n",
       "        vertical-align: middle;\n",
       "    }\n",
       "\n",
       "    .dataframe tbody tr th {\n",
       "        vertical-align: top;\n",
       "    }\n",
       "\n",
       "    .dataframe thead th {\n",
       "        text-align: right;\n",
       "    }\n",
       "</style>\n",
       "<table border=\"1\" class=\"dataframe\">\n",
       "  <thead>\n",
       "    <tr style=\"text-align: right;\">\n",
       "      <th></th>\n",
       "      <th></th>\n",
       "      <th>nnodes</th>\n",
       "      <th>stime</th>\n",
       "    </tr>\n",
       "    <tr>\n",
       "      <th>type</th>\n",
       "      <th>sampling_strategy</th>\n",
       "      <th></th>\n",
       "      <th></th>\n",
       "    </tr>\n",
       "  </thead>\n",
       "  <tbody>\n",
       "    <tr>\n",
       "      <th rowspan=\"3\" valign=\"top\">medium</th>\n",
       "      <th>depthK</th>\n",
       "      <td>0.119493</td>\n",
       "      <td>0.085076</td>\n",
       "    </tr>\n",
       "    <tr>\n",
       "      <th>depthK2</th>\n",
       "      <td>0.110848</td>\n",
       "      <td>0.088538</td>\n",
       "    </tr>\n",
       "    <tr>\n",
       "      <th>uniform5</th>\n",
       "      <td>0.121829</td>\n",
       "      <td>0.102216</td>\n",
       "    </tr>\n",
       "    <tr>\n",
       "      <th rowspan=\"3\" valign=\"top\">small</th>\n",
       "      <th>depthK</th>\n",
       "      <td>0.164647</td>\n",
       "      <td>0.097555</td>\n",
       "    </tr>\n",
       "    <tr>\n",
       "      <th>depthK2</th>\n",
       "      <td>0.147574</td>\n",
       "      <td>0.087226</td>\n",
       "    </tr>\n",
       "    <tr>\n",
       "      <th>uniform5</th>\n",
       "      <td>0.183908</td>\n",
       "      <td>0.117446</td>\n",
       "    </tr>\n",
       "  </tbody>\n",
       "</table>\n",
       "</div>"
      ],
      "text/plain": [
       "                            nnodes     stime\n",
       "type   sampling_strategy                    \n",
       "medium depthK             0.119493  0.085076\n",
       "       depthK2            0.110848  0.088538\n",
       "       uniform5           0.121829  0.102216\n",
       "small  depthK             0.164647  0.097555\n",
       "       depthK2            0.147574  0.087226\n",
       "       uniform5           0.183908  0.117446"
      ]
     },
     "execution_count": 148,
     "metadata": {},
     "output_type": "execute_result"
    }
   ],
   "source": [
    "dfgcnns_std_norm = dfgcnns_std_norm_perInstance.groupby(['type','sampling_strategy'])[['nnodes','stime']].mean()\n",
    "dfgcnns_std_norm"
   ]
  },
  {
   "cell_type": "markdown",
   "metadata": {},
   "source": [
    "# 做一下 T-Test"
   ]
  },
  {
   "cell_type": "markdown",
   "metadata": {},
   "source": [
    "# 计算Wins"
   ]
  },
  {
   "cell_type": "code",
   "execution_count": 173,
   "metadata": {},
   "outputs": [],
   "source": [
    "ttest_res = pd.DataFrame(index=dfgcnns_mean_norm.index, columns=pd.MultiIndex.from_product((['nnodes', 'stime'], ['t_stats', 'p_value'])))\n",
    "for metric in ['nnodes', 'stime']:\n",
    "    for probSize in dfgcnns_mean_norm.index.levels[0]: # medium, small\n",
    "        mean2 = 1\n",
    "        std2 = dfgcnns_std_norm.at[(probSize,'uniform5'),metric]\n",
    "        for sampling_strategy in dfgcnns_mean_norm.index.levels[1]: # depthK, depthK2, uniform5\n",
    "            mean1 = dfgcnns_mean_norm.at[(probSize,sampling_strategy),metric]\n",
    "            std1_norm = dfgcnns_std_norm.at[(probSize,sampling_strategy),metric]\n",
    "            std1 = std1_norm * mean1\n",
    "            t_stats, p_value = stats.ttest_ind_from_stats(mean1, std1, 100, mean2, std2, 100)\n",
    "            ttest_res.loc[(probSize,sampling_strategy),(metric,)] = [t_stats, p_value]"
   ]
  },
  {
   "cell_type": "code",
   "execution_count": 174,
   "metadata": {},
   "outputs": [
    {
     "data": {
      "text/html": [
       "<div>\n",
       "<style scoped>\n",
       "    .dataframe tbody tr th:only-of-type {\n",
       "        vertical-align: middle;\n",
       "    }\n",
       "\n",
       "    .dataframe tbody tr th {\n",
       "        vertical-align: top;\n",
       "    }\n",
       "\n",
       "    .dataframe thead tr th {\n",
       "        text-align: left;\n",
       "    }\n",
       "\n",
       "    .dataframe thead tr:last-of-type th {\n",
       "        text-align: right;\n",
       "    }\n",
       "</style>\n",
       "<table border=\"1\" class=\"dataframe\">\n",
       "  <thead>\n",
       "    <tr>\n",
       "      <th></th>\n",
       "      <th></th>\n",
       "      <th colspan=\"2\" halign=\"left\">nnodes</th>\n",
       "      <th colspan=\"2\" halign=\"left\">stime</th>\n",
       "    </tr>\n",
       "    <tr>\n",
       "      <th></th>\n",
       "      <th></th>\n",
       "      <th>t_stats</th>\n",
       "      <th>p_value</th>\n",
       "      <th>t_stats</th>\n",
       "      <th>p_value</th>\n",
       "    </tr>\n",
       "    <tr>\n",
       "      <th>type</th>\n",
       "      <th>sampling_strategy</th>\n",
       "      <th></th>\n",
       "      <th></th>\n",
       "      <th></th>\n",
       "      <th></th>\n",
       "    </tr>\n",
       "  </thead>\n",
       "  <tbody>\n",
       "    <tr>\n",
       "      <th rowspan=\"3\" valign=\"top\">medium</th>\n",
       "      <th>depthK</th>\n",
       "      <td>-2.55442</td>\n",
       "      <td>0.0113884</td>\n",
       "      <td>-2.37075</td>\n",
       "      <td>0.0187122</td>\n",
       "    </tr>\n",
       "    <tr>\n",
       "      <th>depthK2</th>\n",
       "      <td>-1.63907</td>\n",
       "      <td>0.102787</td>\n",
       "      <td>-1.51718</td>\n",
       "      <td>0.130816</td>\n",
       "    </tr>\n",
       "    <tr>\n",
       "      <th>uniform5</th>\n",
       "      <td>0</td>\n",
       "      <td>1</td>\n",
       "      <td>0</td>\n",
       "      <td>1</td>\n",
       "    </tr>\n",
       "    <tr>\n",
       "      <th rowspan=\"3\" valign=\"top\">small</th>\n",
       "      <th>depthK</th>\n",
       "      <td>-0.52574</td>\n",
       "      <td>0.599657</td>\n",
       "      <td>-1.01789</td>\n",
       "      <td>0.309971</td>\n",
       "    </tr>\n",
       "    <tr>\n",
       "      <th>depthK2</th>\n",
       "      <td>-1.76068</td>\n",
       "      <td>0.0798366</td>\n",
       "      <td>-2.08273</td>\n",
       "      <td>0.0385604</td>\n",
       "    </tr>\n",
       "    <tr>\n",
       "      <th>uniform5</th>\n",
       "      <td>0</td>\n",
       "      <td>1</td>\n",
       "      <td>0</td>\n",
       "      <td>1</td>\n",
       "    </tr>\n",
       "  </tbody>\n",
       "</table>\n",
       "</div>"
      ],
      "text/plain": [
       "                           nnodes               stime           \n",
       "                          t_stats    p_value  t_stats    p_value\n",
       "type   sampling_strategy                                        \n",
       "medium depthK            -2.55442  0.0113884 -2.37075  0.0187122\n",
       "       depthK2           -1.63907   0.102787 -1.51718   0.130816\n",
       "       uniform5                 0          1        0          1\n",
       "small  depthK            -0.52574   0.599657 -1.01789   0.309971\n",
       "       depthK2           -1.76068  0.0798366 -2.08273  0.0385604\n",
       "       uniform5                 0          1        0          1"
      ]
     },
     "execution_count": 174,
     "metadata": {},
     "output_type": "execute_result"
    }
   ],
   "source": [
    "ttest_res"
   ]
  },
  {
   "cell_type": "code",
   "execution_count": 84,
   "metadata": {},
   "outputs": [
    {
     "data": {
      "text/plain": [
       "type    instance                                                  seed\n",
       "medium  data/instances/cauctions/transfer_200_1000/instance_1.lp  0       300.0\n",
       "                                                                  1       301.0\n",
       "                                                                  2       307.0\n",
       "                                                                  3       313.0\n",
       "                                                                  4       304.0\n",
       "                                                                          ...  \n",
       "small   data/instances/cauctions/transfer_100_500/instance_9.lp   0       130.0\n",
       "                                                                  1       126.0\n",
       "                                                                  2       132.0\n",
       "                                                                  3       133.0\n",
       "                                                                  4       124.0\n",
       "Name: stime, Length: 200, dtype: float64"
      ]
     },
     "execution_count": 84,
     "metadata": {},
     "output_type": "execute_result"
    }
   ],
   "source": [
    "winner_idx = df_gcnns.groupby(['type','instance','seed'])['stime'].agg(pd.Series.idxmin)\n",
    "winner_idx"
   ]
  },
  {
   "cell_type": "code",
   "execution_count": 85,
   "metadata": {},
   "outputs": [],
   "source": [
    "df_gcnns['wins'] = 0\n",
    "df_gcnns.loc[winner_idx,'wins'] = 1"
   ]
  },
  {
   "cell_type": "code",
   "execution_count": 86,
   "metadata": {},
   "outputs": [],
   "source": []
  },
  {
   "cell_type": "code",
   "execution_count": 94,
   "metadata": {},
   "outputs": [
    {
     "data": {
      "text/plain": [
       "type    sampling_strategy\n",
       "medium  depthK               41\n",
       "        depthK2              26\n",
       "        uniform5             33\n",
       "small   depthK               25\n",
       "        depthK2              46\n",
       "        uniform5             29\n",
       "Name: Wins, dtype: int64"
      ]
     },
     "execution_count": 94,
     "metadata": {},
     "output_type": "execute_result"
    }
   ],
   "source": [
    "dfgcnns_wins = df_gcnns.groupby(['type', 'sampling_strategy'])['wins'].sum()\n",
    "dfgcnns_wins"
   ]
  },
  {
   "cell_type": "code",
   "execution_count": null,
   "metadata": {},
   "outputs": [],
   "source": [
    "scipy.stats.ttest_ind_from_stats(0.967777, 0.085076*0.967777, 100, 1, 0.102216, 100)"
   ]
  },
  {
   "cell_type": "markdown",
   "metadata": {},
   "source": [
    "# 把Means、std 和 Wins合并起来"
   ]
  },
  {
   "cell_type": "code",
   "execution_count": 103,
   "metadata": {},
   "outputs": [
    {
     "data": {
      "text/html": [
       "<div>\n",
       "<style scoped>\n",
       "    .dataframe tbody tr th:only-of-type {\n",
       "        vertical-align: middle;\n",
       "    }\n",
       "\n",
       "    .dataframe tbody tr th {\n",
       "        vertical-align: top;\n",
       "    }\n",
       "\n",
       "    .dataframe thead tr th {\n",
       "        text-align: left;\n",
       "    }\n",
       "\n",
       "    .dataframe thead tr:last-of-type th {\n",
       "        text-align: right;\n",
       "    }\n",
       "</style>\n",
       "<table border=\"1\" class=\"dataframe\">\n",
       "  <thead>\n",
       "    <tr>\n",
       "      <th></th>\n",
       "      <th></th>\n",
       "      <th colspan=\"2\" halign=\"left\">gmean</th>\n",
       "      <th colspan=\"2\" halign=\"left\">std</th>\n",
       "      <th>wins</th>\n",
       "    </tr>\n",
       "    <tr>\n",
       "      <th></th>\n",
       "      <th></th>\n",
       "      <th>nnodes</th>\n",
       "      <th>stime</th>\n",
       "      <th>nnodes</th>\n",
       "      <th>stime</th>\n",
       "      <th>Wins</th>\n",
       "    </tr>\n",
       "    <tr>\n",
       "      <th>type</th>\n",
       "      <th>sampling_strategy</th>\n",
       "      <th></th>\n",
       "      <th></th>\n",
       "      <th></th>\n",
       "      <th></th>\n",
       "      <th></th>\n",
       "    </tr>\n",
       "  </thead>\n",
       "  <tbody>\n",
       "    <tr>\n",
       "      <th rowspan=\"3\" valign=\"top\">medium</th>\n",
       "      <th>depthK</th>\n",
       "      <td>0.977481</td>\n",
       "      <td>0.967777</td>\n",
       "      <td>0.119493</td>\n",
       "      <td>0.085076</td>\n",
       "      <td>41</td>\n",
       "    </tr>\n",
       "    <tr>\n",
       "      <th>depthK2</th>\n",
       "      <td>0.989031</td>\n",
       "      <td>0.989516</td>\n",
       "      <td>0.110848</td>\n",
       "      <td>0.088538</td>\n",
       "      <td>26</td>\n",
       "    </tr>\n",
       "    <tr>\n",
       "      <th>uniform5</th>\n",
       "      <td>1.000000</td>\n",
       "      <td>1.000000</td>\n",
       "      <td>0.121829</td>\n",
       "      <td>0.102216</td>\n",
       "      <td>33</td>\n",
       "    </tr>\n",
       "    <tr>\n",
       "      <th rowspan=\"3\" valign=\"top\">small</th>\n",
       "      <th>depthK</th>\n",
       "      <td>1.022040</td>\n",
       "      <td>0.991693</td>\n",
       "      <td>0.164647</td>\n",
       "      <td>0.097555</td>\n",
       "      <td>25</td>\n",
       "    </tr>\n",
       "    <tr>\n",
       "      <th>depthK2</th>\n",
       "      <td>0.969769</td>\n",
       "      <td>0.975291</td>\n",
       "      <td>0.147574</td>\n",
       "      <td>0.087226</td>\n",
       "      <td>46</td>\n",
       "    </tr>\n",
       "    <tr>\n",
       "      <th>uniform5</th>\n",
       "      <td>1.000000</td>\n",
       "      <td>1.000000</td>\n",
       "      <td>0.183908</td>\n",
       "      <td>0.117446</td>\n",
       "      <td>29</td>\n",
       "    </tr>\n",
       "  </tbody>\n",
       "</table>\n",
       "</div>"
      ],
      "text/plain": [
       "                             gmean                 std           wins\n",
       "                            nnodes     stime    nnodes     stime Wins\n",
       "type   sampling_strategy                                             \n",
       "medium depthK             0.977481  0.967777  0.119493  0.085076   41\n",
       "       depthK2            0.989031  0.989516  0.110848  0.088538   26\n",
       "       uniform5           1.000000  1.000000  0.121829  0.102216   33\n",
       "small  depthK             1.022040  0.991693  0.164647  0.097555   25\n",
       "       depthK2            0.969769  0.975291  0.147574  0.087226   46\n",
       "       uniform5           1.000000  1.000000  0.183908  0.117446   29"
      ]
     },
     "execution_count": 103,
     "metadata": {},
     "output_type": "execute_result"
    }
   ],
   "source": [
    "pd.concat([dfgcnns_gmean_norm, dfgcnns_std_norm, dfgcnns_wins], axis=1, keys=['gmean','std','wins'])"
   ]
  },
  {
   "cell_type": "code",
   "execution_count": 249,
   "metadata": {},
   "outputs": [
    {
     "data": {
      "text/plain": [
       "MultiIndex([( 'small', 'uniform5'),\n",
       "            ( 'small',   'depthK'),\n",
       "            ( 'small',  'depthK2'),\n",
       "            ('medium', 'uniform5'),\n",
       "            ('medium',   'depthK'),\n",
       "            ('medium',  'depthK2')],\n",
       "           names=['type', 'sampling_strategy'])"
      ]
     },
     "execution_count": 249,
     "metadata": {},
     "output_type": "execute_result"
    }
   ],
   "source": [
    "output_idx = pd.MultiIndex.from_product((['small', 'medium'], sampling_Strategies), names=['type', 'sampling_strategy'])\n",
    "output_idx"
   ]
  },
  {
   "cell_type": "code",
   "execution_count": 250,
   "metadata": {},
   "outputs": [],
   "source": [
    "output_df_mean = dfgcnns_gmean_norm.reindex(output_idx)\n",
    "output_df_std = dfgcnns_std_norm.reindex(output_idx)\n",
    "output_df_wins = dfgcnns_wins.reindex(output_idx)\n",
    "output_df_ttest = ttest_res.reindex(output_idx)"
   ]
  },
  {
   "cell_type": "code",
   "execution_count": 251,
   "metadata": {},
   "outputs": [
    {
     "data": {
      "text/html": [
       "<div>\n",
       "<style scoped>\n",
       "    .dataframe tbody tr th:only-of-type {\n",
       "        vertical-align: middle;\n",
       "    }\n",
       "\n",
       "    .dataframe tbody tr th {\n",
       "        vertical-align: top;\n",
       "    }\n",
       "\n",
       "    .dataframe thead th {\n",
       "        text-align: right;\n",
       "    }\n",
       "</style>\n",
       "<table border=\"1\" class=\"dataframe\">\n",
       "  <thead>\n",
       "    <tr style=\"text-align: right;\">\n",
       "      <th></th>\n",
       "      <th></th>\n",
       "      <th>nnodes</th>\n",
       "      <th>stime</th>\n",
       "      <th>wins</th>\n",
       "      <th>t-stats (p-val)</th>\n",
       "    </tr>\n",
       "    <tr>\n",
       "      <th>type</th>\n",
       "      <th>sampling_strategy</th>\n",
       "      <th></th>\n",
       "      <th></th>\n",
       "      <th></th>\n",
       "      <th></th>\n",
       "    </tr>\n",
       "  </thead>\n",
       "  <tbody>\n",
       "    <tr>\n",
       "      <th rowspan=\"3\" valign=\"top\">small</th>\n",
       "      <th>uniform5</th>\n",
       "      <td>NaN</td>\n",
       "      <td>NaN</td>\n",
       "      <td>NaN</td>\n",
       "      <td>NaN</td>\n",
       "    </tr>\n",
       "    <tr>\n",
       "      <th>depthK</th>\n",
       "      <td>NaN</td>\n",
       "      <td>NaN</td>\n",
       "      <td>NaN</td>\n",
       "      <td>NaN</td>\n",
       "    </tr>\n",
       "    <tr>\n",
       "      <th>depthK2</th>\n",
       "      <td>NaN</td>\n",
       "      <td>NaN</td>\n",
       "      <td>NaN</td>\n",
       "      <td>NaN</td>\n",
       "    </tr>\n",
       "    <tr>\n",
       "      <th rowspan=\"3\" valign=\"top\">medium</th>\n",
       "      <th>uniform5</th>\n",
       "      <td>NaN</td>\n",
       "      <td>NaN</td>\n",
       "      <td>NaN</td>\n",
       "      <td>NaN</td>\n",
       "    </tr>\n",
       "    <tr>\n",
       "      <th>depthK</th>\n",
       "      <td>NaN</td>\n",
       "      <td>NaN</td>\n",
       "      <td>NaN</td>\n",
       "      <td>NaN</td>\n",
       "    </tr>\n",
       "    <tr>\n",
       "      <th>depthK2</th>\n",
       "      <td>NaN</td>\n",
       "      <td>NaN</td>\n",
       "      <td>NaN</td>\n",
       "      <td>NaN</td>\n",
       "    </tr>\n",
       "  </tbody>\n",
       "</table>\n",
       "</div>"
      ],
      "text/plain": [
       "                         nnodes stime wins t-stats (p-val)\n",
       "type   sampling_strategy                                  \n",
       "small  uniform5             NaN   NaN  NaN             NaN\n",
       "       depthK               NaN   NaN  NaN             NaN\n",
       "       depthK2              NaN   NaN  NaN             NaN\n",
       "medium uniform5             NaN   NaN  NaN             NaN\n",
       "       depthK               NaN   NaN  NaN             NaN\n",
       "       depthK2              NaN   NaN  NaN             NaN"
      ]
     },
     "execution_count": 251,
     "metadata": {},
     "output_type": "execute_result"
    }
   ],
   "source": [
    "out_df1 = pd.DataFrame(index=output_idx, columns=['nnodes', 'stime', 'wins', 't-stats (p-val)'])\n",
    "out_df1"
   ]
  },
  {
   "cell_type": "code",
   "execution_count": 252,
   "metadata": {},
   "outputs": [],
   "source": [
    "for col_name in ['nnodes', 'stime']:\n",
    "    out_df1[col_name] = [\"%.4fr ± %.2f\" % (m, s*100) + \"%\" for (m, s) in zip(output_df_mean[col_name], output_df_std[col_name])]\n",
    "out_df1['wins'] = output_df_wins"
   ]
  },
  {
   "cell_type": "code",
   "execution_count": 253,
   "metadata": {},
   "outputs": [],
   "source": [
    "out_df1['t-stats (p-val)'] = [\"%.2f(%.4f)\" % (t, p) for (t, p) in zip(output_df_ttest[('stime','t_stats')], output_df_ttest[('stime','p_value')])]"
   ]
  },
  {
   "cell_type": "code",
   "execution_count": 254,
   "metadata": {},
   "outputs": [
    {
     "data": {
      "text/html": [
       "<div>\n",
       "<style scoped>\n",
       "    .dataframe tbody tr th:only-of-type {\n",
       "        vertical-align: middle;\n",
       "    }\n",
       "\n",
       "    .dataframe tbody tr th {\n",
       "        vertical-align: top;\n",
       "    }\n",
       "\n",
       "    .dataframe thead th {\n",
       "        text-align: right;\n",
       "    }\n",
       "</style>\n",
       "<table border=\"1\" class=\"dataframe\">\n",
       "  <thead>\n",
       "    <tr style=\"text-align: right;\">\n",
       "      <th></th>\n",
       "      <th></th>\n",
       "      <th>nnodes</th>\n",
       "      <th>stime</th>\n",
       "      <th>wins</th>\n",
       "      <th>t-stats (p-val)</th>\n",
       "    </tr>\n",
       "    <tr>\n",
       "      <th>type</th>\n",
       "      <th>sampling_strategy</th>\n",
       "      <th></th>\n",
       "      <th></th>\n",
       "      <th></th>\n",
       "      <th></th>\n",
       "    </tr>\n",
       "  </thead>\n",
       "  <tbody>\n",
       "    <tr>\n",
       "      <th rowspan=\"3\" valign=\"top\">small</th>\n",
       "      <th>uniform5</th>\n",
       "      <td>1.0000r ± 18.39%</td>\n",
       "      <td>1.0000r ± 11.74%</td>\n",
       "      <td>29</td>\n",
       "      <td>0.00(1.0000)</td>\n",
       "    </tr>\n",
       "    <tr>\n",
       "      <th>depthK</th>\n",
       "      <td>1.0220r ± 16.46%</td>\n",
       "      <td>0.9917r ± 9.76%</td>\n",
       "      <td>25</td>\n",
       "      <td>-1.02(0.3100)</td>\n",
       "    </tr>\n",
       "    <tr>\n",
       "      <th>depthK2</th>\n",
       "      <td>0.9698r ± 14.76%</td>\n",
       "      <td>0.9753r ± 8.72%</td>\n",
       "      <td>46</td>\n",
       "      <td>-2.08(0.0386)</td>\n",
       "    </tr>\n",
       "    <tr>\n",
       "      <th rowspan=\"3\" valign=\"top\">medium</th>\n",
       "      <th>uniform5</th>\n",
       "      <td>1.0000r ± 12.18%</td>\n",
       "      <td>1.0000r ± 10.22%</td>\n",
       "      <td>33</td>\n",
       "      <td>0.00(1.0000)</td>\n",
       "    </tr>\n",
       "    <tr>\n",
       "      <th>depthK</th>\n",
       "      <td>0.9775r ± 11.95%</td>\n",
       "      <td>0.9678r ± 8.51%</td>\n",
       "      <td>41</td>\n",
       "      <td>-2.37(0.0187)</td>\n",
       "    </tr>\n",
       "    <tr>\n",
       "      <th>depthK2</th>\n",
       "      <td>0.9890r ± 11.08%</td>\n",
       "      <td>0.9895r ± 8.85%</td>\n",
       "      <td>26</td>\n",
       "      <td>-1.52(0.1308)</td>\n",
       "    </tr>\n",
       "  </tbody>\n",
       "</table>\n",
       "</div>"
      ],
      "text/plain": [
       "                                    nnodes             stime  wins  \\\n",
       "type   sampling_strategy                                             \n",
       "small  uniform5           1.0000r ± 18.39%  1.0000r ± 11.74%    29   \n",
       "       depthK             1.0220r ± 16.46%   0.9917r ± 9.76%    25   \n",
       "       depthK2            0.9698r ± 14.76%   0.9753r ± 8.72%    46   \n",
       "medium uniform5           1.0000r ± 12.18%  1.0000r ± 10.22%    33   \n",
       "       depthK             0.9775r ± 11.95%   0.9678r ± 8.51%    41   \n",
       "       depthK2            0.9890r ± 11.08%   0.9895r ± 8.85%    26   \n",
       "\n",
       "                         t-stats (p-val)  \n",
       "type   sampling_strategy                  \n",
       "small  uniform5             0.00(1.0000)  \n",
       "       depthK              -1.02(0.3100)  \n",
       "       depthK2             -2.08(0.0386)  \n",
       "medium uniform5             0.00(1.0000)  \n",
       "       depthK              -2.37(0.0187)  \n",
       "       depthK2             -1.52(0.1308)  "
      ]
     },
     "execution_count": 254,
     "metadata": {},
     "output_type": "execute_result"
    }
   ],
   "source": [
    "out_df1"
   ]
  },
  {
   "cell_type": "code",
   "execution_count": null,
   "metadata": {},
   "outputs": [],
   "source": []
  }
 ],
 "metadata": {
  "interpreter": {
   "hash": "a2197b5b8e9b471505d2ded00a61d2651dac29e8904a63bed27e0708da5f1381"
  },
  "kernelspec": {
   "display_name": "Python 3.8.5 64-bit ('learn2branch': conda)",
   "name": "python3"
  },
  "language_info": {
   "codemirror_mode": {
    "name": "ipython",
    "version": 3
   },
   "file_extension": ".py",
   "mimetype": "text/x-python",
   "name": "python",
   "nbconvert_exporter": "python",
   "pygments_lexer": "ipython3",
   "version": "3.8.5"
  },
  "orig_nbformat": 4
 },
 "nbformat": 4,
 "nbformat_minor": 2
}