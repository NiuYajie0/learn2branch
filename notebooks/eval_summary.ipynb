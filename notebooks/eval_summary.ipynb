{
 "cells": [
  {
   "cell_type": "code",
   "execution_count": 1,
   "metadata": {},
   "outputs": [],
   "source": [
    "import os\n",
    "os.chdir(\"../\")"
   ]
  },
  {
   "cell_type": "code",
   "execution_count": 2,
   "metadata": {},
   "outputs": [],
   "source": [
    "import glob\n",
    "import pandas as pd\n",
    "import time\n",
    "import numpy as np\n",
    "from scipy import stats"
   ]
  },
  {
   "cell_type": "code",
   "execution_count": 203,
   "metadata": {},
   "outputs": [],
   "source": [
    "resultDir = 'results'\n",
    "problem = 'setcover' # choices=['setcover', 'cauctions', 'facilities', 'indset']\n",
    "sampling_Strategies = ['uniform5','depthK','depthK2'] # choices: uniform5, depthK, depthK2, depthK3\n",
    "seeds = [0,1,2,3,4]"
   ]
  },
  {
   "cell_type": "code",
   "execution_count": 204,
   "metadata": {},
   "outputs": [],
   "source": [
    "eval_files = glob.glob(f'{resultDir}/{problem}_*.csv')\n",
    "eval_file = eval_files[-1]\n",
    "\n",
    "df = pd.read_csv(eval_file)\n",
    "df = pd.concat([df[df['type']=='small'], df[df['type']=='medium']])\n",
    "df = df.astype({'nlps': float, 'nnodes' : float})\n",
    "\n",
    "df_gcnns = df[df['policy'] != 'internal:relpscost']"
   ]
  },
  {
   "cell_type": "code",
   "execution_count": 205,
   "metadata": {},
   "outputs": [],
   "source": [
    "def gmean_1shifted(x):\n",
    "    return stats.mstats.gmean(x + 1) - 1"
   ]
  },
  {
   "cell_type": "markdown",
   "metadata": {},
   "source": [
    "# 1. Means"
   ]
  },
  {
   "cell_type": "code",
   "execution_count": 206,
   "metadata": {},
   "outputs": [
    {
     "data": {
      "text/html": [
       "<div>\n",
       "<style scoped>\n",
       "    .dataframe tbody tr th:only-of-type {\n",
       "        vertical-align: middle;\n",
       "    }\n",
       "\n",
       "    .dataframe tbody tr th {\n",
       "        vertical-align: top;\n",
       "    }\n",
       "\n",
       "    .dataframe thead th {\n",
       "        text-align: right;\n",
       "    }\n",
       "</style>\n",
       "<table border=\"1\" class=\"dataframe\">\n",
       "  <thead>\n",
       "    <tr style=\"text-align: right;\">\n",
       "      <th></th>\n",
       "      <th></th>\n",
       "      <th>nnodes</th>\n",
       "      <th>stime</th>\n",
       "    </tr>\n",
       "    <tr>\n",
       "      <th>type</th>\n",
       "      <th>sampling_strategy</th>\n",
       "      <th></th>\n",
       "      <th></th>\n",
       "    </tr>\n",
       "  </thead>\n",
       "  <tbody>\n",
       "    <tr>\n",
       "      <th rowspan=\"3\" valign=\"top\">medium</th>\n",
       "      <th>depthK</th>\n",
       "      <td>4190.855958</td>\n",
       "      <td>253.702280</td>\n",
       "    </tr>\n",
       "    <tr>\n",
       "      <th>depthK2</th>\n",
       "      <td>3810.886626</td>\n",
       "      <td>232.361865</td>\n",
       "    </tr>\n",
       "    <tr>\n",
       "      <th>uniform5</th>\n",
       "      <td>3715.530265</td>\n",
       "      <td>226.510969</td>\n",
       "    </tr>\n",
       "    <tr>\n",
       "      <th rowspan=\"3\" valign=\"top\">small</th>\n",
       "      <th>depthK</th>\n",
       "      <td>203.614339</td>\n",
       "      <td>22.818759</td>\n",
       "    </tr>\n",
       "    <tr>\n",
       "      <th>depthK2</th>\n",
       "      <td>201.301752</td>\n",
       "      <td>22.547455</td>\n",
       "    </tr>\n",
       "    <tr>\n",
       "      <th>uniform5</th>\n",
       "      <td>200.481202</td>\n",
       "      <td>22.689888</td>\n",
       "    </tr>\n",
       "  </tbody>\n",
       "</table>\n",
       "</div>"
      ],
      "text/plain": [
       "                               nnodes       stime\n",
       "type   sampling_strategy                         \n",
       "medium depthK             4190.855958  253.702280\n",
       "       depthK2            3810.886626  232.361865\n",
       "       uniform5           3715.530265  226.510969\n",
       "small  depthK              203.614339   22.818759\n",
       "       depthK2             201.301752   22.547455\n",
       "       uniform5            200.481202   22.689888"
      ]
     },
     "execution_count": 206,
     "metadata": {},
     "output_type": "execute_result"
    }
   ],
   "source": [
    "dfgrouped_gmean = df_gcnns.groupby(['type','sampling_strategy'])[['nnodes', 'stime']].agg(gmean_1shifted)\n",
    "dfgrouped_gmean"
   ]
  },
  {
   "cell_type": "code",
   "execution_count": 207,
   "metadata": {},
   "outputs": [
    {
     "data": {
      "text/html": [
       "<div>\n",
       "<style scoped>\n",
       "    .dataframe tbody tr th:only-of-type {\n",
       "        vertical-align: middle;\n",
       "    }\n",
       "\n",
       "    .dataframe tbody tr th {\n",
       "        vertical-align: top;\n",
       "    }\n",
       "\n",
       "    .dataframe thead th {\n",
       "        text-align: right;\n",
       "    }\n",
       "</style>\n",
       "<table border=\"1\" class=\"dataframe\">\n",
       "  <thead>\n",
       "    <tr style=\"text-align: right;\">\n",
       "      <th></th>\n",
       "      <th>nnodes</th>\n",
       "      <th>stime</th>\n",
       "    </tr>\n",
       "    <tr>\n",
       "      <th>sampling_strategy</th>\n",
       "      <th></th>\n",
       "      <th></th>\n",
       "    </tr>\n",
       "  </thead>\n",
       "  <tbody>\n",
       "    <tr>\n",
       "      <th>depthK</th>\n",
       "      <td>1.015628</td>\n",
       "      <td>1.005680</td>\n",
       "    </tr>\n",
       "    <tr>\n",
       "      <th>depthK2</th>\n",
       "      <td>1.004093</td>\n",
       "      <td>0.993723</td>\n",
       "    </tr>\n",
       "    <tr>\n",
       "      <th>uniform5</th>\n",
       "      <td>1.000000</td>\n",
       "      <td>1.000000</td>\n",
       "    </tr>\n",
       "  </tbody>\n",
       "</table>\n",
       "</div>"
      ],
      "text/plain": [
       "                     nnodes     stime\n",
       "sampling_strategy                    \n",
       "depthK             1.015628  1.005680\n",
       "depthK2            1.004093  0.993723\n",
       "uniform5           1.000000  1.000000"
      ]
     },
     "execution_count": 207,
     "metadata": {},
     "output_type": "execute_result"
    }
   ],
   "source": [
    "dfgrouped_gmean.loc['small'] / dfgrouped_gmean.loc[('small', 'uniform5')]"
   ]
  },
  {
   "cell_type": "code",
   "execution_count": 208,
   "metadata": {},
   "outputs": [
    {
     "data": {
      "text/html": [
       "<div>\n",
       "<style scoped>\n",
       "    .dataframe tbody tr th:only-of-type {\n",
       "        vertical-align: middle;\n",
       "    }\n",
       "\n",
       "    .dataframe tbody tr th {\n",
       "        vertical-align: top;\n",
       "    }\n",
       "\n",
       "    .dataframe thead th {\n",
       "        text-align: right;\n",
       "    }\n",
       "</style>\n",
       "<table border=\"1\" class=\"dataframe\">\n",
       "  <thead>\n",
       "    <tr style=\"text-align: right;\">\n",
       "      <th></th>\n",
       "      <th>nnodes</th>\n",
       "      <th>stime</th>\n",
       "    </tr>\n",
       "    <tr>\n",
       "      <th>sampling_strategy</th>\n",
       "      <th></th>\n",
       "      <th></th>\n",
       "    </tr>\n",
       "  </thead>\n",
       "  <tbody>\n",
       "    <tr>\n",
       "      <th>depthK</th>\n",
       "      <td>1.127929</td>\n",
       "      <td>1.120044</td>\n",
       "    </tr>\n",
       "    <tr>\n",
       "      <th>depthK2</th>\n",
       "      <td>1.025664</td>\n",
       "      <td>1.025831</td>\n",
       "    </tr>\n",
       "    <tr>\n",
       "      <th>uniform5</th>\n",
       "      <td>1.000000</td>\n",
       "      <td>1.000000</td>\n",
       "    </tr>\n",
       "  </tbody>\n",
       "</table>\n",
       "</div>"
      ],
      "text/plain": [
       "                     nnodes     stime\n",
       "sampling_strategy                    \n",
       "depthK             1.127929  1.120044\n",
       "depthK2            1.025664  1.025831\n",
       "uniform5           1.000000  1.000000"
      ]
     },
     "execution_count": 208,
     "metadata": {},
     "output_type": "execute_result"
    }
   ],
   "source": [
    "dfgrouped_gmean.loc[('medium')] / dfgrouped_gmean.loc[('medium', 'uniform5')]"
   ]
  },
  {
   "cell_type": "markdown",
   "metadata": {},
   "source": [
    "# 2. Std variances (per instance)"
   ]
  },
  {
   "cell_type": "code",
   "execution_count": 209,
   "metadata": {},
   "outputs": [],
   "source": [
    "std_df = df_gcnns.groupby(['type','sampling_strategy','instance']).std() / df_gcnns.groupby(['type','sampling_strategy','instance']).mean()"
   ]
  },
  {
   "cell_type": "code",
   "execution_count": 210,
   "metadata": {},
   "outputs": [
    {
     "data": {
      "text/html": [
       "<div>\n",
       "<style scoped>\n",
       "    .dataframe tbody tr th:only-of-type {\n",
       "        vertical-align: middle;\n",
       "    }\n",
       "\n",
       "    .dataframe tbody tr th {\n",
       "        vertical-align: top;\n",
       "    }\n",
       "\n",
       "    .dataframe thead th {\n",
       "        text-align: right;\n",
       "    }\n",
       "</style>\n",
       "<table border=\"1\" class=\"dataframe\">\n",
       "  <thead>\n",
       "    <tr style=\"text-align: right;\">\n",
       "      <th></th>\n",
       "      <th></th>\n",
       "      <th>nnodes</th>\n",
       "      <th>stime</th>\n",
       "    </tr>\n",
       "    <tr>\n",
       "      <th>type</th>\n",
       "      <th>sampling_strategy</th>\n",
       "      <th></th>\n",
       "      <th></th>\n",
       "    </tr>\n",
       "  </thead>\n",
       "  <tbody>\n",
       "    <tr>\n",
       "      <th rowspan=\"3\" valign=\"top\">medium</th>\n",
       "      <th>depthK</th>\n",
       "      <td>0.134848</td>\n",
       "      <td>0.115929</td>\n",
       "    </tr>\n",
       "    <tr>\n",
       "      <th>depthK2</th>\n",
       "      <td>0.134719</td>\n",
       "      <td>0.116474</td>\n",
       "    </tr>\n",
       "    <tr>\n",
       "      <th>uniform5</th>\n",
       "      <td>0.078641</td>\n",
       "      <td>0.070094</td>\n",
       "    </tr>\n",
       "    <tr>\n",
       "      <th rowspan=\"3\" valign=\"top\">small</th>\n",
       "      <th>depthK</th>\n",
       "      <td>0.085575</td>\n",
       "      <td>0.047489</td>\n",
       "    </tr>\n",
       "    <tr>\n",
       "      <th>depthK2</th>\n",
       "      <td>0.084428</td>\n",
       "      <td>0.049129</td>\n",
       "    </tr>\n",
       "    <tr>\n",
       "      <th>uniform5</th>\n",
       "      <td>0.080582</td>\n",
       "      <td>0.040424</td>\n",
       "    </tr>\n",
       "  </tbody>\n",
       "</table>\n",
       "</div>"
      ],
      "text/plain": [
       "                            nnodes     stime\n",
       "type   sampling_strategy                    \n",
       "medium depthK             0.134848  0.115929\n",
       "       depthK2            0.134719  0.116474\n",
       "       uniform5           0.078641  0.070094\n",
       "small  depthK             0.085575  0.047489\n",
       "       depthK2            0.084428  0.049129\n",
       "       uniform5           0.080582  0.040424"
      ]
     },
     "execution_count": 210,
     "metadata": {},
     "output_type": "execute_result"
    }
   ],
   "source": [
    "std_df_final = std_df.groupby(['type','sampling_strategy'])[['nnodes','stime']].mean()\n",
    "std_df_final"
   ]
  },
  {
   "cell_type": "markdown",
   "metadata": {},
   "source": [
    "# 3. 计算Wins"
   ]
  },
  {
   "cell_type": "code",
   "execution_count": 212,
   "metadata": {},
   "outputs": [
    {
     "name": "stderr",
     "output_type": "stream",
     "text": [
      "/opt/anaconda3/envs/learn2branch/lib/python3.8/site-packages/pandas/core/indexing.py:670: SettingWithCopyWarning: \n",
      "A value is trying to be set on a copy of a slice from a DataFrame\n",
      "\n",
      "See the caveats in the documentation: https://pandas.pydata.org/pandas-docs/stable/user_guide/indexing.html#returning-a-view-versus-a-copy\n",
      "  iloc._setitem_with_indexer(indexer, value)\n"
     ]
    }
   ],
   "source": [
    "df_uniform5 = df_gcnns[df_gcnns['sampling_strategy']=='uniform5']\n",
    "df_depthK = df_gcnns[df_gcnns['sampling_strategy']=='depthK']\n",
    "df_depthK2 = df_gcnns[df_gcnns['sampling_strategy']=='depthK2']\n",
    "df_gcnns['Wins'] = 0"
   ]
  },
  {
   "cell_type": "code",
   "execution_count": 193,
   "metadata": {},
   "outputs": [
    {
     "ename": "IndexingError",
     "evalue": "Unalignable boolean Series provided as indexer (index of the boolean Series and of the indexed object do not match).",
     "output_type": "error",
     "traceback": [
      "\u001b[0;31m---------------------------------------------------------------------------\u001b[0m",
      "\u001b[0;31mIndexingError\u001b[0m                             Traceback (most recent call last)",
      "\u001b[0;32m<ipython-input-193-746345c5b754>\u001b[0m in \u001b[0;36m<module>\u001b[0;34m\u001b[0m\n\u001b[1;32m      8\u001b[0m         \u001b[0;34m(\u001b[0m\u001b[0mdf_gcnns\u001b[0m\u001b[0;34m[\u001b[0m\u001b[0;34m'instance'\u001b[0m\u001b[0;34m]\u001b[0m \u001b[0;34m==\u001b[0m \u001b[0muniform5_row\u001b[0m\u001b[0;34m.\u001b[0m\u001b[0minstance\u001b[0m\u001b[0;34m)\u001b[0m\u001b[0;34m\u001b[0m\u001b[0;34m\u001b[0m\u001b[0m\n\u001b[1;32m      9\u001b[0m     ]\n\u001b[0;32m---> 10\u001b[0;31m     depthK2_row = df.loc[\n\u001b[0m\u001b[1;32m     11\u001b[0m         \u001b[0;34m(\u001b[0m\u001b[0mdf_gcnns\u001b[0m\u001b[0;34m[\u001b[0m\u001b[0;34m'sampling_strategy'\u001b[0m\u001b[0;34m]\u001b[0m \u001b[0;34m==\u001b[0m \u001b[0;34m'depthK2'\u001b[0m\u001b[0;34m)\u001b[0m \u001b[0;34m&\u001b[0m\u001b[0;34m\u001b[0m\u001b[0;34m\u001b[0m\u001b[0m\n\u001b[1;32m     12\u001b[0m         \u001b[0;34m(\u001b[0m\u001b[0mdf_gcnns\u001b[0m\u001b[0;34m[\u001b[0m\u001b[0;34m'policy'\u001b[0m\u001b[0;34m]\u001b[0m \u001b[0;34m==\u001b[0m \u001b[0muniform5_row\u001b[0m\u001b[0;34m.\u001b[0m\u001b[0mpolicy\u001b[0m\u001b[0;34m)\u001b[0m \u001b[0;34m&\u001b[0m\u001b[0;34m\u001b[0m\u001b[0;34m\u001b[0m\u001b[0m\n",
      "\u001b[0;32m/opt/anaconda3/envs/learn2branch/lib/python3.8/site-packages/pandas/core/indexing.py\u001b[0m in \u001b[0;36m__getitem__\u001b[0;34m(self, key)\u001b[0m\n\u001b[1;32m    877\u001b[0m \u001b[0;34m\u001b[0m\u001b[0m\n\u001b[1;32m    878\u001b[0m             \u001b[0mmaybe_callable\u001b[0m \u001b[0;34m=\u001b[0m \u001b[0mcom\u001b[0m\u001b[0;34m.\u001b[0m\u001b[0mapply_if_callable\u001b[0m\u001b[0;34m(\u001b[0m\u001b[0mkey\u001b[0m\u001b[0;34m,\u001b[0m \u001b[0mself\u001b[0m\u001b[0;34m.\u001b[0m\u001b[0mobj\u001b[0m\u001b[0;34m)\u001b[0m\u001b[0;34m\u001b[0m\u001b[0;34m\u001b[0m\u001b[0m\n\u001b[0;32m--> 879\u001b[0;31m             \u001b[0;32mreturn\u001b[0m \u001b[0mself\u001b[0m\u001b[0;34m.\u001b[0m\u001b[0m_getitem_axis\u001b[0m\u001b[0;34m(\u001b[0m\u001b[0mmaybe_callable\u001b[0m\u001b[0;34m,\u001b[0m \u001b[0maxis\u001b[0m\u001b[0;34m=\u001b[0m\u001b[0maxis\u001b[0m\u001b[0;34m)\u001b[0m\u001b[0;34m\u001b[0m\u001b[0;34m\u001b[0m\u001b[0m\n\u001b[0m\u001b[1;32m    880\u001b[0m \u001b[0;34m\u001b[0m\u001b[0m\n\u001b[1;32m    881\u001b[0m     \u001b[0;32mdef\u001b[0m \u001b[0m_is_scalar_access\u001b[0m\u001b[0;34m(\u001b[0m\u001b[0mself\u001b[0m\u001b[0;34m,\u001b[0m \u001b[0mkey\u001b[0m\u001b[0;34m:\u001b[0m \u001b[0mTuple\u001b[0m\u001b[0;34m)\u001b[0m\u001b[0;34m:\u001b[0m\u001b[0;34m\u001b[0m\u001b[0;34m\u001b[0m\u001b[0m\n",
      "\u001b[0;32m/opt/anaconda3/envs/learn2branch/lib/python3.8/site-packages/pandas/core/indexing.py\u001b[0m in \u001b[0;36m_getitem_axis\u001b[0;34m(self, key, axis)\u001b[0m\n\u001b[1;32m   1088\u001b[0m             \u001b[0;32mreturn\u001b[0m \u001b[0mself\u001b[0m\u001b[0;34m.\u001b[0m\u001b[0m_get_slice_axis\u001b[0m\u001b[0;34m(\u001b[0m\u001b[0mkey\u001b[0m\u001b[0;34m,\u001b[0m \u001b[0maxis\u001b[0m\u001b[0;34m=\u001b[0m\u001b[0maxis\u001b[0m\u001b[0;34m)\u001b[0m\u001b[0;34m\u001b[0m\u001b[0;34m\u001b[0m\u001b[0m\n\u001b[1;32m   1089\u001b[0m         \u001b[0;32melif\u001b[0m \u001b[0mcom\u001b[0m\u001b[0;34m.\u001b[0m\u001b[0mis_bool_indexer\u001b[0m\u001b[0;34m(\u001b[0m\u001b[0mkey\u001b[0m\u001b[0;34m)\u001b[0m\u001b[0;34m:\u001b[0m\u001b[0;34m\u001b[0m\u001b[0;34m\u001b[0m\u001b[0m\n\u001b[0;32m-> 1090\u001b[0;31m             \u001b[0;32mreturn\u001b[0m \u001b[0mself\u001b[0m\u001b[0;34m.\u001b[0m\u001b[0m_getbool_axis\u001b[0m\u001b[0;34m(\u001b[0m\u001b[0mkey\u001b[0m\u001b[0;34m,\u001b[0m \u001b[0maxis\u001b[0m\u001b[0;34m=\u001b[0m\u001b[0maxis\u001b[0m\u001b[0;34m)\u001b[0m\u001b[0;34m\u001b[0m\u001b[0;34m\u001b[0m\u001b[0m\n\u001b[0m\u001b[1;32m   1091\u001b[0m         \u001b[0;32melif\u001b[0m \u001b[0mis_list_like_indexer\u001b[0m\u001b[0;34m(\u001b[0m\u001b[0mkey\u001b[0m\u001b[0;34m)\u001b[0m\u001b[0;34m:\u001b[0m\u001b[0;34m\u001b[0m\u001b[0;34m\u001b[0m\u001b[0m\n\u001b[1;32m   1092\u001b[0m \u001b[0;34m\u001b[0m\u001b[0m\n",
      "\u001b[0;32m/opt/anaconda3/envs/learn2branch/lib/python3.8/site-packages/pandas/core/indexing.py\u001b[0m in \u001b[0;36m_getbool_axis\u001b[0;34m(self, key, axis)\u001b[0m\n\u001b[1;32m    894\u001b[0m         \u001b[0;31m# caller is responsible for ensuring non-None axis\u001b[0m\u001b[0;34m\u001b[0m\u001b[0;34m\u001b[0m\u001b[0;34m\u001b[0m\u001b[0m\n\u001b[1;32m    895\u001b[0m         \u001b[0mlabels\u001b[0m \u001b[0;34m=\u001b[0m \u001b[0mself\u001b[0m\u001b[0;34m.\u001b[0m\u001b[0mobj\u001b[0m\u001b[0;34m.\u001b[0m\u001b[0m_get_axis\u001b[0m\u001b[0;34m(\u001b[0m\u001b[0maxis\u001b[0m\u001b[0;34m)\u001b[0m\u001b[0;34m\u001b[0m\u001b[0;34m\u001b[0m\u001b[0m\n\u001b[0;32m--> 896\u001b[0;31m         \u001b[0mkey\u001b[0m \u001b[0;34m=\u001b[0m \u001b[0mcheck_bool_indexer\u001b[0m\u001b[0;34m(\u001b[0m\u001b[0mlabels\u001b[0m\u001b[0;34m,\u001b[0m \u001b[0mkey\u001b[0m\u001b[0;34m)\u001b[0m\u001b[0;34m\u001b[0m\u001b[0;34m\u001b[0m\u001b[0m\n\u001b[0m\u001b[1;32m    897\u001b[0m         \u001b[0minds\u001b[0m \u001b[0;34m=\u001b[0m \u001b[0mkey\u001b[0m\u001b[0;34m.\u001b[0m\u001b[0mnonzero\u001b[0m\u001b[0;34m(\u001b[0m\u001b[0;34m)\u001b[0m\u001b[0;34m[\u001b[0m\u001b[0;36m0\u001b[0m\u001b[0;34m]\u001b[0m\u001b[0;34m\u001b[0m\u001b[0;34m\u001b[0m\u001b[0m\n\u001b[1;32m    898\u001b[0m         \u001b[0;32mreturn\u001b[0m \u001b[0mself\u001b[0m\u001b[0;34m.\u001b[0m\u001b[0mobj\u001b[0m\u001b[0;34m.\u001b[0m\u001b[0m_take_with_is_copy\u001b[0m\u001b[0;34m(\u001b[0m\u001b[0minds\u001b[0m\u001b[0;34m,\u001b[0m \u001b[0maxis\u001b[0m\u001b[0;34m=\u001b[0m\u001b[0maxis\u001b[0m\u001b[0;34m)\u001b[0m\u001b[0;34m\u001b[0m\u001b[0;34m\u001b[0m\u001b[0m\n",
      "\u001b[0;32m/opt/anaconda3/envs/learn2branch/lib/python3.8/site-packages/pandas/core/indexing.py\u001b[0m in \u001b[0;36mcheck_bool_indexer\u001b[0;34m(index, key)\u001b[0m\n\u001b[1;32m   2182\u001b[0m         \u001b[0mmask\u001b[0m \u001b[0;34m=\u001b[0m \u001b[0misna\u001b[0m\u001b[0;34m(\u001b[0m\u001b[0mresult\u001b[0m\u001b[0;34m.\u001b[0m\u001b[0m_values\u001b[0m\u001b[0;34m)\u001b[0m\u001b[0;34m\u001b[0m\u001b[0;34m\u001b[0m\u001b[0m\n\u001b[1;32m   2183\u001b[0m         \u001b[0;32mif\u001b[0m \u001b[0mmask\u001b[0m\u001b[0;34m.\u001b[0m\u001b[0many\u001b[0m\u001b[0;34m(\u001b[0m\u001b[0;34m)\u001b[0m\u001b[0;34m:\u001b[0m\u001b[0;34m\u001b[0m\u001b[0;34m\u001b[0m\u001b[0m\n\u001b[0;32m-> 2184\u001b[0;31m             raise IndexingError(\n\u001b[0m\u001b[1;32m   2185\u001b[0m                 \u001b[0;34m\"Unalignable boolean Series provided as \"\u001b[0m\u001b[0;34m\u001b[0m\u001b[0;34m\u001b[0m\u001b[0m\n\u001b[1;32m   2186\u001b[0m                 \u001b[0;34m\"indexer (index of the boolean Series and of \"\u001b[0m\u001b[0;34m\u001b[0m\u001b[0;34m\u001b[0m\u001b[0m\n",
      "\u001b[0;31mIndexingError\u001b[0m: Unalignable boolean Series provided as indexer (index of the boolean Series and of the indexed object do not match)."
     ]
    }
   ],
   "source": [
    "for i in range(0,len(df_uniform5)):\n",
    "    uniform5_row = df_uniform5.iloc[i]\n",
    "    depthK_row = df_gcnns[\n",
    "        (df_gcnns['sampling_strategy'] == 'depthK') &\n",
    "        (df_gcnns['policy'] == uniform5_row.policy) &\n",
    "        (df_gcnns['seed'] == uniform5_row.seed) &\n",
    "        (df_gcnns['type'] == uniform5_row.type) &\n",
    "        (df_gcnns['instance'] == uniform5_row.instance)\n",
    "    ]\n",
    "    depthK2_row = df.loc[\n",
    "        (df_gcnns['sampling_strategy'] == 'depthK2') &\n",
    "        (df_gcnns['policy'] == uniform5_row.policy) &\n",
    "        (df_gcnns['seed'] == uniform5_row.seed) &\n",
    "        (df_gcnns['type'] == uniform5_row.type) &\n",
    "        (df_gcnns['instance'] == uniform5_row.instance)\n",
    "    ]\n",
    "    winner = np.argmin([uniform5_row.stime, depthK_row.stime.iloc[0], depthK2_row.stime.iloc[0]])\n",
    "    winner = ['uniform5', 'depthK', 'depthK2'][winner]\n",
    "    df_gcnns.loc[ (df_gcnns['sampling_strategy'] == winner) &\n",
    "            (df_gcnns['policy'] == uniform5_row.policy) &\n",
    "            (df_gcnns['seed'] == uniform5_row.seed) &\n",
    "            (df_gcnns['type'] == uniform5_row.type) &\n",
    "            (df_gcnns['instance'] == uniform5_row.instance), 'Wins'] += 1"
   ]
  },
  {
   "cell_type": "code",
   "execution_count": 183,
   "metadata": {},
   "outputs": [
    {
     "data": {
      "text/html": [
       "<div>\n",
       "<style scoped>\n",
       "    .dataframe tbody tr th:only-of-type {\n",
       "        vertical-align: middle;\n",
       "    }\n",
       "\n",
       "    .dataframe tbody tr th {\n",
       "        vertical-align: top;\n",
       "    }\n",
       "\n",
       "    .dataframe thead th {\n",
       "        text-align: right;\n",
       "    }\n",
       "</style>\n",
       "<table border=\"1\" class=\"dataframe\">\n",
       "  <thead>\n",
       "    <tr style=\"text-align: right;\">\n",
       "      <th></th>\n",
       "      <th></th>\n",
       "      <th>seed</th>\n",
       "      <th>nnodes</th>\n",
       "      <th>nlps</th>\n",
       "      <th>stime</th>\n",
       "      <th>gap</th>\n",
       "      <th>ndomchgs</th>\n",
       "      <th>ncutoffs</th>\n",
       "      <th>walltime</th>\n",
       "      <th>proctime</th>\n",
       "      <th>Wins</th>\n",
       "    </tr>\n",
       "    <tr>\n",
       "      <th>type</th>\n",
       "      <th>sampling_strategy</th>\n",
       "      <th></th>\n",
       "      <th></th>\n",
       "      <th></th>\n",
       "      <th></th>\n",
       "      <th></th>\n",
       "      <th></th>\n",
       "      <th></th>\n",
       "      <th></th>\n",
       "      <th></th>\n",
       "      <th></th>\n",
       "    </tr>\n",
       "  </thead>\n",
       "  <tbody>\n",
       "    <tr>\n",
       "      <th rowspan=\"3\" valign=\"top\">medium</th>\n",
       "      <th>depthK</th>\n",
       "      <td>200</td>\n",
       "      <td>64247.0</td>\n",
       "      <td>84807.0</td>\n",
       "      <td>36220.05</td>\n",
       "      <td>0.000000</td>\n",
       "      <td>0</td>\n",
       "      <td>0</td>\n",
       "      <td>36708.903560</td>\n",
       "      <td>36727.453125</td>\n",
       "      <td>25</td>\n",
       "    </tr>\n",
       "    <tr>\n",
       "      <th>depthK2</th>\n",
       "      <td>200</td>\n",
       "      <td>63639.0</td>\n",
       "      <td>83625.0</td>\n",
       "      <td>35724.68</td>\n",
       "      <td>0.000000</td>\n",
       "      <td>0</td>\n",
       "      <td>0</td>\n",
       "      <td>36222.645429</td>\n",
       "      <td>36231.656250</td>\n",
       "      <td>42</td>\n",
       "    </tr>\n",
       "    <tr>\n",
       "      <th>uniform5</th>\n",
       "      <td>200</td>\n",
       "      <td>64226.0</td>\n",
       "      <td>84277.0</td>\n",
       "      <td>36416.79</td>\n",
       "      <td>0.000000</td>\n",
       "      <td>0</td>\n",
       "      <td>0</td>\n",
       "      <td>36908.882507</td>\n",
       "      <td>36924.421875</td>\n",
       "      <td>33</td>\n",
       "    </tr>\n",
       "    <tr>\n",
       "      <th rowspan=\"3\" valign=\"top\">small</th>\n",
       "      <th>depthK</th>\n",
       "      <td>200</td>\n",
       "      <td>126692.0</td>\n",
       "      <td>152892.0</td>\n",
       "      <td>25820.21</td>\n",
       "      <td>0.013059</td>\n",
       "      <td>0</td>\n",
       "      <td>0</td>\n",
       "      <td>26368.496764</td>\n",
       "      <td>26428.218750</td>\n",
       "      <td>39</td>\n",
       "    </tr>\n",
       "    <tr>\n",
       "      <th>depthK2</th>\n",
       "      <td>200</td>\n",
       "      <td>124882.0</td>\n",
       "      <td>153451.0</td>\n",
       "      <td>26464.66</td>\n",
       "      <td>0.017420</td>\n",
       "      <td>0</td>\n",
       "      <td>0</td>\n",
       "      <td>27020.186683</td>\n",
       "      <td>27078.796875</td>\n",
       "      <td>36</td>\n",
       "    </tr>\n",
       "    <tr>\n",
       "      <th>uniform5</th>\n",
       "      <td>200</td>\n",
       "      <td>118822.0</td>\n",
       "      <td>145599.0</td>\n",
       "      <td>26367.50</td>\n",
       "      <td>0.019083</td>\n",
       "      <td>0</td>\n",
       "      <td>0</td>\n",
       "      <td>26912.304422</td>\n",
       "      <td>26978.437500</td>\n",
       "      <td>25</td>\n",
       "    </tr>\n",
       "  </tbody>\n",
       "</table>\n",
       "</div>"
      ],
      "text/plain": [
       "                          seed    nnodes      nlps     stime       gap  \\\n",
       "type   sampling_strategy                                                 \n",
       "medium depthK              200   64247.0   84807.0  36220.05  0.000000   \n",
       "       depthK2             200   63639.0   83625.0  35724.68  0.000000   \n",
       "       uniform5            200   64226.0   84277.0  36416.79  0.000000   \n",
       "small  depthK              200  126692.0  152892.0  25820.21  0.013059   \n",
       "       depthK2             200  124882.0  153451.0  26464.66  0.017420   \n",
       "       uniform5            200  118822.0  145599.0  26367.50  0.019083   \n",
       "\n",
       "                          ndomchgs  ncutoffs      walltime      proctime  Wins  \n",
       "type   sampling_strategy                                                        \n",
       "medium depthK                    0         0  36708.903560  36727.453125    25  \n",
       "       depthK2                   0         0  36222.645429  36231.656250    42  \n",
       "       uniform5                  0         0  36908.882507  36924.421875    33  \n",
       "small  depthK                    0         0  26368.496764  26428.218750    39  \n",
       "       depthK2                   0         0  27020.186683  27078.796875    36  \n",
       "       uniform5                  0         0  26912.304422  26978.437500    25  "
      ]
     },
     "execution_count": 183,
     "metadata": {},
     "output_type": "execute_result"
    }
   ],
   "source": [
    "df_gcnns.groupby(['type', 'sampling_strategy']).sum()"
   ]
  },
  {
   "cell_type": "code",
   "execution_count": null,
   "metadata": {},
   "outputs": [],
   "source": []
  }
 ],
 "metadata": {
  "interpreter": {
   "hash": "a2197b5b8e9b471505d2ded00a61d2651dac29e8904a63bed27e0708da5f1381"
  },
  "kernelspec": {
   "display_name": "Python 3.8.5 64-bit ('learn2branch': conda)",
   "name": "python3"
  },
  "language_info": {
   "codemirror_mode": {
    "name": "ipython",
    "version": 3
   },
   "file_extension": ".py",
   "mimetype": "text/x-python",
   "name": "python",
   "nbconvert_exporter": "python",
   "pygments_lexer": "ipython3",
   "version": "3.8.5"
  },
  "orig_nbformat": 4
 },
 "nbformat": 4,
 "nbformat_minor": 2
}