{
 "cells": [
  {
   "cell_type": "code",
   "execution_count": 1,
   "source": [
    "import os\r\n",
    "os.chdir(\"../\")"
   ],
   "outputs": [],
   "metadata": {}
  },
  {
   "cell_type": "code",
   "execution_count": 2,
   "source": [
    "import glob\r\n",
    "import pandas as pd\r\n",
    "import time\r\n",
    "import numpy as np\r\n",
    "from scipy import stats"
   ],
   "outputs": [],
   "metadata": {}
  },
  {
   "cell_type": "code",
   "execution_count": 3,
   "source": [
    "resultDir = 'results'\r\n",
    "problem = 'setcover' # choices=['setcover', 'cauctions', 'facilities', 'indset']\r\n",
    "problemSizes = ['small', 'medium', 'big']\r\n",
    "sampling_Strategies = ['uniform5','depthK','depthK2'] # choices: uniform5, depthK, depthK2, depthK3\r\n",
    "seeds = [0,1,2,3,4]"
   ],
   "outputs": [],
   "metadata": {}
  },
  {
   "cell_type": "code",
   "execution_count": 104,
   "source": [
    "# f1 = \"cauctions_20210710-004536.csv\"\r\n",
    "# f2 = \"cauctions_20210710-095340.csv\"\r\n",
    "# df1 = pd.read_csv(f\"{resultDir}/{f1}\")\r\n",
    "# df2 = pd.read_csv(f\"{resultDir}/{f2}\")\r\n",
    "# df = pd.concat([df1, df2], ignore_index=True)\r\n",
    "## df.to_csv(f'{resultDir}/eval_cauctions_ss2ts21_25_dsSmall_trainFast.csv')\r\n",
    "\r\n",
    "df = pd.read_csv(f'{resultDir}/eval_cauctions_ss2ts21_25_dsSmall_trainFast.csv')"
   ],
   "outputs": [],
   "metadata": {}
  },
  {
   "cell_type": "code",
   "execution_count": 5,
   "source": [
    "# f1 = \"setcover_20210725-205924.csv\"\r\n",
    "# f2 = \"setcover_20210726-163252.csv\"\r\n",
    "# df1 = pd.read_csv(f\"{resultDir}/{f1}\")\r\n",
    "# df2 = pd.read_csv(f\"{resultDir}/{f2}\")\r\n",
    "# df = pd.concat([df1, df2], ignore_index=True)\r\n",
    "# df.to_csv(f'{resultDir}/eval_cauctions_ss2ts21_25_dsSmall_trainFast.csv')"
   ],
   "outputs": [],
   "metadata": {}
  },
  {
   "cell_type": "code",
   "execution_count": 105,
   "source": [
    "# eval_files = glob.glob(f'{resultDir}/{problem}_*.csv')\r\n",
    "# eval_file = eval_files[-1]\r\n",
    "# eval_file = f\"{resultDir}/cauctions_20210710-004536.csv\"\r\n",
    "\r\n",
    "# df = pd.read_csv(eval_file)\r\n",
    "# df_list = []\r\n",
    "# [df[df['type'] == probSize] for probSize in problemSizes]\r\n",
    "\r\n",
    "# df = pd.concat([df[df['type']=='small'], df[df['type']=='medium']])\r\n",
    "df = pd.concat([df[df['type'] == probSize] for probSize in problemSizes])\r\n",
    "df = df.astype({'nlps': float, 'nnodes' : float})\r\n",
    "\r\n",
    "df_gcnns = df[df['policy'] != 'internal:relpscost'].copy()"
   ],
   "outputs": [],
   "metadata": {}
  },
  {
   "cell_type": "code",
   "execution_count": 106,
   "source": [
    "def gmean_1shifted(x):\r\n",
    "    return stats.mstats.gmean(x + 1) - 1"
   ],
   "outputs": [],
   "metadata": {}
  },
  {
   "cell_type": "markdown",
   "source": [
    "# 1. Means"
   ],
   "metadata": {}
  },
  {
   "cell_type": "code",
   "execution_count": 107,
   "source": [
    "dfgcnns_gmean = df_gcnns.groupby(['type','sampling_strategy'])[['nnodes', 'stime']].agg(gmean_1shifted)\r\n",
    "dfgcnns_mean = df_gcnns.groupby(['type','sampling_strategy'])[['nnodes', 'stime']].mean()\r\n",
    "dfgcnns_gmean"
   ],
   "outputs": [
    {
     "output_type": "execute_result",
     "data": {
      "text/plain": [
       "                               nnodes      stime\n",
       "type   sampling_strategy                        \n",
       "medium depthK             4745.136567  79.191600\n",
       "       depthK2            4860.822315  80.440940\n",
       "       depthK_adaptive    4772.263191  79.813774\n",
       "       depthK_adaptive2   4672.397573  78.489493\n",
       "       uniform5           4418.284715  74.467841"
      ],
      "text/html": [
       "<div>\n",
       "<style scoped>\n",
       "    .dataframe tbody tr th:only-of-type {\n",
       "        vertical-align: middle;\n",
       "    }\n",
       "\n",
       "    .dataframe tbody tr th {\n",
       "        vertical-align: top;\n",
       "    }\n",
       "\n",
       "    .dataframe thead th {\n",
       "        text-align: right;\n",
       "    }\n",
       "</style>\n",
       "<table border=\"1\" class=\"dataframe\">\n",
       "  <thead>\n",
       "    <tr style=\"text-align: right;\">\n",
       "      <th></th>\n",
       "      <th></th>\n",
       "      <th>nnodes</th>\n",
       "      <th>stime</th>\n",
       "    </tr>\n",
       "    <tr>\n",
       "      <th>type</th>\n",
       "      <th>sampling_strategy</th>\n",
       "      <th></th>\n",
       "      <th></th>\n",
       "    </tr>\n",
       "  </thead>\n",
       "  <tbody>\n",
       "    <tr>\n",
       "      <th rowspan=\"5\" valign=\"top\">medium</th>\n",
       "      <th>depthK</th>\n",
       "      <td>4745.136567</td>\n",
       "      <td>79.191600</td>\n",
       "    </tr>\n",
       "    <tr>\n",
       "      <th>depthK2</th>\n",
       "      <td>4860.822315</td>\n",
       "      <td>80.440940</td>\n",
       "    </tr>\n",
       "    <tr>\n",
       "      <th>depthK_adaptive</th>\n",
       "      <td>4772.263191</td>\n",
       "      <td>79.813774</td>\n",
       "    </tr>\n",
       "    <tr>\n",
       "      <th>depthK_adaptive2</th>\n",
       "      <td>4672.397573</td>\n",
       "      <td>78.489493</td>\n",
       "    </tr>\n",
       "    <tr>\n",
       "      <th>uniform5</th>\n",
       "      <td>4418.284715</td>\n",
       "      <td>74.467841</td>\n",
       "    </tr>\n",
       "  </tbody>\n",
       "</table>\n",
       "</div>"
      ]
     },
     "metadata": {},
     "execution_count": 107
    }
   ],
   "metadata": {}
  },
  {
   "cell_type": "code",
   "execution_count": 108,
   "source": [
    "def norm_by_uniform5(dfgcnns_grouped):\r\n",
    "    df_list = []\r\n",
    "    for probSize in dfgcnns_grouped.index.levels[0]:\r\n",
    "        df_list.append(dfgcnns_grouped.loc[probSize] / dfgcnns_grouped.loc[(probSize, 'uniform5')])\r\n",
    "    return pd.concat(df_list, keys=dfgcnns_grouped.index.levels[0])"
   ],
   "outputs": [],
   "metadata": {}
  },
  {
   "cell_type": "code",
   "execution_count": 109,
   "source": [
    "dfgcnns_gmean_norm = norm_by_uniform5(dfgcnns_gmean)\r\n",
    "dfgcnns_mean_norm = norm_by_uniform5(dfgcnns_mean)\r\n",
    "dfgcnns_gmean_norm"
   ],
   "outputs": [
    {
     "output_type": "execute_result",
     "data": {
      "text/plain": [
       "                            nnodes     stime\n",
       "type   sampling_strategy                    \n",
       "medium depthK             1.073977  1.063434\n",
       "       depthK2            1.100160  1.080210\n",
       "       depthK_adaptive    1.080117  1.071788\n",
       "       depthK_adaptive2   1.057514  1.054005\n",
       "       uniform5           1.000000  1.000000"
      ],
      "text/html": [
       "<div>\n",
       "<style scoped>\n",
       "    .dataframe tbody tr th:only-of-type {\n",
       "        vertical-align: middle;\n",
       "    }\n",
       "\n",
       "    .dataframe tbody tr th {\n",
       "        vertical-align: top;\n",
       "    }\n",
       "\n",
       "    .dataframe thead th {\n",
       "        text-align: right;\n",
       "    }\n",
       "</style>\n",
       "<table border=\"1\" class=\"dataframe\">\n",
       "  <thead>\n",
       "    <tr style=\"text-align: right;\">\n",
       "      <th></th>\n",
       "      <th></th>\n",
       "      <th>nnodes</th>\n",
       "      <th>stime</th>\n",
       "    </tr>\n",
       "    <tr>\n",
       "      <th>type</th>\n",
       "      <th>sampling_strategy</th>\n",
       "      <th></th>\n",
       "      <th></th>\n",
       "    </tr>\n",
       "  </thead>\n",
       "  <tbody>\n",
       "    <tr>\n",
       "      <th rowspan=\"5\" valign=\"top\">medium</th>\n",
       "      <th>depthK</th>\n",
       "      <td>1.073977</td>\n",
       "      <td>1.063434</td>\n",
       "    </tr>\n",
       "    <tr>\n",
       "      <th>depthK2</th>\n",
       "      <td>1.100160</td>\n",
       "      <td>1.080210</td>\n",
       "    </tr>\n",
       "    <tr>\n",
       "      <th>depthK_adaptive</th>\n",
       "      <td>1.080117</td>\n",
       "      <td>1.071788</td>\n",
       "    </tr>\n",
       "    <tr>\n",
       "      <th>depthK_adaptive2</th>\n",
       "      <td>1.057514</td>\n",
       "      <td>1.054005</td>\n",
       "    </tr>\n",
       "    <tr>\n",
       "      <th>uniform5</th>\n",
       "      <td>1.000000</td>\n",
       "      <td>1.000000</td>\n",
       "    </tr>\n",
       "  </tbody>\n",
       "</table>\n",
       "</div>"
      ]
     },
     "metadata": {},
     "execution_count": 109
    }
   ],
   "metadata": {}
  },
  {
   "cell_type": "markdown",
   "source": [
    "# 2. Std variances (per instance)"
   ],
   "metadata": {}
  },
  {
   "cell_type": "code",
   "execution_count": 110,
   "source": [
    "dfgcnns_std_norm_perInstance = df_gcnns.groupby(['type','sampling_strategy','instance']).std() / df_gcnns.groupby(['type','sampling_strategy','instance']).mean()"
   ],
   "outputs": [],
   "metadata": {}
  },
  {
   "cell_type": "code",
   "execution_count": 111,
   "source": [
    "dfgcnns_std_norm = dfgcnns_std_norm_perInstance.groupby(['type','sampling_strategy'])[['nnodes','stime']].mean()\r\n",
    "dfgcnns_std_norm"
   ],
   "outputs": [
    {
     "output_type": "execute_result",
     "data": {
      "text/plain": [
       "                            nnodes     stime\n",
       "type   sampling_strategy                    \n",
       "medium depthK             0.100748  0.087365\n",
       "       depthK2            0.078302  0.073612\n",
       "       depthK_adaptive    0.075314  0.062717\n",
       "       depthK_adaptive2   0.151509  0.132745\n",
       "       uniform5           0.090829  0.071019"
      ],
      "text/html": [
       "<div>\n",
       "<style scoped>\n",
       "    .dataframe tbody tr th:only-of-type {\n",
       "        vertical-align: middle;\n",
       "    }\n",
       "\n",
       "    .dataframe tbody tr th {\n",
       "        vertical-align: top;\n",
       "    }\n",
       "\n",
       "    .dataframe thead th {\n",
       "        text-align: right;\n",
       "    }\n",
       "</style>\n",
       "<table border=\"1\" class=\"dataframe\">\n",
       "  <thead>\n",
       "    <tr style=\"text-align: right;\">\n",
       "      <th></th>\n",
       "      <th></th>\n",
       "      <th>nnodes</th>\n",
       "      <th>stime</th>\n",
       "    </tr>\n",
       "    <tr>\n",
       "      <th>type</th>\n",
       "      <th>sampling_strategy</th>\n",
       "      <th></th>\n",
       "      <th></th>\n",
       "    </tr>\n",
       "  </thead>\n",
       "  <tbody>\n",
       "    <tr>\n",
       "      <th rowspan=\"5\" valign=\"top\">medium</th>\n",
       "      <th>depthK</th>\n",
       "      <td>0.100748</td>\n",
       "      <td>0.087365</td>\n",
       "    </tr>\n",
       "    <tr>\n",
       "      <th>depthK2</th>\n",
       "      <td>0.078302</td>\n",
       "      <td>0.073612</td>\n",
       "    </tr>\n",
       "    <tr>\n",
       "      <th>depthK_adaptive</th>\n",
       "      <td>0.075314</td>\n",
       "      <td>0.062717</td>\n",
       "    </tr>\n",
       "    <tr>\n",
       "      <th>depthK_adaptive2</th>\n",
       "      <td>0.151509</td>\n",
       "      <td>0.132745</td>\n",
       "    </tr>\n",
       "    <tr>\n",
       "      <th>uniform5</th>\n",
       "      <td>0.090829</td>\n",
       "      <td>0.071019</td>\n",
       "    </tr>\n",
       "  </tbody>\n",
       "</table>\n",
       "</div>"
      ]
     },
     "metadata": {},
     "execution_count": 111
    }
   ],
   "metadata": {}
  },
  {
   "cell_type": "markdown",
   "source": [
    "# 做一下 T-Test"
   ],
   "metadata": {}
  },
  {
   "cell_type": "markdown",
   "source": [
    "# 计算Wins"
   ],
   "metadata": {}
  },
  {
   "cell_type": "code",
   "execution_count": 112,
   "source": [
    "ttest_res = pd.DataFrame(index=dfgcnns_mean_norm.index, columns=pd.MultiIndex.from_product((['nnodes', 'stime'], ['t_stats', 'p_value'])))\r\n",
    "for metric in ['nnodes', 'stime']:\r\n",
    "    for probSize in dfgcnns_mean_norm.index.levels[0]: # medium, small\r\n",
    "        mean2 = 1\r\n",
    "        std2 = dfgcnns_std_norm.at[(probSize,'uniform5'),metric]\r\n",
    "        for sampling_strategy in dfgcnns_mean_norm.index.levels[1]: # depthK, depthK2, uniform5\r\n",
    "            mean1 = dfgcnns_mean_norm.at[(probSize,sampling_strategy),metric]\r\n",
    "            std1_norm = dfgcnns_std_norm.at[(probSize,sampling_strategy),metric]\r\n",
    "            std1 = std1_norm * mean1\r\n",
    "            t_stats, p_value = stats.ttest_ind_from_stats(mean1, std1, 100, mean2, std2, 100)\r\n",
    "            ttest_res.loc[(probSize,sampling_strategy),(metric,)] = [t_stats, p_value]"
   ],
   "outputs": [],
   "metadata": {}
  },
  {
   "cell_type": "code",
   "execution_count": 113,
   "source": [
    "ttest_res"
   ],
   "outputs": [
    {
     "output_type": "execute_result",
     "data": {
      "text/plain": [
       "                             nnodes                stime        \n",
       "                            t_stats   p_value    t_stats p_value\n",
       "type   sampling_strategy                                        \n",
       "medium depthK             11.013343       0.0  12.230844     0.0\n",
       "       depthK2              9.28446       0.0   9.995676     0.0\n",
       "       depthK_adaptive     8.522014       0.0  10.707979     0.0\n",
       "       depthK_adaptive2     4.78778  0.000003   6.028568     0.0\n",
       "       uniform5                 0.0       1.0        0.0     1.0"
      ],
      "text/html": [
       "<div>\n",
       "<style scoped>\n",
       "    .dataframe tbody tr th:only-of-type {\n",
       "        vertical-align: middle;\n",
       "    }\n",
       "\n",
       "    .dataframe tbody tr th {\n",
       "        vertical-align: top;\n",
       "    }\n",
       "\n",
       "    .dataframe thead tr th {\n",
       "        text-align: left;\n",
       "    }\n",
       "\n",
       "    .dataframe thead tr:last-of-type th {\n",
       "        text-align: right;\n",
       "    }\n",
       "</style>\n",
       "<table border=\"1\" class=\"dataframe\">\n",
       "  <thead>\n",
       "    <tr>\n",
       "      <th></th>\n",
       "      <th></th>\n",
       "      <th colspan=\"2\" halign=\"left\">nnodes</th>\n",
       "      <th colspan=\"2\" halign=\"left\">stime</th>\n",
       "    </tr>\n",
       "    <tr>\n",
       "      <th></th>\n",
       "      <th></th>\n",
       "      <th>t_stats</th>\n",
       "      <th>p_value</th>\n",
       "      <th>t_stats</th>\n",
       "      <th>p_value</th>\n",
       "    </tr>\n",
       "    <tr>\n",
       "      <th>type</th>\n",
       "      <th>sampling_strategy</th>\n",
       "      <th></th>\n",
       "      <th></th>\n",
       "      <th></th>\n",
       "      <th></th>\n",
       "    </tr>\n",
       "  </thead>\n",
       "  <tbody>\n",
       "    <tr>\n",
       "      <th rowspan=\"5\" valign=\"top\">medium</th>\n",
       "      <th>depthK</th>\n",
       "      <td>11.013343</td>\n",
       "      <td>0.0</td>\n",
       "      <td>12.230844</td>\n",
       "      <td>0.0</td>\n",
       "    </tr>\n",
       "    <tr>\n",
       "      <th>depthK2</th>\n",
       "      <td>9.28446</td>\n",
       "      <td>0.0</td>\n",
       "      <td>9.995676</td>\n",
       "      <td>0.0</td>\n",
       "    </tr>\n",
       "    <tr>\n",
       "      <th>depthK_adaptive</th>\n",
       "      <td>8.522014</td>\n",
       "      <td>0.0</td>\n",
       "      <td>10.707979</td>\n",
       "      <td>0.0</td>\n",
       "    </tr>\n",
       "    <tr>\n",
       "      <th>depthK_adaptive2</th>\n",
       "      <td>4.78778</td>\n",
       "      <td>0.000003</td>\n",
       "      <td>6.028568</td>\n",
       "      <td>0.0</td>\n",
       "    </tr>\n",
       "    <tr>\n",
       "      <th>uniform5</th>\n",
       "      <td>0.0</td>\n",
       "      <td>1.0</td>\n",
       "      <td>0.0</td>\n",
       "      <td>1.0</td>\n",
       "    </tr>\n",
       "  </tbody>\n",
       "</table>\n",
       "</div>"
      ]
     },
     "metadata": {},
     "execution_count": 113
    }
   ],
   "metadata": {}
  },
  {
   "cell_type": "code",
   "execution_count": 114,
   "source": [
    "winner_idx = df_gcnns.groupby(['type','instance','seed'])['stime'].agg(pd.Series.idxmin)\r\n",
    "winner_idx"
   ],
   "outputs": [
    {
     "output_type": "execute_result",
     "data": {
      "text/plain": [
       "type    instance                                                          seed\n",
       "medium  data/instances/setcover/transfer_1000r_1000c_0.05d/instance_1.lp  0         5.0\n",
       "                                                                          1         6.0\n",
       "                                                                          2        12.0\n",
       "                                                                          3         3.0\n",
       "                                                                          4         9.0\n",
       "        data/instances/setcover/transfer_1000r_1000c_0.05d/instance_2.lp  0        35.0\n",
       "                                                                          1        36.0\n",
       "                                                                          2        27.0\n",
       "                                                                          3        48.0\n",
       "                                                                          4        39.0\n",
       "        data/instances/setcover/transfer_1000r_1000c_0.05d/instance_3.lp  0        50.0\n",
       "                                                                          1        51.0\n",
       "                                                                          2        72.0\n",
       "                                                                          3        53.0\n",
       "                                                                          4        59.0\n",
       "        data/instances/setcover/transfer_1000r_1000c_0.05d/instance_4.lp  0        80.0\n",
       "                                                                          1        76.0\n",
       "                                                                          2        97.0\n",
       "                                                                          3        98.0\n",
       "                                                                          4        99.0\n",
       "        data/instances/setcover/transfer_1000r_1000c_0.05d/instance_5.lp  0       105.0\n",
       "                                                                          1       116.0\n",
       "                                                                          2       122.0\n",
       "                                                                          3       123.0\n",
       "                                                                          4       109.0\n",
       "        data/instances/setcover/transfer_1000r_1000c_0.05d/instance_6.lp  0       140.0\n",
       "                                                                          1       126.0\n",
       "                                                                          2       127.0\n",
       "                                                                          3       133.0\n",
       "                                                                          4       134.0\n",
       "        data/instances/setcover/transfer_1000r_1000c_0.05d/instance_7.lp  0       155.0\n",
       "                                                                          1       151.0\n",
       "                                                                          2       152.0\n",
       "                                                                          3       173.0\n",
       "                                                                          4       154.0\n",
       "Name: stime, dtype: float64"
      ]
     },
     "metadata": {},
     "execution_count": 114
    }
   ],
   "metadata": {}
  },
  {
   "cell_type": "code",
   "execution_count": 115,
   "source": [
    "df_gcnns['wins'] = 0\r\n",
    "df_gcnns.loc[winner_idx,'wins'] = 1"
   ],
   "outputs": [],
   "metadata": {}
  },
  {
   "cell_type": "code",
   "execution_count": 116,
   "source": [
    "len(winner_idx)"
   ],
   "outputs": [
    {
     "output_type": "execute_result",
     "data": {
      "text/plain": [
       "35"
      ]
     },
     "metadata": {},
     "execution_count": 116
    }
   ],
   "metadata": {}
  },
  {
   "cell_type": "code",
   "execution_count": 117,
   "source": [
    "dfgcnns_wins = df_gcnns.groupby(['type', 'sampling_strategy'])['wins'].sum()\r\n",
    "dfgcnns_wins"
   ],
   "outputs": [
    {
     "output_type": "execute_result",
     "data": {
      "text/plain": [
       "type    sampling_strategy\n",
       "medium  depthK               10\n",
       "        depthK2               4\n",
       "        depthK_adaptive       2\n",
       "        depthK_adaptive2      8\n",
       "        uniform5             11\n",
       "Name: wins, dtype: int64"
      ]
     },
     "metadata": {},
     "execution_count": 117
    }
   ],
   "metadata": {}
  },
  {
   "cell_type": "code",
   "execution_count": 118,
   "source": [
    "stats.ttest_ind_from_stats(0.967777, 0.085076*0.967777, 100, 1, 0.102216, 100)"
   ],
   "outputs": [
    {
     "output_type": "execute_result",
     "data": {
      "text/plain": [
       "Ttest_indResult(statistic=-2.455047672770633, pvalue=0.014949535302005438)"
      ]
     },
     "metadata": {},
     "execution_count": 118
    }
   ],
   "metadata": {}
  },
  {
   "cell_type": "markdown",
   "source": [
    "# 把Means、std 和 Wins合并起来"
   ],
   "metadata": {}
  },
  {
   "cell_type": "code",
   "execution_count": 119,
   "source": [
    "pd.concat([dfgcnns_gmean_norm, dfgcnns_std_norm, dfgcnns_wins], axis=1, keys=['gmean','std','wins'])"
   ],
   "outputs": [
    {
     "output_type": "execute_result",
     "data": {
      "text/plain": [
       "                             gmean                 std           wins\n",
       "                            nnodes     stime    nnodes     stime wins\n",
       "type   sampling_strategy                                             \n",
       "medium depthK             1.073977  1.063434  0.100748  0.087365   10\n",
       "       depthK2            1.100160  1.080210  0.078302  0.073612    4\n",
       "       depthK_adaptive    1.080117  1.071788  0.075314  0.062717    2\n",
       "       depthK_adaptive2   1.057514  1.054005  0.151509  0.132745    8\n",
       "       uniform5           1.000000  1.000000  0.090829  0.071019   11"
      ],
      "text/html": [
       "<div>\n",
       "<style scoped>\n",
       "    .dataframe tbody tr th:only-of-type {\n",
       "        vertical-align: middle;\n",
       "    }\n",
       "\n",
       "    .dataframe tbody tr th {\n",
       "        vertical-align: top;\n",
       "    }\n",
       "\n",
       "    .dataframe thead tr th {\n",
       "        text-align: left;\n",
       "    }\n",
       "\n",
       "    .dataframe thead tr:last-of-type th {\n",
       "        text-align: right;\n",
       "    }\n",
       "</style>\n",
       "<table border=\"1\" class=\"dataframe\">\n",
       "  <thead>\n",
       "    <tr>\n",
       "      <th></th>\n",
       "      <th></th>\n",
       "      <th colspan=\"2\" halign=\"left\">gmean</th>\n",
       "      <th colspan=\"2\" halign=\"left\">std</th>\n",
       "      <th>wins</th>\n",
       "    </tr>\n",
       "    <tr>\n",
       "      <th></th>\n",
       "      <th></th>\n",
       "      <th>nnodes</th>\n",
       "      <th>stime</th>\n",
       "      <th>nnodes</th>\n",
       "      <th>stime</th>\n",
       "      <th>wins</th>\n",
       "    </tr>\n",
       "    <tr>\n",
       "      <th>type</th>\n",
       "      <th>sampling_strategy</th>\n",
       "      <th></th>\n",
       "      <th></th>\n",
       "      <th></th>\n",
       "      <th></th>\n",
       "      <th></th>\n",
       "    </tr>\n",
       "  </thead>\n",
       "  <tbody>\n",
       "    <tr>\n",
       "      <th rowspan=\"5\" valign=\"top\">medium</th>\n",
       "      <th>depthK</th>\n",
       "      <td>1.073977</td>\n",
       "      <td>1.063434</td>\n",
       "      <td>0.100748</td>\n",
       "      <td>0.087365</td>\n",
       "      <td>10</td>\n",
       "    </tr>\n",
       "    <tr>\n",
       "      <th>depthK2</th>\n",
       "      <td>1.100160</td>\n",
       "      <td>1.080210</td>\n",
       "      <td>0.078302</td>\n",
       "      <td>0.073612</td>\n",
       "      <td>4</td>\n",
       "    </tr>\n",
       "    <tr>\n",
       "      <th>depthK_adaptive</th>\n",
       "      <td>1.080117</td>\n",
       "      <td>1.071788</td>\n",
       "      <td>0.075314</td>\n",
       "      <td>0.062717</td>\n",
       "      <td>2</td>\n",
       "    </tr>\n",
       "    <tr>\n",
       "      <th>depthK_adaptive2</th>\n",
       "      <td>1.057514</td>\n",
       "      <td>1.054005</td>\n",
       "      <td>0.151509</td>\n",
       "      <td>0.132745</td>\n",
       "      <td>8</td>\n",
       "    </tr>\n",
       "    <tr>\n",
       "      <th>uniform5</th>\n",
       "      <td>1.000000</td>\n",
       "      <td>1.000000</td>\n",
       "      <td>0.090829</td>\n",
       "      <td>0.071019</td>\n",
       "      <td>11</td>\n",
       "    </tr>\n",
       "  </tbody>\n",
       "</table>\n",
       "</div>"
      ]
     },
     "metadata": {},
     "execution_count": 119
    }
   ],
   "metadata": {}
  },
  {
   "cell_type": "code",
   "execution_count": 120,
   "source": [
    "# output_idx = pd.MultiIndex.from_product((dfgcnns_gmean_norm.index.get_level_values('type').unique(), sampling_Strategies), names=['type', 'sampling_strategy'])\r\n",
    "output_idx = pd.MultiIndex.from_product((problemSizes, sampling_Strategies), names=['type', 'sampling_strategy'])\r\n",
    "output_idx"
   ],
   "outputs": [
    {
     "output_type": "execute_result",
     "data": {
      "text/plain": [
       "MultiIndex([('medium',         'uniform5'),\n",
       "            ('medium',           'depthK'),\n",
       "            ('medium',          'depthK2'),\n",
       "            ('medium',  'depthK_adaptive'),\n",
       "            ('medium', 'depthK_adaptive2')],\n",
       "           names=['type', 'sampling_strategy'])"
      ]
     },
     "metadata": {},
     "execution_count": 120
    }
   ],
   "metadata": {}
  },
  {
   "cell_type": "code",
   "execution_count": 121,
   "source": [
    "output_df_mean = dfgcnns_gmean_norm.reindex(output_idx)\r\n",
    "output_df_std = dfgcnns_std_norm.reindex(output_idx)\r\n",
    "output_df_wins = dfgcnns_wins.reindex(output_idx)\r\n",
    "output_df_ttest = ttest_res.reindex(output_idx)"
   ],
   "outputs": [],
   "metadata": {}
  },
  {
   "cell_type": "code",
   "execution_count": 122,
   "source": [
    "out_df1 = pd.DataFrame(index=output_idx, columns=['nnodes', 'stime', 'wins', 't-stats (p-val)'])\r\n",
    "out_df1"
   ],
   "outputs": [
    {
     "output_type": "execute_result",
     "data": {
      "text/plain": [
       "                         nnodes stime wins t-stats (p-val)\n",
       "type   sampling_strategy                                  \n",
       "medium uniform5             NaN   NaN  NaN             NaN\n",
       "       depthK               NaN   NaN  NaN             NaN\n",
       "       depthK2              NaN   NaN  NaN             NaN\n",
       "       depthK_adaptive      NaN   NaN  NaN             NaN\n",
       "       depthK_adaptive2     NaN   NaN  NaN             NaN"
      ],
      "text/html": [
       "<div>\n",
       "<style scoped>\n",
       "    .dataframe tbody tr th:only-of-type {\n",
       "        vertical-align: middle;\n",
       "    }\n",
       "\n",
       "    .dataframe tbody tr th {\n",
       "        vertical-align: top;\n",
       "    }\n",
       "\n",
       "    .dataframe thead th {\n",
       "        text-align: right;\n",
       "    }\n",
       "</style>\n",
       "<table border=\"1\" class=\"dataframe\">\n",
       "  <thead>\n",
       "    <tr style=\"text-align: right;\">\n",
       "      <th></th>\n",
       "      <th></th>\n",
       "      <th>nnodes</th>\n",
       "      <th>stime</th>\n",
       "      <th>wins</th>\n",
       "      <th>t-stats (p-val)</th>\n",
       "    </tr>\n",
       "    <tr>\n",
       "      <th>type</th>\n",
       "      <th>sampling_strategy</th>\n",
       "      <th></th>\n",
       "      <th></th>\n",
       "      <th></th>\n",
       "      <th></th>\n",
       "    </tr>\n",
       "  </thead>\n",
       "  <tbody>\n",
       "    <tr>\n",
       "      <th rowspan=\"5\" valign=\"top\">medium</th>\n",
       "      <th>uniform5</th>\n",
       "      <td>NaN</td>\n",
       "      <td>NaN</td>\n",
       "      <td>NaN</td>\n",
       "      <td>NaN</td>\n",
       "    </tr>\n",
       "    <tr>\n",
       "      <th>depthK</th>\n",
       "      <td>NaN</td>\n",
       "      <td>NaN</td>\n",
       "      <td>NaN</td>\n",
       "      <td>NaN</td>\n",
       "    </tr>\n",
       "    <tr>\n",
       "      <th>depthK2</th>\n",
       "      <td>NaN</td>\n",
       "      <td>NaN</td>\n",
       "      <td>NaN</td>\n",
       "      <td>NaN</td>\n",
       "    </tr>\n",
       "    <tr>\n",
       "      <th>depthK_adaptive</th>\n",
       "      <td>NaN</td>\n",
       "      <td>NaN</td>\n",
       "      <td>NaN</td>\n",
       "      <td>NaN</td>\n",
       "    </tr>\n",
       "    <tr>\n",
       "      <th>depthK_adaptive2</th>\n",
       "      <td>NaN</td>\n",
       "      <td>NaN</td>\n",
       "      <td>NaN</td>\n",
       "      <td>NaN</td>\n",
       "    </tr>\n",
       "  </tbody>\n",
       "</table>\n",
       "</div>"
      ]
     },
     "metadata": {},
     "execution_count": 122
    }
   ],
   "metadata": {}
  },
  {
   "cell_type": "code",
   "execution_count": 123,
   "source": [
    "for col_name in ['nnodes', 'stime']:\r\n",
    "    out_df1[col_name] = [\"%.4fr ± %.2f\" % (m, s*100) + \"%\" for (m, s) in zip(output_df_mean[col_name], output_df_std[col_name])]\r\n",
    "out_df1['wins'] = output_df_wins"
   ],
   "outputs": [],
   "metadata": {}
  },
  {
   "cell_type": "code",
   "execution_count": 124,
   "source": [
    "out_df1['t-stats (p-val)'] = [\"%.2f(%.4f)\" % (t, p) for (t, p) in zip(output_df_ttest[('stime','t_stats')], output_df_ttest[('stime','p_value')])]"
   ],
   "outputs": [],
   "metadata": {}
  },
  {
   "cell_type": "code",
   "execution_count": 125,
   "source": [
    "out_df1"
   ],
   "outputs": [
    {
     "output_type": "execute_result",
     "data": {
      "text/plain": [
       "                                    nnodes             stime  wins  \\\n",
       "type   sampling_strategy                                             \n",
       "medium uniform5            1.0000r ± 9.08%   1.0000r ± 7.10%    11   \n",
       "       depthK             1.0740r ± 10.07%   1.0634r ± 8.74%    10   \n",
       "       depthK2             1.1002r ± 7.83%   1.0802r ± 7.36%     4   \n",
       "       depthK_adaptive     1.0801r ± 7.53%   1.0718r ± 6.27%     2   \n",
       "       depthK_adaptive2   1.0575r ± 15.15%  1.0540r ± 13.27%     8   \n",
       "\n",
       "                         t-stats (p-val)  \n",
       "type   sampling_strategy                  \n",
       "medium uniform5             0.00(1.0000)  \n",
       "       depthK              12.23(0.0000)  \n",
       "       depthK2             10.00(0.0000)  \n",
       "       depthK_adaptive     10.71(0.0000)  \n",
       "       depthK_adaptive2     6.03(0.0000)  "
      ],
      "text/html": [
       "<div>\n",
       "<style scoped>\n",
       "    .dataframe tbody tr th:only-of-type {\n",
       "        vertical-align: middle;\n",
       "    }\n",
       "\n",
       "    .dataframe tbody tr th {\n",
       "        vertical-align: top;\n",
       "    }\n",
       "\n",
       "    .dataframe thead th {\n",
       "        text-align: right;\n",
       "    }\n",
       "</style>\n",
       "<table border=\"1\" class=\"dataframe\">\n",
       "  <thead>\n",
       "    <tr style=\"text-align: right;\">\n",
       "      <th></th>\n",
       "      <th></th>\n",
       "      <th>nnodes</th>\n",
       "      <th>stime</th>\n",
       "      <th>wins</th>\n",
       "      <th>t-stats (p-val)</th>\n",
       "    </tr>\n",
       "    <tr>\n",
       "      <th>type</th>\n",
       "      <th>sampling_strategy</th>\n",
       "      <th></th>\n",
       "      <th></th>\n",
       "      <th></th>\n",
       "      <th></th>\n",
       "    </tr>\n",
       "  </thead>\n",
       "  <tbody>\n",
       "    <tr>\n",
       "      <th rowspan=\"5\" valign=\"top\">medium</th>\n",
       "      <th>uniform5</th>\n",
       "      <td>1.0000r ± 9.08%</td>\n",
       "      <td>1.0000r ± 7.10%</td>\n",
       "      <td>11</td>\n",
       "      <td>0.00(1.0000)</td>\n",
       "    </tr>\n",
       "    <tr>\n",
       "      <th>depthK</th>\n",
       "      <td>1.0740r ± 10.07%</td>\n",
       "      <td>1.0634r ± 8.74%</td>\n",
       "      <td>10</td>\n",
       "      <td>12.23(0.0000)</td>\n",
       "    </tr>\n",
       "    <tr>\n",
       "      <th>depthK2</th>\n",
       "      <td>1.1002r ± 7.83%</td>\n",
       "      <td>1.0802r ± 7.36%</td>\n",
       "      <td>4</td>\n",
       "      <td>10.00(0.0000)</td>\n",
       "    </tr>\n",
       "    <tr>\n",
       "      <th>depthK_adaptive</th>\n",
       "      <td>1.0801r ± 7.53%</td>\n",
       "      <td>1.0718r ± 6.27%</td>\n",
       "      <td>2</td>\n",
       "      <td>10.71(0.0000)</td>\n",
       "    </tr>\n",
       "    <tr>\n",
       "      <th>depthK_adaptive2</th>\n",
       "      <td>1.0575r ± 15.15%</td>\n",
       "      <td>1.0540r ± 13.27%</td>\n",
       "      <td>8</td>\n",
       "      <td>6.03(0.0000)</td>\n",
       "    </tr>\n",
       "  </tbody>\n",
       "</table>\n",
       "</div>"
      ]
     },
     "metadata": {},
     "execution_count": 125
    }
   ],
   "metadata": {}
  },
  {
   "cell_type": "code",
   "execution_count": null,
   "source": [],
   "outputs": [],
   "metadata": {}
  },
  {
   "cell_type": "code",
   "execution_count": null,
   "source": [],
   "outputs": [],
   "metadata": {}
  },
  {
   "cell_type": "code",
   "execution_count": null,
   "source": [],
   "outputs": [],
   "metadata": {}
  }
 ],
 "metadata": {
  "interpreter": {
   "hash": "ca234dca2f8b365bbc6d0107f403dbc5cdf0a7f51e2e55a7ee794bab845423fe"
  },
  "kernelspec": {
   "name": "python3",
   "display_name": "Python 3.8.8 64-bit ('ml4co': conda)"
  },
  "language_info": {
   "codemirror_mode": {
    "name": "ipython",
    "version": 3
   },
   "file_extension": ".py",
   "mimetype": "text/x-python",
   "name": "python",
   "nbconvert_exporter": "python",
   "pygments_lexer": "ipython3",
   "version": "3.8.8"
  },
  "orig_nbformat": 4
 },
 "nbformat": 4,
 "nbformat_minor": 2
}