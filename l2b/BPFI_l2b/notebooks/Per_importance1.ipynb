{
 "cells": [
  {
   "cell_type": "code",
   "execution_count": 2,
   "metadata": {},
   "outputs": [],
   "source": [
    "import os\n",
    "os.chdir(\"../\")"
   ]
  },
  {
   "cell_type": "code",
   "execution_count": 3,
   "metadata": {},
   "outputs": [],
   "source": [
    "import pandas as pd\n",
    "import glob\n",
    "import time\n",
    "import numpy as np\n",
    "import matplotlib.pyplot as plt"
   ]
  },
  {
   "cell_type": "code",
   "execution_count": 183,
   "metadata": {},
   "outputs": [],
   "source": [
    "resultDir = 'D:\\Program Files\\learn2brancher\\\\results'\n",
    "problem = 'facilities' # choices=['setcover', 'cauctions', 'facilities', 'indset']\n",
    "# sampling_Strategies = ['uniform5','depthK','depthK2'] # choices: uniform5, depthK, depthK2, depthK3\n",
    "model = ['Lodi','GraphConv']\n",
    "model1 = model[0]\n",
    "features = ['edge','constraint_1','constraint_2','constraint_3','constraint_4','constraint_5','variable_2','variable_5','variable_6','variable_7','variable_8','variable_9','variable_10','variable_11','variable_12','variable_13','variable_1']\n",
    "metric_columns = ['acc@1','acc@3','acc@5','acc@10']\n",
    "Lodi_files = glob.glob(f'{resultDir}\\{problem}\\{model1}*.csv')\n",
    "feat_files1 = glob.glob(f'{resultDir}\\{problem}\\{features[0]}\\*.csv')\n",
    "feat_files2 = glob.glob(f'{resultDir}\\{problem}\\{features[1]}\\*.csv')\n",
    "feat_files3 = glob.glob(f'{resultDir}\\{problem}\\{features[2]}\\*.csv')\n",
    "feat_files4 = glob.glob(f'{resultDir}\\{problem}\\{features[3]}\\*.csv')\n",
    "feat_files5 = glob.glob(f'{resultDir}\\{problem}\\{features[4]}\\*.csv')\n",
    "feat_files6 = glob.glob(f'{resultDir}\\{problem}\\{features[5]}\\*.csv')\n",
    "feat_files7 = glob.glob(f'{resultDir}\\{problem}\\{features[6]}\\*.csv')\n",
    "feat_files8 = glob.glob(f'{resultDir}\\{problem}\\{features[7]}\\*.csv')\n",
    "feat_files9 = glob.glob(f'{resultDir}\\{problem}\\{features[8]}\\*.csv')\n",
    "feat_files10 = glob.glob(f'{resultDir}\\{problem}\\{features[9]}\\*.csv')\n",
    "feat_files11 = glob.glob(f'{resultDir}\\{problem}\\{features[10]}\\*.csv')\n",
    "feat_files12 = glob.glob(f'{resultDir}\\{problem}\\{features[11]}\\*.csv')\n",
    "feat_files13 = glob.glob(f'{resultDir}\\{problem}\\{features[12]}\\*.csv')\n",
    "feat_files14 = glob.glob(f'{resultDir}\\{problem}\\{features[13]}\\*.csv')\n",
    "feat_files15 = glob.glob(f'{resultDir}\\{problem}\\{features[14]}\\*.csv')\n",
    "feat_files16 = glob.glob(f'{resultDir}\\{problem}\\{features[15]}\\*.csv')\n",
    "feat_files17 = glob.glob(f'{resultDir}\\{problem}\\{features[16]}\\*.csv')\n",
    "mean = np.zeros(17)"
   ]
  },
  {
   "cell_type": "code",
   "execution_count": 184,
   "metadata": {},
   "outputs": [
    {
     "data": {
      "text/plain": [
       "0.9734999999999998"
      ]
     },
     "execution_count": 184,
     "metadata": {},
     "output_type": "execute_result"
    }
   ],
   "source": [
    "targetfile_Lodi = Lodi_files[0]\n",
    "target_df_Lodi = pd.read_csv(targetfile_Lodi)\n",
    "mean[0] = target_df_Lodi[metric_columns].mean()[2]\n",
    "mean[0]"
   ]
  },
  {
   "cell_type": "code",
   "execution_count": 185,
   "metadata": {},
   "outputs": [
    {
     "data": {
      "text/plain": [
       "array([0.97475, 0.9745 , 0.97475, 0.975  , 0.97475, 0.9745 , 0.9745 ,\n",
       "       0.9745 , 0.9745 , 0.97475, 0.9745 , 0.9745 , 0.97475, 0.975  ,\n",
       "       0.97425, 0.975  , 0.97475, 0.9745 , 0.97475, 0.975  ])"
      ]
     },
     "execution_count": 185,
     "metadata": {},
     "output_type": "execute_result"
    }
   ],
   "source": [
    "edge = np.zeros(20)\n",
    "for i in range(len(edge)):\n",
    "   df = pd.read_csv(feat_files1[i])\n",
    "   edge[i] = df[metric_columns].mean()[2]\n",
    "edge"
   ]
  },
  {
   "cell_type": "code",
   "execution_count": 186,
   "metadata": {},
   "outputs": [
    {
     "data": {
      "text/plain": [
       "-0.0011750000000000371"
      ]
     },
     "execution_count": 186,
     "metadata": {},
     "output_type": "execute_result"
    }
   ],
   "source": [
    "score1 = mean[0]-edge.mean()\n",
    "score1"
   ]
  },
  {
   "cell_type": "code",
   "execution_count": 187,
   "metadata": {},
   "outputs": [
    {
     "data": {
      "text/plain": [
       "0.00021065374432939696"
      ]
     },
     "execution_count": 187,
     "metadata": {},
     "output_type": "execute_result"
    }
   ],
   "source": [
    "std1 = edge.std()\n",
    "std1"
   ]
  },
  {
   "cell_type": "code",
   "execution_count": 188,
   "metadata": {},
   "outputs": [
    {
     "data": {
      "text/plain": [
       "array([0.9785 , 0.97825, 0.979  , 0.97875, 0.97875, 0.978  , 0.9785 ,\n",
       "       0.97875, 0.9785 , 0.9785 , 0.9795 , 0.9785 , 0.979  , 0.97925,\n",
       "       0.97875, 0.978  , 0.97875, 0.97825, 0.9775 , 0.97875])"
      ]
     },
     "execution_count": 188,
     "metadata": {},
     "output_type": "execute_result"
    }
   ],
   "source": [
    "constraint_1 = np.zeros(20)\n",
    "for i in range(len(constraint_1)):\n",
    "   df = pd.read_csv(feat_files2[i])\n",
    "   constraint_1[i] = df[metric_columns].mean()[2]\n",
    "constraint_1"
   ]
  },
  {
   "cell_type": "code",
   "execution_count": 189,
   "metadata": {},
   "outputs": [
    {
     "data": {
      "text/plain": [
       "-0.005087500000000245"
      ]
     },
     "execution_count": 189,
     "metadata": {},
     "output_type": "execute_result"
    }
   ],
   "source": [
    "score2 = mean[0]-constraint_1.mean()\n",
    "score2"
   ]
  },
  {
   "cell_type": "code",
   "execution_count": 190,
   "metadata": {},
   "outputs": [
    {
     "data": {
      "text/plain": [
       "0.0004421184795956779"
      ]
     },
     "execution_count": 190,
     "metadata": {},
     "output_type": "execute_result"
    }
   ],
   "source": [
    "std2 = constraint_1.std()\n",
    "std2"
   ]
  },
  {
   "cell_type": "code",
   "execution_count": 191,
   "metadata": {},
   "outputs": [
    {
     "data": {
      "text/plain": [
       "array([0.9805 , 0.97975, 0.97925, 0.98   , 0.97925, 0.97925, 0.97975,\n",
       "       0.97975, 0.98   , 0.9795 , 0.97875, 0.97975, 0.97975, 0.97875,\n",
       "       0.98025, 0.97975, 0.9795 , 0.9795 , 0.9795 , 0.98   ])"
      ]
     },
     "execution_count": 191,
     "metadata": {},
     "output_type": "execute_result"
    }
   ],
   "source": [
    "constraint_2 = np.zeros(20)\n",
    "for i in range(len(constraint_2)):\n",
    "   df = pd.read_csv(feat_files3[i])\n",
    "   constraint_2[i] = df[metric_columns].mean()[2]\n",
    "constraint_2"
   ]
  },
  {
   "cell_type": "code",
   "execution_count": 192,
   "metadata": {},
   "outputs": [
    {
     "data": {
      "text/plain": [
       "-0.006125000000000269"
      ]
     },
     "execution_count": 192,
     "metadata": {},
     "output_type": "execute_result"
    }
   ],
   "source": [
    "score3 = mean[0]-constraint_2.mean()\n",
    "score3"
   ]
  },
  {
   "cell_type": "code",
   "execution_count": 193,
   "metadata": {},
   "outputs": [
    {
     "data": {
      "text/plain": [
       "0.0004293891009329025"
      ]
     },
     "execution_count": 193,
     "metadata": {},
     "output_type": "execute_result"
    }
   ],
   "source": [
    "std3 = constraint_2.std()\n",
    "std3"
   ]
  },
  {
   "cell_type": "code",
   "execution_count": 194,
   "metadata": {},
   "outputs": [
    {
     "data": {
      "text/plain": [
       "array([0.97225, 0.97275, 0.9715 , 0.973  , 0.97275, 0.97375, 0.973  ,\n",
       "       0.97275, 0.972  , 0.973  , 0.97325, 0.97275, 0.97325, 0.973  ,\n",
       "       0.97275, 0.97275, 0.97175, 0.97275, 0.97375, 0.97275])"
      ]
     },
     "execution_count": 194,
     "metadata": {},
     "output_type": "execute_result"
    }
   ],
   "source": [
    "constraint_3 = np.zeros(20)\n",
    "for i in range(len(constraint_3)):\n",
    "   df = pd.read_csv(feat_files4[i])\n",
    "   constraint_3[i] = df[metric_columns].mean()[2]\n",
    "constraint_3"
   ]
  },
  {
   "cell_type": "code",
   "execution_count": 195,
   "metadata": {},
   "outputs": [
    {
     "data": {
      "text/plain": [
       "0.0007249999999996426"
      ]
     },
     "execution_count": 195,
     "metadata": {},
     "output_type": "execute_result"
    }
   ],
   "source": [
    "score4 = mean[0]-constraint_3.mean()\n",
    "score4"
   ]
  },
  {
   "cell_type": "code",
   "execution_count": 196,
   "metadata": {},
   "outputs": [
    {
     "data": {
      "text/plain": [
       "0.0005528336096873914"
      ]
     },
     "execution_count": 196,
     "metadata": {},
     "output_type": "execute_result"
    }
   ],
   "source": [
    "std4 = constraint_3.std()\n",
    "std4"
   ]
  },
  {
   "cell_type": "code",
   "execution_count": 197,
   "metadata": {},
   "outputs": [
    {
     "data": {
      "text/plain": [
       "array([0.974  , 0.97325, 0.973  , 0.9725 , 0.973  , 0.973  , 0.9735 ,\n",
       "       0.97325, 0.973  , 0.97275, 0.9735 , 0.97325, 0.9725 , 0.9735 ,\n",
       "       0.973  , 0.97425, 0.97275, 0.973  , 0.97325, 0.97325])"
      ]
     },
     "execution_count": 197,
     "metadata": {},
     "output_type": "execute_result"
    }
   ],
   "source": [
    "constraint_4 = np.zeros(20)\n",
    "for i in range(len(constraint_4)):\n",
    "   df = pd.read_csv(feat_files5[i])\n",
    "   constraint_4[i] = df[metric_columns].mean()[2]\n",
    "constraint_4"
   ]
  },
  {
   "cell_type": "code",
   "execution_count": 198,
   "metadata": {},
   "outputs": [
    {
     "data": {
      "text/plain": [
       "0.0003249999999997977"
      ]
     },
     "execution_count": 198,
     "metadata": {},
     "output_type": "execute_result"
    }
   ],
   "source": [
    "score5 = mean[0]-constraint_4.mean()\n",
    "score5"
   ]
  },
  {
   "cell_type": "code",
   "execution_count": 199,
   "metadata": {},
   "outputs": [
    {
     "data": {
      "text/plain": [
       "0.0004264680527307854"
      ]
     },
     "execution_count": 199,
     "metadata": {},
     "output_type": "execute_result"
    }
   ],
   "source": [
    "std5 = constraint_4.std()\n",
    "std5"
   ]
  },
  {
   "cell_type": "code",
   "execution_count": 200,
   "metadata": {},
   "outputs": [
    {
     "data": {
      "text/plain": [
       "array([0.9735 , 0.97375, 0.9735 , 0.97325, 0.97325, 0.97375, 0.97325,\n",
       "       0.97325, 0.973  , 0.97375, 0.97325, 0.97325, 0.974  , 0.9745 ,\n",
       "       0.97375, 0.9735 , 0.97375, 0.974  , 0.97325, 0.974  ])"
      ]
     },
     "execution_count": 200,
     "metadata": {},
     "output_type": "execute_result"
    }
   ],
   "source": [
    "constraint_5 = np.zeros(20)\n",
    "for i in range(len(constraint_5)):\n",
    "   df = pd.read_csv(feat_files6[i])\n",
    "   constraint_5[i] = df[metric_columns].mean()[2]\n",
    "constraint_5"
   ]
  },
  {
   "cell_type": "code",
   "execution_count": 201,
   "metadata": {},
   "outputs": [
    {
     "data": {
      "text/plain": [
       "-7.500000000015827e-05"
      ]
     },
     "execution_count": 201,
     "metadata": {},
     "output_type": "execute_result"
    }
   ],
   "source": [
    "score6 = mean[0]-constraint_5.mean()\n",
    "score6"
   ]
  },
  {
   "cell_type": "code",
   "execution_count": 202,
   "metadata": {},
   "outputs": [
    {
     "data": {
      "text/plain": [
       "0.000363145976158376"
      ]
     },
     "execution_count": 202,
     "metadata": {},
     "output_type": "execute_result"
    }
   ],
   "source": [
    "std6 = constraint_5.std()\n",
    "std6"
   ]
  },
  {
   "cell_type": "code",
   "execution_count": 203,
   "metadata": {},
   "outputs": [
    {
     "data": {
      "text/plain": [
       "array([0.976  , 0.9755 , 0.97375, 0.97525, 0.97425, 0.97425, 0.975  ,\n",
       "       0.97425, 0.975  , 0.9735 , 0.974  , 0.9745 , 0.97375, 0.9745 ,\n",
       "       0.97425, 0.975  , 0.975  , 0.97425, 0.97475, 0.9745 ])"
      ]
     },
     "execution_count": 203,
     "metadata": {},
     "output_type": "execute_result"
    }
   ],
   "source": [
    "variable_1 = np.zeros(20)\n",
    "for i in range(len(variable_1)):\n",
    "   df = pd.read_csv(feat_files7[i])\n",
    "   variable_1[i] = df[metric_columns].mean()[2]\n",
    "variable_1"
   ]
  },
  {
   "cell_type": "code",
   "execution_count": 204,
   "metadata": {},
   "outputs": [
    {
     "data": {
      "text/plain": [
       "-0.0010625000000001883"
      ]
     },
     "execution_count": 204,
     "metadata": {},
     "output_type": "execute_result"
    }
   ],
   "source": [
    "score7 = mean[0]-variable_1.mean()\n",
    "score7"
   ]
  },
  {
   "cell_type": "code",
   "execution_count": 205,
   "metadata": {},
   "outputs": [
    {
     "data": {
      "text/plain": [
       "0.0006117342151621091"
      ]
     },
     "execution_count": 205,
     "metadata": {},
     "output_type": "execute_result"
    }
   ],
   "source": [
    "std7 = variable_1.std()\n",
    "std7"
   ]
  },
  {
   "cell_type": "code",
   "execution_count": 206,
   "metadata": {},
   "outputs": [
    {
     "data": {
      "text/plain": [
       "array([0.977  , 0.97725, 0.97675, 0.977  , 0.97775, 0.977  , 0.97725,\n",
       "       0.97725, 0.9775 , 0.9775 , 0.977  , 0.977  , 0.977  , 0.97625,\n",
       "       0.97775, 0.97725, 0.97675, 0.977  , 0.97675, 0.97675])"
      ]
     },
     "execution_count": 206,
     "metadata": {},
     "output_type": "execute_result"
    }
   ],
   "source": [
    "variable_2 = np.zeros(20)\n",
    "for i in range(len(variable_2)):\n",
    "   df = pd.read_csv(feat_files8[i])\n",
    "   variable_2[i] = df[metric_columns].mean()[2]\n",
    "variable_2"
   ]
  },
  {
   "cell_type": "code",
   "execution_count": 207,
   "metadata": {},
   "outputs": [
    {
     "data": {
      "text/plain": [
       "-0.0035875000000000767"
      ]
     },
     "execution_count": 207,
     "metadata": {},
     "output_type": "execute_result"
    }
   ],
   "source": [
    "score8 = mean[0]-variable_2.mean()\n",
    "score8"
   ]
  },
  {
   "cell_type": "code",
   "execution_count": 208,
   "metadata": {},
   "outputs": [
    {
     "data": {
      "text/plain": [
       "0.0003559757716474175"
      ]
     },
     "execution_count": 208,
     "metadata": {},
     "output_type": "execute_result"
    }
   ],
   "source": [
    "std8 = variable_2.std()\n",
    "std8"
   ]
  },
  {
   "cell_type": "code",
   "execution_count": 209,
   "metadata": {},
   "outputs": [
    {
     "data": {
      "text/plain": [
       "array([0.97475, 0.97325, 0.97475, 0.974  , 0.975  , 0.97425, 0.97325,\n",
       "       0.97425, 0.975  , 0.974  , 0.97425, 0.9745 , 0.97425, 0.97375,\n",
       "       0.974  , 0.97375, 0.9745 , 0.9735 , 0.9745 , 0.97375])"
      ]
     },
     "execution_count": 209,
     "metadata": {},
     "output_type": "execute_result"
    }
   ],
   "source": [
    "variable_3 = np.zeros(20)\n",
    "for i in range(len(variable_3)):\n",
    "   df = pd.read_csv(feat_files9[i])\n",
    "   variable_3[i] = df[metric_columns].mean()[2]\n",
    "variable_3"
   ]
  },
  {
   "cell_type": "code",
   "execution_count": 210,
   "metadata": {},
   "outputs": [
    {
     "data": {
      "text/plain": [
       "-0.0006625000000001213"
      ]
     },
     "execution_count": 210,
     "metadata": {},
     "output_type": "execute_result"
    }
   ],
   "source": [
    "score9 = mean[0]-variable_3.mean()\n",
    "score9"
   ]
  },
  {
   "cell_type": "code",
   "execution_count": 211,
   "metadata": {},
   "outputs": [
    {
     "data": {
      "text/plain": [
       "0.0005079062413477736"
      ]
     },
     "execution_count": 211,
     "metadata": {},
     "output_type": "execute_result"
    }
   ],
   "source": [
    "std9 = variable_3.std()\n",
    "std9"
   ]
  },
  {
   "cell_type": "code",
   "execution_count": 212,
   "metadata": {},
   "outputs": [
    {
     "data": {
      "text/plain": [
       "array([0.8625 , 0.862  , 0.862  , 0.86275, 0.86225, 0.862  , 0.8625 ,\n",
       "       0.86075, 0.8625 , 0.86225, 0.862  , 0.863  , 0.8625 , 0.863  ,\n",
       "       0.863  , 0.86125, 0.8635 , 0.863  , 0.862  , 0.86275])"
      ]
     },
     "execution_count": 212,
     "metadata": {},
     "output_type": "execute_result"
    }
   ],
   "source": [
    "variable_4 = np.zeros(20)\n",
    "for i in range(len(variable_4)):\n",
    "   df = pd.read_csv(feat_files10[i])\n",
    "   variable_4[i] = df[metric_columns].mean()[2]\n",
    "variable_4"
   ]
  },
  {
   "cell_type": "code",
   "execution_count": 213,
   "metadata": {},
   "outputs": [
    {
     "data": {
      "text/plain": [
       "0.1111249999999997"
      ]
     },
     "execution_count": 213,
     "metadata": {},
     "output_type": "execute_result"
    }
   ],
   "source": [
    "score10 = mean[0]-variable_4.mean()\n",
    "score10"
   ]
  },
  {
   "cell_type": "code",
   "execution_count": 214,
   "metadata": {},
   "outputs": [
    {
     "data": {
      "text/plain": [
       "0.0006249999999999867"
      ]
     },
     "execution_count": 214,
     "metadata": {},
     "output_type": "execute_result"
    }
   ],
   "source": [
    "std10 = variable_4.std()\n",
    "std10"
   ]
  },
  {
   "cell_type": "code",
   "execution_count": 215,
   "metadata": {},
   "outputs": [
    {
     "data": {
      "text/plain": [
       "array([0.98075, 0.9795 , 0.97925, 0.98075, 0.9795 , 0.98075, 0.98025,\n",
       "       0.97925, 0.97925, 0.981  , 0.979  , 0.97925, 0.9785 , 0.97925,\n",
       "       0.98125, 0.98075, 0.98075, 0.9815 , 0.9805 , 0.979  ])"
      ]
     },
     "execution_count": 215,
     "metadata": {},
     "output_type": "execute_result"
    }
   ],
   "source": [
    "variable_5 = np.zeros(20)\n",
    "for i in range(len(variable_5)):\n",
    "   df = pd.read_csv(feat_files11[i])\n",
    "   variable_5[i] = df[metric_columns].mean()[2]\n",
    "variable_5"
   ]
  },
  {
   "cell_type": "code",
   "execution_count": 216,
   "metadata": {},
   "outputs": [
    {
     "data": {
      "text/plain": [
       "-0.006500000000000283"
      ]
     },
     "execution_count": 216,
     "metadata": {},
     "output_type": "execute_result"
    }
   ],
   "source": [
    "score11 = mean[0]-variable_5.mean()\n",
    "score11"
   ]
  },
  {
   "cell_type": "code",
   "execution_count": 217,
   "metadata": {},
   "outputs": [
    {
     "data": {
      "text/plain": [
       "0.0008803408430829622"
      ]
     },
     "execution_count": 217,
     "metadata": {},
     "output_type": "execute_result"
    }
   ],
   "source": [
    "std11 = variable_5.std()\n",
    "std11"
   ]
  },
  {
   "cell_type": "code",
   "execution_count": 218,
   "metadata": {},
   "outputs": [
    {
     "data": {
      "text/plain": [
       "array([0.974  , 0.97575, 0.9735 , 0.97375, 0.97325, 0.97425, 0.974  ,\n",
       "       0.9745 , 0.97425, 0.97375, 0.9735 , 0.9735 , 0.9735 , 0.97475,\n",
       "       0.97475, 0.97375, 0.974  , 0.97275, 0.9745 , 0.97475])"
      ]
     },
     "execution_count": 218,
     "metadata": {},
     "output_type": "execute_result"
    }
   ],
   "source": [
    "variable_6 = np.zeros(20)\n",
    "for i in range(len(variable_6)):\n",
    "   df = pd.read_csv(feat_files12[i])\n",
    "   variable_6[i] = df[metric_columns].mean()[2]\n",
    "variable_6"
   ]
  },
  {
   "cell_type": "code",
   "execution_count": 219,
   "metadata": {},
   "outputs": [
    {
     "data": {
      "text/plain": [
       "-0.0005375000000000796"
      ]
     },
     "execution_count": 219,
     "metadata": {},
     "output_type": "execute_result"
    }
   ],
   "source": [
    "score12 = mean[0]-variable_6.mean()\n",
    "score12"
   ]
  },
  {
   "cell_type": "code",
   "execution_count": 220,
   "metadata": {},
   "outputs": [
    {
     "data": {
      "text/plain": [
       "0.0006580036094126069"
      ]
     },
     "execution_count": 220,
     "metadata": {},
     "output_type": "execute_result"
    }
   ],
   "source": [
    "std12 = variable_6.std()\n",
    "std12"
   ]
  },
  {
   "cell_type": "code",
   "execution_count": 221,
   "metadata": {},
   "outputs": [
    {
     "data": {
      "text/plain": [
       "array([0.9745 , 0.97425, 0.975  , 0.9755 , 0.9755 , 0.97525, 0.976  ,\n",
       "       0.975  , 0.9755 , 0.97575, 0.9755 , 0.97525, 0.97475, 0.975  ,\n",
       "       0.97525, 0.974  , 0.97525, 0.97425, 0.97525, 0.9755 ])"
      ]
     },
     "execution_count": 221,
     "metadata": {},
     "output_type": "execute_result"
    }
   ],
   "source": [
    "variable_7 = np.zeros(20)\n",
    "for i in range(len(variable_7)):\n",
    "   df = pd.read_csv(feat_files13[i])\n",
    "   variable_7[i] = df[metric_columns].mean()[2]\n",
    "variable_7"
   ]
  },
  {
   "cell_type": "code",
   "execution_count": 222,
   "metadata": {},
   "outputs": [
    {
     "data": {
      "text/plain": [
       "-0.0016125000000002387"
      ]
     },
     "execution_count": 222,
     "metadata": {},
     "output_type": "execute_result"
    }
   ],
   "source": [
    "score13 = mean[0]-variable_7.mean()\n",
    "score13"
   ]
  },
  {
   "cell_type": "code",
   "execution_count": 223,
   "metadata": {},
   "outputs": [
    {
     "data": {
      "text/plain": [
       "0.000515236596138154"
      ]
     },
     "execution_count": 223,
     "metadata": {},
     "output_type": "execute_result"
    }
   ],
   "source": [
    "std13 = variable_7.std()\n",
    "std13"
   ]
  },
  {
   "cell_type": "code",
   "execution_count": 224,
   "metadata": {},
   "outputs": [
    {
     "data": {
      "text/plain": [
       "array([0.9715 , 0.9705 , 0.9715 , 0.97075, 0.97075, 0.97125, 0.97075,\n",
       "       0.97125, 0.97075, 0.97125, 0.971  , 0.9715 , 0.97125, 0.971  ,\n",
       "       0.97025, 0.971  , 0.972  , 0.97075, 0.97175, 0.971  ])"
      ]
     },
     "execution_count": 224,
     "metadata": {},
     "output_type": "execute_result"
    }
   ],
   "source": [
    "variable_8 = np.zeros(20)\n",
    "for i in range(len(variable_8)):\n",
    "   df = pd.read_csv(feat_files14[i])\n",
    "   variable_8[i] = df[metric_columns].mean()[2]\n",
    "variable_8"
   ]
  },
  {
   "cell_type": "code",
   "execution_count": 225,
   "metadata": {},
   "outputs": [
    {
     "data": {
      "text/plain": [
       "0.0024125000000000396"
      ]
     },
     "execution_count": 225,
     "metadata": {},
     "output_type": "execute_result"
    }
   ],
   "source": [
    "score14 = mean[0]-variable_8.mean()\n",
    "score14"
   ]
  },
  {
   "cell_type": "code",
   "execution_count": 226,
   "metadata": {},
   "outputs": [
    {
     "data": {
      "text/plain": [
       "0.00042037929302002347"
      ]
     },
     "execution_count": 226,
     "metadata": {},
     "output_type": "execute_result"
    }
   ],
   "source": [
    "std14 = variable_8.std()\n",
    "std14"
   ]
  },
  {
   "cell_type": "code",
   "execution_count": 227,
   "metadata": {},
   "outputs": [
    {
     "data": {
      "text/plain": [
       "array([0.97475, 0.9745 , 0.975  , 0.97475, 0.97475, 0.97425, 0.975  ,\n",
       "       0.975  , 0.9745 , 0.97475, 0.9745 , 0.9745 , 0.97475, 0.975  ,\n",
       "       0.975  , 0.97475, 0.97475, 0.9745 , 0.97475, 0.97475])"
      ]
     },
     "execution_count": 227,
     "metadata": {},
     "output_type": "execute_result"
    }
   ],
   "source": [
    "variable_9 = np.zeros(20)\n",
    "for i in range(len(variable_9)):\n",
    "   df = pd.read_csv(feat_files15[i])\n",
    "   variable_9[i] = df[metric_columns].mean()[2]\n",
    "variable_9"
   ]
  },
  {
   "cell_type": "code",
   "execution_count": 230,
   "metadata": {},
   "outputs": [
    {
     "data": {
      "text/plain": [
       "-0.0012250000000001426"
      ]
     },
     "execution_count": 230,
     "metadata": {},
     "output_type": "execute_result"
    }
   ],
   "source": [
    "score15 = mean[0]-variable_9.mean()\n",
    "score15"
   ]
  },
  {
   "cell_type": "code",
   "execution_count": 231,
   "metadata": {},
   "outputs": [
    {
     "data": {
      "text/plain": [
       "0.00020766559657295174"
      ]
     },
     "execution_count": 231,
     "metadata": {},
     "output_type": "execute_result"
    }
   ],
   "source": [
    "std15 = variable_9.std()\n",
    "std15"
   ]
  },
  {
   "cell_type": "code",
   "execution_count": 232,
   "metadata": {},
   "outputs": [
    {
     "data": {
      "text/plain": [
       "array([0.9735 , 0.97325, 0.97325, 0.97375, 0.97325, 0.9735 , 0.9745 ,\n",
       "       0.97375, 0.9735 , 0.97375, 0.97325, 0.974  , 0.9735 , 0.9735 ,\n",
       "       0.9735 , 0.97375, 0.97375, 0.9735 , 0.973  , 0.97425])"
      ]
     },
     "execution_count": 232,
     "metadata": {},
     "output_type": "execute_result"
    }
   ],
   "source": [
    "variable_10 = np.zeros(20)\n",
    "for i in range(len(variable_10)):\n",
    "   df = pd.read_csv(feat_files16[i])\n",
    "   variable_10[i] = df[metric_columns].mean()[2]\n",
    "variable_10"
   ]
  },
  {
   "cell_type": "code",
   "execution_count": 233,
   "metadata": {},
   "outputs": [
    {
     "data": {
      "text/plain": [
       "-0.00010000000000010001"
      ]
     },
     "execution_count": 233,
     "metadata": {},
     "output_type": "execute_result"
    }
   ],
   "source": [
    "score16 = mean[0]-variable_10.mean()\n",
    "score16"
   ]
  },
  {
   "cell_type": "code",
   "execution_count": 234,
   "metadata": {},
   "outputs": [
    {
     "data": {
      "text/plain": [
       "0.00034820970692961005"
      ]
     },
     "execution_count": 234,
     "metadata": {},
     "output_type": "execute_result"
    }
   ],
   "source": [
    "std16 = variable_10.std()\n",
    "std16"
   ]
  },
  {
   "cell_type": "code",
   "execution_count": 235,
   "metadata": {},
   "outputs": [
    {
     "data": {
      "text/plain": [
       "array([0.80875, 0.809  , 0.80825, 0.80875, 0.80725, 0.80725, 0.80875,\n",
       "       0.80875, 0.80725, 0.80675, 0.8085 , 0.80675, 0.80825, 0.80825,\n",
       "       0.809  , 0.80675, 0.809  , 0.80775, 0.8085 , 0.807  ])"
      ]
     },
     "execution_count": 235,
     "metadata": {},
     "output_type": "execute_result"
    }
   ],
   "source": [
    "variable_11 = np.zeros(20)\n",
    "for i in range(len(variable_11)):\n",
    "   df = pd.read_csv(feat_files17[i])\n",
    "   variable_11[i] = df[metric_columns].mean()[2]\n",
    "variable_11"
   ]
  },
  {
   "cell_type": "code",
   "execution_count": 236,
   "metadata": {},
   "outputs": [
    {
     "data": {
      "text/plain": [
       "0.16547499999999982"
      ]
     },
     "execution_count": 236,
     "metadata": {},
     "output_type": "execute_result"
    }
   ],
   "source": [
    "score17 = mean[0]-variable_11.mean()\n",
    "score17"
   ]
  },
  {
   "cell_type": "code",
   "execution_count": 237,
   "metadata": {},
   "outputs": [
    {
     "data": {
      "text/plain": [
       "0.000817389136213665"
      ]
     },
     "execution_count": 237,
     "metadata": {},
     "output_type": "execute_result"
    }
   ],
   "source": [
    "std17 = variable_11.std()\n",
    "std17"
   ]
  },
  {
   "cell_type": "code",
   "execution_count": 58,
   "metadata": {},
   "outputs": [
    {
     "data": {
      "text/html": [
       "<div>\n",
       "<style scoped>\n",
       "    .dataframe tbody tr th:only-of-type {\n",
       "        vertical-align: middle;\n",
       "    }\n",
       "\n",
       "    .dataframe tbody tr th {\n",
       "        vertical-align: top;\n",
       "    }\n",
       "\n",
       "    .dataframe thead th {\n",
       "        text-align: right;\n",
       "    }\n",
       "</style>\n",
       "<table border=\"1\" class=\"dataframe\">\n",
       "  <thead>\n",
       "    <tr style=\"text-align: right;\">\n",
       "      <th></th>\n",
       "      <th>edge</th>\n",
       "      <th>CF1</th>\n",
       "      <th>CF2</th>\n",
       "      <th>CF3</th>\n",
       "      <th>CF4</th>\n",
       "      <th>CF5</th>\n",
       "      <th>VF2</th>\n",
       "      <th>VF5</th>\n",
       "      <th>VF6</th>\n",
       "      <th>VF7</th>\n",
       "      <th>VF8</th>\n",
       "      <th>VF9</th>\n",
       "      <th>VF10</th>\n",
       "      <th>VF11</th>\n",
       "      <th>VF12</th>\n",
       "      <th>VF13</th>\n",
       "      <th>VF1</th>\n",
       "    </tr>\n",
       "  </thead>\n",
       "  <tbody>\n",
       "    <tr>\n",
       "      <th>0</th>\n",
       "      <td>0.002862</td>\n",
       "      <td>0.028787</td>\n",
       "      <td>0.012325</td>\n",
       "      <td>0.004825</td>\n",
       "      <td>-0.002387</td>\n",
       "      <td>-0.000025</td>\n",
       "      <td>0.020412</td>\n",
       "      <td>0.113975</td>\n",
       "      <td>0.066912</td>\n",
       "      <td>0.346712</td>\n",
       "      <td>0.265475</td>\n",
       "      <td>0.00715</td>\n",
       "      <td>0.01805</td>\n",
       "      <td>0.103738</td>\n",
       "      <td>-0.004388</td>\n",
       "      <td>-0.00485</td>\n",
       "      <td>0.0</td>\n",
       "    </tr>\n",
       "  </tbody>\n",
       "</table>\n",
       "</div>"
      ],
      "text/plain": [
       "       edge       CF1       CF2       CF3       CF4       CF5       VF2  \\\n",
       "0  0.002862  0.028787  0.012325  0.004825 -0.002387 -0.000025  0.020412   \n",
       "\n",
       "        VF5       VF6       VF7       VF8      VF9     VF10      VF11  \\\n",
       "0  0.113975  0.066912  0.346712  0.265475  0.00715  0.01805  0.103738   \n",
       "\n",
       "       VF12     VF13  VF1  \n",
       "0 -0.004388 -0.00485  0.0  "
      ]
     },
     "execution_count": 58,
     "metadata": {},
     "output_type": "execute_result"
    }
   ],
   "source": [
    "data_setcover = {\n",
    "    'edge' :[score1],\n",
    "    'CF1' :[score2],\n",
    "    'CF2':[score3],\n",
    "    'CF3':[score4],\n",
    "    'CF4':[score5],\n",
    "    'CF5':[score6],\n",
    "    'VF2':[score7],\n",
    "    'VF5':[score8],\n",
    "    'VF6':[score9],\n",
    "    'VF7':[score10],\n",
    "    'VF8':[score11],\n",
    "    'VF9':[score12],\n",
    "    'VF10':[score13],\n",
    "    'VF11':[score14],\n",
    "    'VF12':[score15],\n",
    "    'VF13':[score16],\n",
    "    'VF1':[score17]\n",
    "}\n",
    "df_setcover= pd.DataFrame(data_setcover)\n",
    "df_setcover"
   ]
  },
  {
   "cell_type": "code",
   "execution_count": 113,
   "metadata": {},
   "outputs": [],
   "source": [
    "data_y_setcover = [score1,score2,score3,score4,score5,score6,score17,score7,score8,score9,score10,score11,score12,score13,score14,score15,score16]\n",
    "std_err_setcover=[std1,std2,std3,std4,std5,std6,std17,std7,std8,std9,std10,std11,std12,std13,std14,std15,std16]\n",
    "labels = (\"edge\",\"CF1\",\"CF2\",\"CF3\",\"CF4\",\"CF5\",\"VF1\",\"VF2\",\"VF3\",\"VF4\",\"VF5\",\"VF6\",\"VF7\",\"VF8\",\"VF9\",\"VF10\",\"VF11\")\n",
    "data_x = np.arange(len(labels))\n",
    "# # df = pd.DataFrame(data)\n",
    "# df.index=[' ']\n",
    "# df"
   ]
  },
  {
   "cell_type": "code",
   "execution_count": 59,
   "metadata": {},
   "outputs": [],
   "source": [
    "data_y_cauctions = [score1,score2,score3,score4,score5,score6,score17,score7,score8,score9,score10,score11,score12,score13,score14,score15,score16]\n",
    "std_err_cauctions=[std1,std2,std3,std4,std5,std6,std17,std7,std8,std9,std10,std11,std12,std13,std14,std15,std16]"
   ]
  },
  {
   "cell_type": "code",
   "execution_count": 169,
   "metadata": {},
   "outputs": [],
   "source": [
    "data_y_indset = [score1,score2,score3,score4,score5,score6,score17,score7,score8,score9,score10,score11,score12,score13,score14,score15,score16]\n",
    "std_err_indset=[std1,std2,std3,std4,std5,std6,std17,std7,std8,std9,std10,std11,std12,std13,std14,std15,std16]"
   ]
  },
  {
   "cell_type": "code",
   "execution_count": 238,
   "metadata": {},
   "outputs": [],
   "source": [
    "data_y_facilities = [score1,score2,score3,score4,score5,score6,score17,score7,score8,score9,score10,score11,score12,score13,score14,score15,score16]\n",
    "std_err_facilities=[std1,std2,std3,std4,std5,std6,std17,std7,std8,std9,std10,std11,std12,std13,std14,std15,std16]"
   ]
  },
  {
   "cell_type": "code",
   "execution_count": 261,
   "metadata": {},
   "outputs": [
    {
     "data": {
      "text/html": [
       "<div>\n",
       "<style scoped>\n",
       "    .dataframe tbody tr th:only-of-type {\n",
       "        vertical-align: middle;\n",
       "    }\n",
       "\n",
       "    .dataframe tbody tr th {\n",
       "        vertical-align: top;\n",
       "    }\n",
       "\n",
       "    .dataframe thead th {\n",
       "        text-align: right;\n",
       "    }\n",
       "</style>\n",
       "<table border=\"1\" class=\"dataframe\">\n",
       "  <thead>\n",
       "    <tr style=\"text-align: right;\">\n",
       "      <th></th>\n",
       "      <th>setcover</th>\n",
       "      <th>cauctions</th>\n",
       "      <th>facilities</th>\n",
       "      <th>indset</th>\n",
       "    </tr>\n",
       "  </thead>\n",
       "  <tbody>\n",
       "    <tr>\n",
       "      <th>edge</th>\n",
       "      <td>NaN</td>\n",
       "      <td>NaN</td>\n",
       "      <td>NaN</td>\n",
       "      <td>NaN</td>\n",
       "    </tr>\n",
       "    <tr>\n",
       "      <th>CF1</th>\n",
       "      <td>NaN</td>\n",
       "      <td>NaN</td>\n",
       "      <td>NaN</td>\n",
       "      <td>NaN</td>\n",
       "    </tr>\n",
       "    <tr>\n",
       "      <th>CF2</th>\n",
       "      <td>NaN</td>\n",
       "      <td>NaN</td>\n",
       "      <td>NaN</td>\n",
       "      <td>NaN</td>\n",
       "    </tr>\n",
       "    <tr>\n",
       "      <th>CF3</th>\n",
       "      <td>NaN</td>\n",
       "      <td>NaN</td>\n",
       "      <td>NaN</td>\n",
       "      <td>NaN</td>\n",
       "    </tr>\n",
       "    <tr>\n",
       "      <th>CF4</th>\n",
       "      <td>NaN</td>\n",
       "      <td>NaN</td>\n",
       "      <td>NaN</td>\n",
       "      <td>NaN</td>\n",
       "    </tr>\n",
       "    <tr>\n",
       "      <th>CF5</th>\n",
       "      <td>NaN</td>\n",
       "      <td>NaN</td>\n",
       "      <td>NaN</td>\n",
       "      <td>NaN</td>\n",
       "    </tr>\n",
       "    <tr>\n",
       "      <th>VF1</th>\n",
       "      <td>NaN</td>\n",
       "      <td>NaN</td>\n",
       "      <td>NaN</td>\n",
       "      <td>NaN</td>\n",
       "    </tr>\n",
       "    <tr>\n",
       "      <th>VF2</th>\n",
       "      <td>NaN</td>\n",
       "      <td>NaN</td>\n",
       "      <td>NaN</td>\n",
       "      <td>NaN</td>\n",
       "    </tr>\n",
       "    <tr>\n",
       "      <th>VF3</th>\n",
       "      <td>NaN</td>\n",
       "      <td>NaN</td>\n",
       "      <td>NaN</td>\n",
       "      <td>NaN</td>\n",
       "    </tr>\n",
       "    <tr>\n",
       "      <th>VF4</th>\n",
       "      <td>NaN</td>\n",
       "      <td>NaN</td>\n",
       "      <td>NaN</td>\n",
       "      <td>NaN</td>\n",
       "    </tr>\n",
       "    <tr>\n",
       "      <th>VF5</th>\n",
       "      <td>NaN</td>\n",
       "      <td>NaN</td>\n",
       "      <td>NaN</td>\n",
       "      <td>NaN</td>\n",
       "    </tr>\n",
       "    <tr>\n",
       "      <th>VF6</th>\n",
       "      <td>NaN</td>\n",
       "      <td>NaN</td>\n",
       "      <td>NaN</td>\n",
       "      <td>NaN</td>\n",
       "    </tr>\n",
       "    <tr>\n",
       "      <th>VF7</th>\n",
       "      <td>NaN</td>\n",
       "      <td>NaN</td>\n",
       "      <td>NaN</td>\n",
       "      <td>NaN</td>\n",
       "    </tr>\n",
       "    <tr>\n",
       "      <th>VF8</th>\n",
       "      <td>NaN</td>\n",
       "      <td>NaN</td>\n",
       "      <td>NaN</td>\n",
       "      <td>NaN</td>\n",
       "    </tr>\n",
       "    <tr>\n",
       "      <th>VF9</th>\n",
       "      <td>NaN</td>\n",
       "      <td>NaN</td>\n",
       "      <td>NaN</td>\n",
       "      <td>NaN</td>\n",
       "    </tr>\n",
       "    <tr>\n",
       "      <th>VF10</th>\n",
       "      <td>NaN</td>\n",
       "      <td>NaN</td>\n",
       "      <td>NaN</td>\n",
       "      <td>NaN</td>\n",
       "    </tr>\n",
       "    <tr>\n",
       "      <th>VF11</th>\n",
       "      <td>NaN</td>\n",
       "      <td>NaN</td>\n",
       "      <td>NaN</td>\n",
       "      <td>NaN</td>\n",
       "    </tr>\n",
       "  </tbody>\n",
       "</table>\n",
       "</div>"
      ],
      "text/plain": [
       "     setcover cauctions facilities indset\n",
       "edge      NaN       NaN        NaN    NaN\n",
       "CF1       NaN       NaN        NaN    NaN\n",
       "CF2       NaN       NaN        NaN    NaN\n",
       "CF3       NaN       NaN        NaN    NaN\n",
       "CF4       NaN       NaN        NaN    NaN\n",
       "CF5       NaN       NaN        NaN    NaN\n",
       "VF1       NaN       NaN        NaN    NaN\n",
       "VF2       NaN       NaN        NaN    NaN\n",
       "VF3       NaN       NaN        NaN    NaN\n",
       "VF4       NaN       NaN        NaN    NaN\n",
       "VF5       NaN       NaN        NaN    NaN\n",
       "VF6       NaN       NaN        NaN    NaN\n",
       "VF7       NaN       NaN        NaN    NaN\n",
       "VF8       NaN       NaN        NaN    NaN\n",
       "VF9       NaN       NaN        NaN    NaN\n",
       "VF10      NaN       NaN        NaN    NaN\n",
       "VF11      NaN       NaN        NaN    NaN"
      ]
     },
     "execution_count": 261,
     "metadata": {},
     "output_type": "execute_result"
    }
   ],
   "source": [
    "df = pd.DataFrame(columns=[\"setcover\",\"cauctions\",\"facilities\",\"indset\"],index=[\"edge\",\"CF1\",\"CF2\",\"CF3\",\"CF4\",\"CF5\",\"VF1\",\"VF2\",\"VF3\",\"VF4\",\"VF5\",\"VF6\",\"VF7\",\"VF8\",\"VF9\",\"VF10\",\"VF11\"])\n",
    "df"
   ]
  },
  {
   "cell_type": "code",
   "execution_count": 262,
   "metadata": {},
   "outputs": [
    {
     "data": {
      "text/html": [
       "<div>\n",
       "<style scoped>\n",
       "    .dataframe tbody tr th:only-of-type {\n",
       "        vertical-align: middle;\n",
       "    }\n",
       "\n",
       "    .dataframe tbody tr th {\n",
       "        vertical-align: top;\n",
       "    }\n",
       "\n",
       "    .dataframe thead th {\n",
       "        text-align: right;\n",
       "    }\n",
       "</style>\n",
       "<table border=\"1\" class=\"dataframe\">\n",
       "  <thead>\n",
       "    <tr style=\"text-align: right;\">\n",
       "      <th></th>\n",
       "      <th>setcover</th>\n",
       "      <th>cauctions</th>\n",
       "      <th>facilities</th>\n",
       "      <th>indset</th>\n",
       "    </tr>\n",
       "  </thead>\n",
       "  <tbody>\n",
       "    <tr>\n",
       "      <th>edge</th>\n",
       "      <td>0.007825</td>\n",
       "      <td>0.002862</td>\n",
       "      <td>-0.001175</td>\n",
       "      <td>-0.007213</td>\n",
       "    </tr>\n",
       "    <tr>\n",
       "      <th>CF1</th>\n",
       "      <td>0.004588</td>\n",
       "      <td>0.028787</td>\n",
       "      <td>-0.005088</td>\n",
       "      <td>0.037325</td>\n",
       "    </tr>\n",
       "    <tr>\n",
       "      <th>CF2</th>\n",
       "      <td>0.004700</td>\n",
       "      <td>0.012325</td>\n",
       "      <td>-0.006125</td>\n",
       "      <td>0.041625</td>\n",
       "    </tr>\n",
       "    <tr>\n",
       "      <th>CF3</th>\n",
       "      <td>0.162725</td>\n",
       "      <td>0.004825</td>\n",
       "      <td>0.000725</td>\n",
       "      <td>0.004950</td>\n",
       "    </tr>\n",
       "    <tr>\n",
       "      <th>CF4</th>\n",
       "      <td>0.009462</td>\n",
       "      <td>-0.002387</td>\n",
       "      <td>0.000325</td>\n",
       "      <td>0.004700</td>\n",
       "    </tr>\n",
       "    <tr>\n",
       "      <th>CF5</th>\n",
       "      <td>0.206437</td>\n",
       "      <td>-0.000025</td>\n",
       "      <td>-0.000075</td>\n",
       "      <td>0.002163</td>\n",
       "    </tr>\n",
       "    <tr>\n",
       "      <th>VF1</th>\n",
       "      <td>0.000000</td>\n",
       "      <td>0.000000</td>\n",
       "      <td>0.165475</td>\n",
       "      <td>0.000000</td>\n",
       "    </tr>\n",
       "    <tr>\n",
       "      <th>VF2</th>\n",
       "      <td>0.027487</td>\n",
       "      <td>0.020412</td>\n",
       "      <td>-0.001063</td>\n",
       "      <td>0.000000</td>\n",
       "    </tr>\n",
       "    <tr>\n",
       "      <th>VF3</th>\n",
       "      <td>0.040275</td>\n",
       "      <td>0.113975</td>\n",
       "      <td>-0.003588</td>\n",
       "      <td>-0.016625</td>\n",
       "    </tr>\n",
       "    <tr>\n",
       "      <th>VF4</th>\n",
       "      <td>0.070212</td>\n",
       "      <td>0.066912</td>\n",
       "      <td>-0.000663</td>\n",
       "      <td>0.004325</td>\n",
       "    </tr>\n",
       "    <tr>\n",
       "      <th>VF5</th>\n",
       "      <td>0.380912</td>\n",
       "      <td>0.346712</td>\n",
       "      <td>0.111125</td>\n",
       "      <td>0.005950</td>\n",
       "    </tr>\n",
       "    <tr>\n",
       "      <th>VF6</th>\n",
       "      <td>0.102750</td>\n",
       "      <td>0.265475</td>\n",
       "      <td>-0.006500</td>\n",
       "      <td>-0.066863</td>\n",
       "    </tr>\n",
       "    <tr>\n",
       "      <th>VF7</th>\n",
       "      <td>0.012925</td>\n",
       "      <td>0.007150</td>\n",
       "      <td>-0.000538</td>\n",
       "      <td>-0.043350</td>\n",
       "    </tr>\n",
       "    <tr>\n",
       "      <th>VF8</th>\n",
       "      <td>0.021312</td>\n",
       "      <td>0.018050</td>\n",
       "      <td>-0.001613</td>\n",
       "      <td>-0.034313</td>\n",
       "    </tr>\n",
       "    <tr>\n",
       "      <th>VF9</th>\n",
       "      <td>0.210425</td>\n",
       "      <td>0.103738</td>\n",
       "      <td>0.002413</td>\n",
       "      <td>0.020062</td>\n",
       "    </tr>\n",
       "    <tr>\n",
       "      <th>VF10</th>\n",
       "      <td>-0.004550</td>\n",
       "      <td>-0.004388</td>\n",
       "      <td>-0.001225</td>\n",
       "      <td>0.006387</td>\n",
       "    </tr>\n",
       "    <tr>\n",
       "      <th>VF11</th>\n",
       "      <td>0.004212</td>\n",
       "      <td>-0.004850</td>\n",
       "      <td>-0.000100</td>\n",
       "      <td>0.010775</td>\n",
       "    </tr>\n",
       "  </tbody>\n",
       "</table>\n",
       "</div>"
      ],
      "text/plain": [
       "      setcover  cauctions  facilities    indset\n",
       "edge  0.007825   0.002862   -0.001175 -0.007213\n",
       "CF1   0.004588   0.028787   -0.005088  0.037325\n",
       "CF2   0.004700   0.012325   -0.006125  0.041625\n",
       "CF3   0.162725   0.004825    0.000725  0.004950\n",
       "CF4   0.009462  -0.002387    0.000325  0.004700\n",
       "CF5   0.206437  -0.000025   -0.000075  0.002163\n",
       "VF1   0.000000   0.000000    0.165475  0.000000\n",
       "VF2   0.027487   0.020412   -0.001063  0.000000\n",
       "VF3   0.040275   0.113975   -0.003588 -0.016625\n",
       "VF4   0.070212   0.066912   -0.000663  0.004325\n",
       "VF5   0.380912   0.346712    0.111125  0.005950\n",
       "VF6   0.102750   0.265475   -0.006500 -0.066863\n",
       "VF7   0.012925   0.007150   -0.000538 -0.043350\n",
       "VF8   0.021312   0.018050   -0.001613 -0.034313\n",
       "VF9   0.210425   0.103738    0.002413  0.020062\n",
       "VF10 -0.004550  -0.004388   -0.001225  0.006387\n",
       "VF11  0.004212  -0.004850   -0.000100  0.010775"
      ]
     },
     "execution_count": 262,
     "metadata": {},
     "output_type": "execute_result"
    }
   ],
   "source": [
    "df[\"setcover\"] = data_y_setcover\n",
    "df[\"cauctions\"] = data_y_cauctions\n",
    "df[\"facilities\"] = data_y_facilities\n",
    "df[\"indset\"] = data_y_indset\n",
    "df"
   ]
  },
  {
   "cell_type": "code",
   "execution_count": 240,
   "metadata": {},
   "outputs": [
    {
     "data": {
      "image/png": "[encoded data removed]",
      "text/plain": [
       "<Figure size 720x576 with 1 Axes>"
      ]
     },
     "metadata": {
      "needs_background": "light"
     },
     "output_type": "display_data"
    }
   ],
   "source": [
    "plt.figure(figsize=(10,8))\n",
    "bar_width = 5\n",
    "plt.xlabel(\"Features\",fontsize=20)\n",
    "plt.ylabel(\"Scores\",fontsize=20)\n",
    "error_params=dict(elinewidth=4,ecolor='coral',capsize=5)\n",
    "plt.bar(x = data_x,height = data_y_setcover,yerr = std_err_setcover,error_kw=error_params,label = \"setcover\")\n",
    "plt.bar(x = data_x,height = data_y_cauctions,bottom = data_y_setcover,yerr = std_err_cauctions,error_kw=error_params,label = \"cauctions\")\n",
    "plt.bar(x = data_x,height = data_y_indset,bottom = np.array(data_y_setcover)+np.array(data_y_cauctions),yerr = std_err_indset,error_kw=error_params,label = \"indset\")\n",
    "plt.bar(x = data_x,height = data_y_facilities,bottom = np.array(data_y_setcover)+np.array(data_y_cauctions)+np.array(data_y_indset),yerr = std_err_indset,error_kw=error_params,label = \"facilities\")\n",
    "plt.tight_layout()\n",
    "plt.xticks(data_x,rotation=290)\n",
    "plt.tick_params(labelsize=15) \n",
    "plt.legend(loc = 'upper right')\n",
    "plt.show()\n",
    "# plt.savefig('indset.pdf',bbox_inches = \"tight\")\n",
    "# ax.set_title(\"SetCover_Permutation\")\n",
    "# ax.set_ylabel('acc@10')\n",
    "# ax.set_ylim(-0.06,0.30)\n",
    "# ax.set_xlim(-0.4,0.3)"
   ]
  },
  {
   "cell_type": "code",
   "execution_count": 269,
   "metadata": {},
   "outputs": [
    {
     "data": {
      "text/plain": [
       "<AxesSubplot:>"
      ]
     },
     "execution_count": 269,
     "metadata": {},
     "output_type": "execute_result"
    },
    {
     "data": {
      "image/png": "[encoded data removed]",
      "text/plain": [
       "<Figure size 432x288 with 1 Axes>"
      ]
     },
     "metadata": {
      "needs_background": "light"
     },
     "output_type": "display_data"
    }
   ],
   "source": [
    "df.plot(kind=\"bar\",stacked=True)\n"
   ]
  }
 ],
 "metadata": {
  "interpreter": {
   "hash": "460d1e8ad1f65cd67cc2e10e182dc6d962fbacdc13e4644fd11070703448b767"
  },
  "kernelspec": {
   "display_name": "Python 3.8.10 64-bit ('learn2branch': conda)",
   "language": "python",
   "name": "python3"
  },
  "language_info": {
   "codemirror_mode": {
    "name": "ipython",
    "version": 3
   },
   "file_extension": ".py",
   "mimetype": "text/x-python",
   "name": "python",
   "nbconvert_exporter": "python",
   "pygments_lexer": "ipython3",
   "version": "3.8.10"
  },
  "orig_nbformat": 4
 },
 "nbformat": 4,
 "nbformat_minor": 2
}
