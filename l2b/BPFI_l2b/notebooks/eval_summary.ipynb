{
 "cells": [
  {
   "cell_type": "code",
   "execution_count": 160,
   "metadata": {},
   "outputs": [],
   "source": [
    "import os\n",
    "os.chdir(\"../\")"
   ]
  },
  {
   "cell_type": "code",
   "execution_count": 162,
   "metadata": {},
   "outputs": [],
   "source": [
    "import glob\n",
    "import pandas as pd\n",
    "import time\n",
    "import numpy as np\n",
    "from scipy import stats"
   ]
  },
  {
   "cell_type": "code",
   "execution_count": 189,
   "metadata": {},
   "outputs": [],
   "source": [
    "resultDir = 'D:\\Program Files\\learn2brancher\\\\results'\n",
    "problem = 'indset' # choices=['setcover', 'cauctions', 'facilities', 'indset']\n",
    "problemSizes = ['small', 'medium']\n",
    "models = ['gcnn:Lodi','gcnn:GraphConv'] # choices: uniform5, depthK, depthK2, depthK3\n",
    "seeds = [0,1,2,3,4]"
   ]
  },
  {
   "cell_type": "code",
   "execution_count": 191,
   "metadata": {},
   "outputs": [],
   "source": [
    "# f1 = \"cauctions_20210710-004536.csv\"\n",
    "# f2 = \"cauctions_20210710-095340.csv\"\n",
    "# df1 = pd.read_csv(f\"{resultDir}/{f1}\")\n",
    "# df2 = pd.read_csv(f\"{resultDir}/{f2}\")\n",
    "# df = pd.concat([df1, df2], ignore_index=True)\n",
    "## df.to_csv(f'{resultDir}/eval_cauctions_ss2ts21_25_dsSmall_trainFast.csv')\n",
    "\n",
    "df = pd.read_csv(f'{resultDir}/indset_20211130-202143.csv')"
   ]
  },
  {
   "cell_type": "code",
   "execution_count": 5,
   "metadata": {},
   "outputs": [],
   "source": [
    "# f1 = \"setcover_20210725-205924.csv\"\n",
    "# f2 = \"setcover_20210726-163252.csv\"\n",
    "# df1 = pd.read_csv(f\"{resultDir}/{f1}\")\n",
    "# df2 = pd.read_csv(f\"{resultDir}/{f2}\")\n",
    "# df = pd.concat([df1, df2], ignore_index=True)\n",
    "# df.to_csv(f'{resultDir}/eval_cauctions_ss2ts21_25_dsSmall_trainFast.csv')"
   ]
  },
  {
   "cell_type": "code",
   "execution_count": 192,
   "metadata": {},
   "outputs": [],
   "source": [
    "# eval_files = glob.glob(f'{resultDir}/{problem}_*.csv')\n",
    "# eval_file = eval_files[-1]\n",
    "# eval_file = f\"{resultDir}/cauctions_20210710-004536.csv\"\n",
    "\n",
    "# df = pd.read_csv(eval_file)\n",
    "# df_list = []\n",
    "# [df[df['type'] == probSize] for probSize in problemSizes]\n",
    "\n",
    "# df = pd.concat([df[df['type']=='small'], df[df['type']=='medium']])\n",
    "df = pd.concat([df[df['type'] == probSize] for probSize in problemSizes])\n",
    "df = df.astype({'nlps': float, 'nnodes' : float})\n",
    "\n",
    "df_gcnns = df[df['policy'] != 'internal:relpscost'].copy()"
   ]
  },
  {
   "cell_type": "code",
   "execution_count": 193,
   "metadata": {},
   "outputs": [],
   "source": [
    "def gmean_1shifted(x):\n",
    "    return stats.mstats.gmean(x + 1) - 1"
   ]
  },
  {
   "cell_type": "markdown",
   "metadata": {},
   "source": [
    "# 1. Means"
   ]
  },
  {
   "cell_type": "code",
   "execution_count": 194,
   "metadata": {},
   "outputs": [
    {
     "data": {
      "text/html": [
       "<div>\n",
       "<style scoped>\n",
       "    .dataframe tbody tr th:only-of-type {\n",
       "        vertical-align: middle;\n",
       "    }\n",
       "\n",
       "    .dataframe tbody tr th {\n",
       "        vertical-align: top;\n",
       "    }\n",
       "\n",
       "    .dataframe thead th {\n",
       "        text-align: right;\n",
       "    }\n",
       "</style>\n",
       "<table border=\"1\" class=\"dataframe\">\n",
       "  <thead>\n",
       "    <tr style=\"text-align: right;\">\n",
       "      <th></th>\n",
       "      <th></th>\n",
       "      <th>nnodes</th>\n",
       "      <th>stime</th>\n",
       "    </tr>\n",
       "    <tr>\n",
       "      <th>type</th>\n",
       "      <th>policy</th>\n",
       "      <th></th>\n",
       "      <th></th>\n",
       "    </tr>\n",
       "  </thead>\n",
       "  <tbody>\n",
       "    <tr>\n",
       "      <th rowspan=\"2\" valign=\"top\">medium</th>\n",
       "      <th>gcnn:GraphConv</th>\n",
       "      <td>72556.484981</td>\n",
       "      <td>1990.515891</td>\n",
       "    </tr>\n",
       "    <tr>\n",
       "      <th>gcnn:Lodi</th>\n",
       "      <td>17159.131698</td>\n",
       "      <td>530.233589</td>\n",
       "    </tr>\n",
       "    <tr>\n",
       "      <th rowspan=\"2\" valign=\"top\">small</th>\n",
       "      <th>gcnn:GraphConv</th>\n",
       "      <td>58.070292</td>\n",
       "      <td>9.626898</td>\n",
       "    </tr>\n",
       "    <tr>\n",
       "      <th>gcnn:Lodi</th>\n",
       "      <td>164.493876</td>\n",
       "      <td>19.656512</td>\n",
       "    </tr>\n",
       "  </tbody>\n",
       "</table>\n",
       "</div>"
      ],
      "text/plain": [
       "                             nnodes        stime\n",
       "type   policy                                   \n",
       "medium gcnn:GraphConv  72556.484981  1990.515891\n",
       "       gcnn:Lodi       17159.131698   530.233589\n",
       "small  gcnn:GraphConv     58.070292     9.626898\n",
       "       gcnn:Lodi         164.493876    19.656512"
      ]
     },
     "execution_count": 194,
     "metadata": {},
     "output_type": "execute_result"
    }
   ],
   "source": [
    "dfgcnns_gmean = df_gcnns.groupby(['type','policy'])[['nnodes', 'stime']].agg(gmean_1shifted)\n",
    "dfgcnns_mean = df_gcnns.groupby(['type','policy'])[['nnodes', 'stime']].mean()\n",
    "dfgcnns_gmean"
   ]
  },
  {
   "cell_type": "code",
   "execution_count": 195,
   "metadata": {},
   "outputs": [],
   "source": [
    "def norm_by_uniform5(dfgcnns_grouped):\n",
    "    df_list = []\n",
    "    for probSize in dfgcnns_grouped.index.levels[0]:\n",
    "        df_list.append(dfgcnns_grouped.loc[probSize] / dfgcnns_grouped.loc[(probSize, 'gcnn:Lodi')])\n",
    "    return pd.concat(df_list, keys=dfgcnns_grouped.index.levels[0])"
   ]
  },
  {
   "cell_type": "code",
   "execution_count": 196,
   "metadata": {},
   "outputs": [
    {
     "data": {
      "text/html": [
       "<div>\n",
       "<style scoped>\n",
       "    .dataframe tbody tr th:only-of-type {\n",
       "        vertical-align: middle;\n",
       "    }\n",
       "\n",
       "    .dataframe tbody tr th {\n",
       "        vertical-align: top;\n",
       "    }\n",
       "\n",
       "    .dataframe thead th {\n",
       "        text-align: right;\n",
       "    }\n",
       "</style>\n",
       "<table border=\"1\" class=\"dataframe\">\n",
       "  <thead>\n",
       "    <tr style=\"text-align: right;\">\n",
       "      <th></th>\n",
       "      <th></th>\n",
       "      <th>nnodes</th>\n",
       "      <th>stime</th>\n",
       "    </tr>\n",
       "    <tr>\n",
       "      <th>type</th>\n",
       "      <th>policy</th>\n",
       "      <th></th>\n",
       "      <th></th>\n",
       "    </tr>\n",
       "  </thead>\n",
       "  <tbody>\n",
       "    <tr>\n",
       "      <th rowspan=\"2\" valign=\"top\">medium</th>\n",
       "      <th>gcnn:GraphConv</th>\n",
       "      <td>4.228447</td>\n",
       "      <td>3.754036</td>\n",
       "    </tr>\n",
       "    <tr>\n",
       "      <th>gcnn:Lodi</th>\n",
       "      <td>1.000000</td>\n",
       "      <td>1.000000</td>\n",
       "    </tr>\n",
       "    <tr>\n",
       "      <th rowspan=\"2\" valign=\"top\">small</th>\n",
       "      <th>gcnn:GraphConv</th>\n",
       "      <td>0.353024</td>\n",
       "      <td>0.489756</td>\n",
       "    </tr>\n",
       "    <tr>\n",
       "      <th>gcnn:Lodi</th>\n",
       "      <td>1.000000</td>\n",
       "      <td>1.000000</td>\n",
       "    </tr>\n",
       "  </tbody>\n",
       "</table>\n",
       "</div>"
      ],
      "text/plain": [
       "                         nnodes     stime\n",
       "type   policy                            \n",
       "medium gcnn:GraphConv  4.228447  3.754036\n",
       "       gcnn:Lodi       1.000000  1.000000\n",
       "small  gcnn:GraphConv  0.353024  0.489756\n",
       "       gcnn:Lodi       1.000000  1.000000"
      ]
     },
     "execution_count": 196,
     "metadata": {},
     "output_type": "execute_result"
    }
   ],
   "source": [
    "dfgcnns_gmean_norm = norm_by_uniform5(dfgcnns_gmean)\n",
    "dfgcnns_mean_norm = norm_by_uniform5(dfgcnns_mean)\n",
    "dfgcnns_gmean_norm"
   ]
  },
  {
   "cell_type": "markdown",
   "metadata": {},
   "source": [
    "# 2. Std variances (per instance)"
   ]
  },
  {
   "cell_type": "code",
   "execution_count": 197,
   "metadata": {},
   "outputs": [],
   "source": [
    "dfgcnns_std_norm_perInstance = df_gcnns.groupby(['type','policy','instance']).std() / df_gcnns.groupby(['type','policy','instance']).mean()"
   ]
  },
  {
   "cell_type": "code",
   "execution_count": 198,
   "metadata": {},
   "outputs": [
    {
     "data": {
      "text/html": [
       "<div>\n",
       "<style scoped>\n",
       "    .dataframe tbody tr th:only-of-type {\n",
       "        vertical-align: middle;\n",
       "    }\n",
       "\n",
       "    .dataframe tbody tr th {\n",
       "        vertical-align: top;\n",
       "    }\n",
       "\n",
       "    .dataframe thead th {\n",
       "        text-align: right;\n",
       "    }\n",
       "</style>\n",
       "<table border=\"1\" class=\"dataframe\">\n",
       "  <thead>\n",
       "    <tr style=\"text-align: right;\">\n",
       "      <th></th>\n",
       "      <th></th>\n",
       "      <th>nnodes</th>\n",
       "      <th>stime</th>\n",
       "    </tr>\n",
       "    <tr>\n",
       "      <th>type</th>\n",
       "      <th>policy</th>\n",
       "      <th></th>\n",
       "      <th></th>\n",
       "    </tr>\n",
       "  </thead>\n",
       "  <tbody>\n",
       "    <tr>\n",
       "      <th rowspan=\"2\" valign=\"top\">medium</th>\n",
       "      <th>gcnn:GraphConv</th>\n",
       "      <td>0.317986</td>\n",
       "      <td>0.194000</td>\n",
       "    </tr>\n",
       "    <tr>\n",
       "      <th>gcnn:Lodi</th>\n",
       "      <td>1.055033</td>\n",
       "      <td>1.015985</td>\n",
       "    </tr>\n",
       "    <tr>\n",
       "      <th rowspan=\"2\" valign=\"top\">small</th>\n",
       "      <th>gcnn:GraphConv</th>\n",
       "      <td>0.807602</td>\n",
       "      <td>0.450945</td>\n",
       "    </tr>\n",
       "    <tr>\n",
       "      <th>gcnn:Lodi</th>\n",
       "      <td>1.447822</td>\n",
       "      <td>0.927304</td>\n",
       "    </tr>\n",
       "  </tbody>\n",
       "</table>\n",
       "</div>"
      ],
      "text/plain": [
       "                         nnodes     stime\n",
       "type   policy                            \n",
       "medium gcnn:GraphConv  0.317986  0.194000\n",
       "       gcnn:Lodi       1.055033  1.015985\n",
       "small  gcnn:GraphConv  0.807602  0.450945\n",
       "       gcnn:Lodi       1.447822  0.927304"
      ]
     },
     "execution_count": 198,
     "metadata": {},
     "output_type": "execute_result"
    }
   ],
   "source": [
    "dfgcnns_std_norm = dfgcnns_std_norm_perInstance.groupby(['type','policy'])[['nnodes','stime']].mean()\n",
    "dfgcnns_std_norm"
   ]
  },
  {
   "cell_type": "markdown",
   "metadata": {},
   "source": [
    "# 做一下 T-Test"
   ]
  },
  {
   "cell_type": "markdown",
   "metadata": {},
   "source": [
    "# 计算Wins"
   ]
  },
  {
   "cell_type": "code",
   "execution_count": 199,
   "metadata": {},
   "outputs": [],
   "source": [
    "ttest_res = pd.DataFrame(index=dfgcnns_mean_norm.index, columns=pd.MultiIndex.from_product((['nnodes', 'stime'], ['t_stats', 'p_value'])))\n",
    "for metric in ['nnodes', 'stime']:\n",
    "    for probSize in dfgcnns_mean_norm.index.levels[0]: # medium, small\n",
    "        mean2 = 1\n",
    "        std2 = dfgcnns_std_norm.at[(probSize,'gcnn:Lodi'),metric]\n",
    "        for policy in dfgcnns_mean_norm.index.levels[1]: # depthK, depthK2, uniform5\n",
    "            mean1 = dfgcnns_mean_norm.at[(probSize,policy),metric]\n",
    "            std1_norm = dfgcnns_std_norm.at[(probSize,policy),metric]\n",
    "            std1 = std1_norm * mean1\n",
    "            t_stats, p_value = stats.ttest_ind_from_stats(mean1, std1, 100, mean2, std2, 100)\n",
    "            ttest_res.loc[(probSize,policy),(metric,)] = [t_stats, p_value]"
   ]
  },
  {
   "cell_type": "code",
   "execution_count": 200,
   "metadata": {},
   "outputs": [
    {
     "data": {
      "text/html": [
       "<div>\n",
       "<style scoped>\n",
       "    .dataframe tbody tr th:only-of-type {\n",
       "        vertical-align: middle;\n",
       "    }\n",
       "\n",
       "    .dataframe tbody tr th {\n",
       "        vertical-align: top;\n",
       "    }\n",
       "\n",
       "    .dataframe thead tr th {\n",
       "        text-align: left;\n",
       "    }\n",
       "\n",
       "    .dataframe thead tr:last-of-type th {\n",
       "        text-align: right;\n",
       "    }\n",
       "</style>\n",
       "<table border=\"1\" class=\"dataframe\">\n",
       "  <thead>\n",
       "    <tr>\n",
       "      <th></th>\n",
       "      <th></th>\n",
       "      <th colspan=\"2\" halign=\"left\">nnodes</th>\n",
       "      <th colspan=\"2\" halign=\"left\">stime</th>\n",
       "    </tr>\n",
       "    <tr>\n",
       "      <th></th>\n",
       "      <th></th>\n",
       "      <th>t_stats</th>\n",
       "      <th>p_value</th>\n",
       "      <th>t_stats</th>\n",
       "      <th>p_value</th>\n",
       "    </tr>\n",
       "    <tr>\n",
       "      <th>type</th>\n",
       "      <th>policy</th>\n",
       "      <th></th>\n",
       "      <th></th>\n",
       "      <th></th>\n",
       "      <th></th>\n",
       "    </tr>\n",
       "  </thead>\n",
       "  <tbody>\n",
       "    <tr>\n",
       "      <th rowspan=\"2\" valign=\"top\">medium</th>\n",
       "      <th>gcnn:GraphConv</th>\n",
       "      <td>7.011514</td>\n",
       "      <td>0.0</td>\n",
       "      <td>7.06828</td>\n",
       "      <td>0.0</td>\n",
       "    </tr>\n",
       "    <tr>\n",
       "      <th>gcnn:Lodi</th>\n",
       "      <td>0.0</td>\n",
       "      <td>1.0</td>\n",
       "      <td>0.0</td>\n",
       "      <td>1.0</td>\n",
       "    </tr>\n",
       "    <tr>\n",
       "      <th rowspan=\"2\" valign=\"top\">small</th>\n",
       "      <th>gcnn:GraphConv</th>\n",
       "      <td>-4.470817</td>\n",
       "      <td>0.000013</td>\n",
       "      <td>-7.284967</td>\n",
       "      <td>0.0</td>\n",
       "    </tr>\n",
       "    <tr>\n",
       "      <th>gcnn:Lodi</th>\n",
       "      <td>0.0</td>\n",
       "      <td>1.0</td>\n",
       "      <td>0.0</td>\n",
       "      <td>1.0</td>\n",
       "    </tr>\n",
       "  </tbody>\n",
       "</table>\n",
       "</div>"
      ],
      "text/plain": [
       "                         nnodes               stime        \n",
       "                        t_stats   p_value   t_stats p_value\n",
       "type   policy                                              \n",
       "medium gcnn:GraphConv  7.011514       0.0   7.06828     0.0\n",
       "       gcnn:Lodi            0.0       1.0       0.0     1.0\n",
       "small  gcnn:GraphConv -4.470817  0.000013 -7.284967     0.0\n",
       "       gcnn:Lodi            0.0       1.0       0.0     1.0"
      ]
     },
     "execution_count": 200,
     "metadata": {},
     "output_type": "execute_result"
    }
   ],
   "source": [
    "ttest_res"
   ]
  },
  {
   "cell_type": "code",
   "execution_count": 201,
   "metadata": {},
   "outputs": [
    {
     "data": {
      "text/plain": [
       "type    instance                                             seed\n",
       "medium  data/instances/indset/transfer_1000_4/instance_1.lp  0       205.0\n",
       "                                                             1       206.0\n",
       "                                                             2       202.0\n",
       "                                                             3       203.0\n",
       "                                                             4       209.0\n",
       "                                                                     ...  \n",
       "small   data/instances/indset/transfer_500_4/instance_9.lp   0        80.0\n",
       "                                                             1        81.0\n",
       "                                                             2        87.0\n",
       "                                                             3        83.0\n",
       "                                                             4        84.0\n",
       "Name: stime, Length: 200, dtype: float64"
      ]
     },
     "execution_count": 201,
     "metadata": {},
     "output_type": "execute_result"
    }
   ],
   "source": [
    "winner_idx = df_gcnns.groupby(['type','instance','seed'])['stime'].agg(pd.Series.idxmin)\n",
    "winner_idx"
   ]
  },
  {
   "cell_type": "code",
   "execution_count": 202,
   "metadata": {},
   "outputs": [],
   "source": [
    "df_gcnns['wins'] = 0\n",
    "df_gcnns.loc[winner_idx,'wins'] = 1"
   ]
  },
  {
   "cell_type": "code",
   "execution_count": 203,
   "metadata": {},
   "outputs": [
    {
     "data": {
      "text/plain": [
       "200"
      ]
     },
     "execution_count": 203,
     "metadata": {},
     "output_type": "execute_result"
    }
   ],
   "source": [
    "len(winner_idx)"
   ]
  },
  {
   "cell_type": "code",
   "execution_count": 204,
   "metadata": {},
   "outputs": [
    {
     "data": {
      "text/plain": [
       "type    policy        \n",
       "medium  gcnn:GraphConv    37\n",
       "        gcnn:Lodi         63\n",
       "small   gcnn:GraphConv    59\n",
       "        gcnn:Lodi         41\n",
       "Name: wins, dtype: int64"
      ]
     },
     "execution_count": 204,
     "metadata": {},
     "output_type": "execute_result"
    }
   ],
   "source": [
    "dfgcnns_wins = df_gcnns.groupby(['type', 'policy'])['wins'].sum()\n",
    "dfgcnns_wins"
   ]
  },
  {
   "cell_type": "code",
   "execution_count": 205,
   "metadata": {},
   "outputs": [
    {
     "data": {
      "text/plain": [
       "Ttest_indResult(statistic=-2.455047672770633, pvalue=0.014949535302005438)"
      ]
     },
     "execution_count": 205,
     "metadata": {},
     "output_type": "execute_result"
    }
   ],
   "source": [
    "stats.ttest_ind_from_stats(0.967777, 0.085076*0.967777, 100, 1, 0.102216, 100)"
   ]
  },
  {
   "cell_type": "markdown",
   "metadata": {},
   "source": [
    "# 把Means、std 和 Wins合并起来"
   ]
  },
  {
   "cell_type": "code",
   "execution_count": 206,
   "metadata": {},
   "outputs": [
    {
     "data": {
      "text/html": [
       "<div>\n",
       "<style scoped>\n",
       "    .dataframe tbody tr th:only-of-type {\n",
       "        vertical-align: middle;\n",
       "    }\n",
       "\n",
       "    .dataframe tbody tr th {\n",
       "        vertical-align: top;\n",
       "    }\n",
       "\n",
       "    .dataframe thead tr th {\n",
       "        text-align: left;\n",
       "    }\n",
       "\n",
       "    .dataframe thead tr:last-of-type th {\n",
       "        text-align: right;\n",
       "    }\n",
       "</style>\n",
       "<table border=\"1\" class=\"dataframe\">\n",
       "  <thead>\n",
       "    <tr>\n",
       "      <th></th>\n",
       "      <th></th>\n",
       "      <th colspan=\"2\" halign=\"left\">gmean</th>\n",
       "      <th colspan=\"2\" halign=\"left\">std</th>\n",
       "      <th>wins</th>\n",
       "    </tr>\n",
       "    <tr>\n",
       "      <th></th>\n",
       "      <th></th>\n",
       "      <th>nnodes</th>\n",
       "      <th>stime</th>\n",
       "      <th>nnodes</th>\n",
       "      <th>stime</th>\n",
       "      <th>wins</th>\n",
       "    </tr>\n",
       "    <tr>\n",
       "      <th>type</th>\n",
       "      <th>policy</th>\n",
       "      <th></th>\n",
       "      <th></th>\n",
       "      <th></th>\n",
       "      <th></th>\n",
       "      <th></th>\n",
       "    </tr>\n",
       "  </thead>\n",
       "  <tbody>\n",
       "    <tr>\n",
       "      <th rowspan=\"2\" valign=\"top\">medium</th>\n",
       "      <th>gcnn:GraphConv</th>\n",
       "      <td>4.228447</td>\n",
       "      <td>3.754036</td>\n",
       "      <td>0.317986</td>\n",
       "      <td>0.194000</td>\n",
       "      <td>37</td>\n",
       "    </tr>\n",
       "    <tr>\n",
       "      <th>gcnn:Lodi</th>\n",
       "      <td>1.000000</td>\n",
       "      <td>1.000000</td>\n",
       "      <td>1.055033</td>\n",
       "      <td>1.015985</td>\n",
       "      <td>63</td>\n",
       "    </tr>\n",
       "    <tr>\n",
       "      <th rowspan=\"2\" valign=\"top\">small</th>\n",
       "      <th>gcnn:GraphConv</th>\n",
       "      <td>0.353024</td>\n",
       "      <td>0.489756</td>\n",
       "      <td>0.807602</td>\n",
       "      <td>0.450945</td>\n",
       "      <td>59</td>\n",
       "    </tr>\n",
       "    <tr>\n",
       "      <th>gcnn:Lodi</th>\n",
       "      <td>1.000000</td>\n",
       "      <td>1.000000</td>\n",
       "      <td>1.447822</td>\n",
       "      <td>0.927304</td>\n",
       "      <td>41</td>\n",
       "    </tr>\n",
       "  </tbody>\n",
       "</table>\n",
       "</div>"
      ],
      "text/plain": [
       "                          gmean                 std           wins\n",
       "                         nnodes     stime    nnodes     stime wins\n",
       "type   policy                                                     \n",
       "medium gcnn:GraphConv  4.228447  3.754036  0.317986  0.194000   37\n",
       "       gcnn:Lodi       1.000000  1.000000  1.055033  1.015985   63\n",
       "small  gcnn:GraphConv  0.353024  0.489756  0.807602  0.450945   59\n",
       "       gcnn:Lodi       1.000000  1.000000  1.447822  0.927304   41"
      ]
     },
     "execution_count": 206,
     "metadata": {},
     "output_type": "execute_result"
    }
   ],
   "source": [
    "pd.concat([dfgcnns_gmean_norm, dfgcnns_std_norm, dfgcnns_wins], axis=1, keys=['gmean','std','wins'])"
   ]
  },
  {
   "cell_type": "code",
   "execution_count": 207,
   "metadata": {},
   "outputs": [
    {
     "data": {
      "text/plain": [
       "MultiIndex([( 'small',      'gcnn:Lodi'),\n",
       "            ( 'small', 'gcnn:GraphConv'),\n",
       "            ('medium',      'gcnn:Lodi'),\n",
       "            ('medium', 'gcnn:GraphConv')],\n",
       "           names=['type', 'policy'])"
      ]
     },
     "execution_count": 207,
     "metadata": {},
     "output_type": "execute_result"
    }
   ],
   "source": [
    "# output_idx = pd.MultiIndex.from_product((dfgcnns_gmean_norm.index.get_level_values('type').unique(), sampling_Strategies), names=['type', 'sampling_strategy'])\n",
    "output_idx = pd.MultiIndex.from_product((problemSizes, models), names=['type', 'policy'])\n",
    "output_idx"
   ]
  },
  {
   "cell_type": "code",
   "execution_count": 208,
   "metadata": {},
   "outputs": [],
   "source": [
    "output_df_mean = dfgcnns_gmean_norm.reindex(output_idx)\n",
    "output_df_std = dfgcnns_std_norm.reindex(output_idx)\n",
    "output_df_wins = dfgcnns_wins.reindex(output_idx)\n",
    "output_df_ttest = ttest_res.reindex(output_idx)"
   ]
  },
  {
   "cell_type": "code",
   "execution_count": 209,
   "metadata": {},
   "outputs": [
    {
     "data": {
      "text/html": [
       "<div>\n",
       "<style scoped>\n",
       "    .dataframe tbody tr th:only-of-type {\n",
       "        vertical-align: middle;\n",
       "    }\n",
       "\n",
       "    .dataframe tbody tr th {\n",
       "        vertical-align: top;\n",
       "    }\n",
       "\n",
       "    .dataframe thead th {\n",
       "        text-align: right;\n",
       "    }\n",
       "</style>\n",
       "<table border=\"1\" class=\"dataframe\">\n",
       "  <thead>\n",
       "    <tr style=\"text-align: right;\">\n",
       "      <th></th>\n",
       "      <th></th>\n",
       "      <th>nnodes</th>\n",
       "      <th>stime</th>\n",
       "      <th>wins</th>\n",
       "      <th>t-stats (p-val)</th>\n",
       "    </tr>\n",
       "    <tr>\n",
       "      <th>type</th>\n",
       "      <th>policy</th>\n",
       "      <th></th>\n",
       "      <th></th>\n",
       "      <th></th>\n",
       "      <th></th>\n",
       "    </tr>\n",
       "  </thead>\n",
       "  <tbody>\n",
       "    <tr>\n",
       "      <th rowspan=\"2\" valign=\"top\">small</th>\n",
       "      <th>gcnn:Lodi</th>\n",
       "      <td>NaN</td>\n",
       "      <td>NaN</td>\n",
       "      <td>NaN</td>\n",
       "      <td>NaN</td>\n",
       "    </tr>\n",
       "    <tr>\n",
       "      <th>gcnn:GraphConv</th>\n",
       "      <td>NaN</td>\n",
       "      <td>NaN</td>\n",
       "      <td>NaN</td>\n",
       "      <td>NaN</td>\n",
       "    </tr>\n",
       "    <tr>\n",
       "      <th rowspan=\"2\" valign=\"top\">medium</th>\n",
       "      <th>gcnn:Lodi</th>\n",
       "      <td>NaN</td>\n",
       "      <td>NaN</td>\n",
       "      <td>NaN</td>\n",
       "      <td>NaN</td>\n",
       "    </tr>\n",
       "    <tr>\n",
       "      <th>gcnn:GraphConv</th>\n",
       "      <td>NaN</td>\n",
       "      <td>NaN</td>\n",
       "      <td>NaN</td>\n",
       "      <td>NaN</td>\n",
       "    </tr>\n",
       "  </tbody>\n",
       "</table>\n",
       "</div>"
      ],
      "text/plain": [
       "                      nnodes stime wins t-stats (p-val)\n",
       "type   policy                                          \n",
       "small  gcnn:Lodi         NaN   NaN  NaN             NaN\n",
       "       gcnn:GraphConv    NaN   NaN  NaN             NaN\n",
       "medium gcnn:Lodi         NaN   NaN  NaN             NaN\n",
       "       gcnn:GraphConv    NaN   NaN  NaN             NaN"
      ]
     },
     "execution_count": 209,
     "metadata": {},
     "output_type": "execute_result"
    }
   ],
   "source": [
    "out_df1 = pd.DataFrame(index=output_idx, columns=['nnodes', 'stime', 'wins', 't-stats (p-val)'])\n",
    "out_df1"
   ]
  },
  {
   "cell_type": "code",
   "execution_count": 210,
   "metadata": {},
   "outputs": [],
   "source": [
    "for col_name in ['nnodes', 'stime']:\n",
    "    out_df1[col_name] = [\"%.4fr ± %.2f\" % (m, s*100) + \"%\" for (m, s) in zip(output_df_mean[col_name], output_df_std[col_name])]\n",
    "out_df1['wins'] = output_df_wins"
   ]
  },
  {
   "cell_type": "code",
   "execution_count": 211,
   "metadata": {},
   "outputs": [],
   "source": [
    "out_df1['t-stats (p-val)'] = [\"%.2f(%.4f)\" % (t, p) for (t, p) in zip(output_df_ttest[('stime','t_stats')], output_df_ttest[('stime','p_value')])]"
   ]
  },
  {
   "cell_type": "code",
   "execution_count": 212,
   "metadata": {},
   "outputs": [
    {
     "data": {
      "text/html": [
       "<div>\n",
       "<style scoped>\n",
       "    .dataframe tbody tr th:only-of-type {\n",
       "        vertical-align: middle;\n",
       "    }\n",
       "\n",
       "    .dataframe tbody tr th {\n",
       "        vertical-align: top;\n",
       "    }\n",
       "\n",
       "    .dataframe thead th {\n",
       "        text-align: right;\n",
       "    }\n",
       "</style>\n",
       "<table border=\"1\" class=\"dataframe\">\n",
       "  <thead>\n",
       "    <tr style=\"text-align: right;\">\n",
       "      <th></th>\n",
       "      <th></th>\n",
       "      <th>nnodes</th>\n",
       "      <th>stime</th>\n",
       "      <th>wins</th>\n",
       "      <th>t-stats (p-val)</th>\n",
       "    </tr>\n",
       "    <tr>\n",
       "      <th>type</th>\n",
       "      <th>policy</th>\n",
       "      <th></th>\n",
       "      <th></th>\n",
       "      <th></th>\n",
       "      <th></th>\n",
       "    </tr>\n",
       "  </thead>\n",
       "  <tbody>\n",
       "    <tr>\n",
       "      <th rowspan=\"2\" valign=\"top\">small</th>\n",
       "      <th>gcnn:Lodi</th>\n",
       "      <td>1.0000r ± 144.78%</td>\n",
       "      <td>1.0000r ± 92.73%</td>\n",
       "      <td>41</td>\n",
       "      <td>0.00(1.0000)</td>\n",
       "    </tr>\n",
       "    <tr>\n",
       "      <th>gcnn:GraphConv</th>\n",
       "      <td>0.3530r ± 80.76%</td>\n",
       "      <td>0.4898r ± 45.09%</td>\n",
       "      <td>59</td>\n",
       "      <td>-7.28(0.0000)</td>\n",
       "    </tr>\n",
       "    <tr>\n",
       "      <th rowspan=\"2\" valign=\"top\">medium</th>\n",
       "      <th>gcnn:Lodi</th>\n",
       "      <td>1.0000r ± 105.50%</td>\n",
       "      <td>1.0000r ± 101.60%</td>\n",
       "      <td>63</td>\n",
       "      <td>0.00(1.0000)</td>\n",
       "    </tr>\n",
       "    <tr>\n",
       "      <th>gcnn:GraphConv</th>\n",
       "      <td>4.2284r ± 31.80%</td>\n",
       "      <td>3.7540r ± 19.40%</td>\n",
       "      <td>37</td>\n",
       "      <td>7.07(0.0000)</td>\n",
       "    </tr>\n",
       "  </tbody>\n",
       "</table>\n",
       "</div>"
      ],
      "text/plain": [
       "                                  nnodes              stime  wins  \\\n",
       "type   policy                                                       \n",
       "small  gcnn:Lodi       1.0000r ± 144.78%   1.0000r ± 92.73%    41   \n",
       "       gcnn:GraphConv   0.3530r ± 80.76%   0.4898r ± 45.09%    59   \n",
       "medium gcnn:Lodi       1.0000r ± 105.50%  1.0000r ± 101.60%    63   \n",
       "       gcnn:GraphConv   4.2284r ± 31.80%   3.7540r ± 19.40%    37   \n",
       "\n",
       "                      t-stats (p-val)  \n",
       "type   policy                          \n",
       "small  gcnn:Lodi         0.00(1.0000)  \n",
       "       gcnn:GraphConv   -7.28(0.0000)  \n",
       "medium gcnn:Lodi         0.00(1.0000)  \n",
       "       gcnn:GraphConv    7.07(0.0000)  "
      ]
     },
     "execution_count": 212,
     "metadata": {},
     "output_type": "execute_result"
    }
   ],
   "source": [
    "out_df1"
   ]
  },
  {
   "cell_type": "code",
   "execution_count": 27,
   "metadata": {},
   "outputs": [],
   "source": [
    "out_df1.to_excel('evaluation_cauctions.xlsx')"
   ]
  },
  {
   "cell_type": "code",
   "execution_count": 122,
   "metadata": {},
   "outputs": [
    {
     "data": {
      "text/plain": [
       "Index(['small', 'small', 'medium', 'medium'], dtype='object', name='type')"
      ]
     },
     "execution_count": 122,
     "metadata": {},
     "output_type": "execute_result"
    }
   ],
   "source": [
    "out_df1.index.get_level_values(0)"
   ]
  },
  {
   "cell_type": "code",
   "execution_count": 123,
   "metadata": {},
   "outputs": [
    {
     "data": {
      "text/plain": [
       "MultiIndex([( 'small', 'uniform5'),\n",
       "            ('medium', 'uniform5')],\n",
       "           )"
      ]
     },
     "execution_count": 123,
     "metadata": {},
     "output_type": "execute_result"
    }
   ],
   "source": [
    "pd.MultiIndex.from_product((problemSizes, ['uniform5']))"
   ]
  },
  {
   "cell_type": "code",
   "execution_count": 59,
   "metadata": {},
   "outputs": [],
   "source": []
  },
  {
   "cell_type": "code",
   "execution_count": 62,
   "metadata": {},
   "outputs": [
    {
     "name": "stderr",
     "output_type": "stream",
     "text": [
      "<ipython-input-62-049bb73f2ee1>:3: DeprecationWarning: The default dtype for empty Series will be 'object' instead of 'float64' in a future version. Specify a dtype explicitly to silence this warning.\n",
      "  s = pd.Series()\n"
     ]
    }
   ],
   "source": [
    "out_df = pd.DataFrame()\n",
    "for samp in sampling_Strategies:\n",
    "    s = pd.Series()\n",
    "    for probSize in problemSizes:\n",
    "        s = s.append(out_df1.loc[(probSize, samp)])\n",
    "    out_df[samp] = s"
   ]
  },
  {
   "cell_type": "code",
   "execution_count": 61,
   "metadata": {},
   "outputs": [
    {
     "data": {
      "text/html": [
       "<div>\n",
       "<style scoped>\n",
       "    .dataframe tbody tr th:only-of-type {\n",
       "        vertical-align: middle;\n",
       "    }\n",
       "\n",
       "    .dataframe tbody tr th {\n",
       "        vertical-align: top;\n",
       "    }\n",
       "\n",
       "    .dataframe thead th {\n",
       "        text-align: right;\n",
       "    }\n",
       "</style>\n",
       "<table border=\"1\" class=\"dataframe\">\n",
       "  <thead>\n",
       "    <tr style=\"text-align: right;\">\n",
       "      <th></th>\n",
       "      <th>uniform5</th>\n",
       "      <th>depthK</th>\n",
       "      <th>depthK2</th>\n",
       "    </tr>\n",
       "  </thead>\n",
       "  <tbody>\n",
       "  </tbody>\n",
       "</table>\n",
       "</div>"
      ],
      "text/plain": [
       "Empty DataFrame\n",
       "Columns: [uniform5, depthK, depthK2]\n",
       "Index: []"
      ]
     },
     "execution_count": 61,
     "metadata": {},
     "output_type": "execute_result"
    }
   ],
   "source": [
    "out_df"
   ]
  },
  {
   "cell_type": "code",
   "execution_count": 58,
   "metadata": {},
   "outputs": [
    {
     "data": {
      "text/plain": [
       "nnodes             1.0000r ± 15.82%\n",
       "stime               1.0000r ± 9.12%\n",
       "wins                             39\n",
       "t-stats (p-val)        0.00(1.0000)\n",
       "nnodes             1.0000r ± 17.13%\n",
       "stime              1.0000r ± 13.56%\n",
       "wins                             22\n",
       "t-stats (p-val)        0.00(1.0000)\n",
       "dtype: object"
      ]
     },
     "execution_count": 58,
     "metadata": {},
     "output_type": "execute_result"
    }
   ],
   "source": [
    "out_df1.loc[('small', 'uniform5')].append(out_df1.loc[('medium', 'uniform5')])"
   ]
  },
  {
   "cell_type": "code",
   "execution_count": null,
   "metadata": {},
   "outputs": [],
   "source": []
  }
 ],
 "metadata": {
  "interpreter": {
   "hash": "a2197b5b8e9b471505d2ded00a61d2651dac29e8904a63bed27e0708da5f1381"
  },
  "kernelspec": {
   "display_name": "Python 3.8.5 64-bit ('learn2branch': conda)",
   "name": "python3"
  },
  "language_info": {
   "codemirror_mode": {
    "name": "ipython",
    "version": 3
   },
   "file_extension": ".py",
   "mimetype": "text/x-python",
   "name": "python",
   "nbconvert_exporter": "python",
   "pygments_lexer": "ipython3",
   "version": "3.8.10"
  },
  "orig_nbformat": 4
 },
 "nbformat": 4,
 "nbformat_minor": 2
}
