{
 "cells": [
  {
   "cell_type": "code",
   "execution_count": 1,
   "source": [
    "import os\n",
    "os.chdir(\"../\")"
   ],
   "outputs": [],
   "metadata": {}
  },
  {
   "cell_type": "code",
   "execution_count": 2,
   "source": [
    "import pandas as pd\n",
    "import glob\n",
    "from scipy.stats import ttest_ind"
   ],
   "outputs": [],
   "metadata": {}
  },
  {
   "cell_type": "code",
   "execution_count": 3,
   "source": [
    "resultDir = 'results'"
   ],
   "outputs": [],
   "metadata": {}
  },
  {
   "cell_type": "code",
   "execution_count": 30,
   "source": [
    "problem = 'cauctions' # choices=['setcover', 'cauctions', 'facilities', 'indset']\n",
    "sampling_Strategies = ['uniform5', 'depthK', 'depthK2']\n",
    "sampling_seeds = [0, 0]\n",
    "metric_columns = ['acc@1','acc@3','acc@5','acc@10']"
   ],
   "outputs": [],
   "metadata": {}
  },
  {
   "cell_type": "code",
   "execution_count": 36,
   "source": [
    "df = pd.read_csv(f'{resultDir}/cauctions_uniform5_on_uniform5_ss0_test_20210810-152921.csv')"
   ],
   "outputs": [],
   "metadata": {}
  },
  {
   "cell_type": "code",
   "execution_count": 44,
   "source": [
    "sample_dist = [sampling_Strategy + 'dist' for sampling_Strategy in sampling_Strategies]\n",
    "acc_levels = metric_columns\n",
    "output_idx = pd.MultiIndex.from_product((sample_dist, acc_levels), names=['Sample distribution', 'Accuracy level'])\n",
    "out_df = pd.DataFrame(index=output_idx, columns=sampling_Strategies)\n",
    "out_df"
   ],
   "outputs": [
    {
     "output_type": "execute_result",
     "data": {
      "text/plain": [
       "                                   uniform5 depthK depthK2\n",
       "Sample distribution Accuracy level                        \n",
       "uniform5dist        acc@1               NaN    NaN     NaN\n",
       "                    acc@3               NaN    NaN     NaN\n",
       "                    acc@5               NaN    NaN     NaN\n",
       "                    acc@10              NaN    NaN     NaN\n",
       "depthKdist          acc@1               NaN    NaN     NaN\n",
       "                    acc@3               NaN    NaN     NaN\n",
       "                    acc@5               NaN    NaN     NaN\n",
       "                    acc@10              NaN    NaN     NaN\n",
       "depthK2dist         acc@1               NaN    NaN     NaN\n",
       "                    acc@3               NaN    NaN     NaN\n",
       "                    acc@5               NaN    NaN     NaN\n",
       "                    acc@10              NaN    NaN     NaN"
      ],
      "text/html": [
       "<div>\n",
       "<style scoped>\n",
       "    .dataframe tbody tr th:only-of-type {\n",
       "        vertical-align: middle;\n",
       "    }\n",
       "\n",
       "    .dataframe tbody tr th {\n",
       "        vertical-align: top;\n",
       "    }\n",
       "\n",
       "    .dataframe thead th {\n",
       "        text-align: right;\n",
       "    }\n",
       "</style>\n",
       "<table border=\"1\" class=\"dataframe\">\n",
       "  <thead>\n",
       "    <tr style=\"text-align: right;\">\n",
       "      <th></th>\n",
       "      <th></th>\n",
       "      <th>uniform5</th>\n",
       "      <th>depthK</th>\n",
       "      <th>depthK2</th>\n",
       "    </tr>\n",
       "    <tr>\n",
       "      <th>Sample distribution</th>\n",
       "      <th>Accuracy level</th>\n",
       "      <th></th>\n",
       "      <th></th>\n",
       "      <th></th>\n",
       "    </tr>\n",
       "  </thead>\n",
       "  <tbody>\n",
       "    <tr>\n",
       "      <th rowspan=\"4\" valign=\"top\">uniform5dist</th>\n",
       "      <th>acc@1</th>\n",
       "      <td>NaN</td>\n",
       "      <td>NaN</td>\n",
       "      <td>NaN</td>\n",
       "    </tr>\n",
       "    <tr>\n",
       "      <th>acc@3</th>\n",
       "      <td>NaN</td>\n",
       "      <td>NaN</td>\n",
       "      <td>NaN</td>\n",
       "    </tr>\n",
       "    <tr>\n",
       "      <th>acc@5</th>\n",
       "      <td>NaN</td>\n",
       "      <td>NaN</td>\n",
       "      <td>NaN</td>\n",
       "    </tr>\n",
       "    <tr>\n",
       "      <th>acc@10</th>\n",
       "      <td>NaN</td>\n",
       "      <td>NaN</td>\n",
       "      <td>NaN</td>\n",
       "    </tr>\n",
       "    <tr>\n",
       "      <th rowspan=\"4\" valign=\"top\">depthKdist</th>\n",
       "      <th>acc@1</th>\n",
       "      <td>NaN</td>\n",
       "      <td>NaN</td>\n",
       "      <td>NaN</td>\n",
       "    </tr>\n",
       "    <tr>\n",
       "      <th>acc@3</th>\n",
       "      <td>NaN</td>\n",
       "      <td>NaN</td>\n",
       "      <td>NaN</td>\n",
       "    </tr>\n",
       "    <tr>\n",
       "      <th>acc@5</th>\n",
       "      <td>NaN</td>\n",
       "      <td>NaN</td>\n",
       "      <td>NaN</td>\n",
       "    </tr>\n",
       "    <tr>\n",
       "      <th>acc@10</th>\n",
       "      <td>NaN</td>\n",
       "      <td>NaN</td>\n",
       "      <td>NaN</td>\n",
       "    </tr>\n",
       "    <tr>\n",
       "      <th rowspan=\"4\" valign=\"top\">depthK2dist</th>\n",
       "      <th>acc@1</th>\n",
       "      <td>NaN</td>\n",
       "      <td>NaN</td>\n",
       "      <td>NaN</td>\n",
       "    </tr>\n",
       "    <tr>\n",
       "      <th>acc@3</th>\n",
       "      <td>NaN</td>\n",
       "      <td>NaN</td>\n",
       "      <td>NaN</td>\n",
       "    </tr>\n",
       "    <tr>\n",
       "      <th>acc@5</th>\n",
       "      <td>NaN</td>\n",
       "      <td>NaN</td>\n",
       "      <td>NaN</td>\n",
       "    </tr>\n",
       "    <tr>\n",
       "      <th>acc@10</th>\n",
       "      <td>NaN</td>\n",
       "      <td>NaN</td>\n",
       "      <td>NaN</td>\n",
       "    </tr>\n",
       "  </tbody>\n",
       "</table>\n",
       "</div>"
      ]
     },
     "metadata": {},
     "execution_count": 44
    }
   ],
   "metadata": {}
  },
  {
   "cell_type": "code",
   "execution_count": null,
   "source": [
    "mean1 = df[metric_columns].mean()\n",
    "std1 = df[metric_columns].std()\n",
    "[\"%5.4f ± %5.4f\" % (m*100, s*100) for (m, s) in zip(mean1, std1)]"
   ],
   "outputs": [],
   "metadata": {}
  },
  {
   "cell_type": "code",
   "execution_count": 50,
   "source": [
    "out_df.loc[('uniform5dist',),'uniform5'] = [\"%5.4f ± %5.4f\" % (m*100, s*100) for (m, s) in zip(mean1, std1)]"
   ],
   "outputs": [
    {
     "output_type": "stream",
     "name": "stderr",
     "text": [
      "/opt/anaconda3/envs/learn2branch/lib/python3.8/site-packages/IPython/core/async_helpers.py:68: PerformanceWarning: indexing past lexsort depth may impact performance.\n",
      "  coro.send(None)\n"
     ]
    }
   ],
   "metadata": {}
  },
  {
   "cell_type": "code",
   "execution_count": 52,
   "source": [
    "for sampling_strategy in sampling_Strategies:\n",
    "    for test_distribution in sampling_Strategies:\n",
    "        df_str = f'{resultDir}/{problem}_{sampling_strategy}_on_{test_distribution}_ss{ss1}_*'\n",
    "        df_str = glob.glob(df_str)[-1]\n",
    "        df = pd.read_csv(df_str)\n",
    "        mean1 = df[metric_columns].mean()\n",
    "        std1 = df[metric_columns].std()\n",
    "        out_df.loc[(f'{test_distribution}dist',),sampling_strategy] = [\"%5.4f ± %5.4f\" % (m*100, s*100) for (m, s) in zip(mean1, std1)]"
   ],
   "outputs": [
    {
     "output_type": "stream",
     "name": "stderr",
     "text": [
      "/opt/anaconda3/envs/learn2branch/lib/python3.8/site-packages/IPython/core/async_helpers.py:68: PerformanceWarning: indexing past lexsort depth may impact performance.\n",
      "  coro.send(None)\n"
     ]
    }
   ],
   "metadata": {}
  },
  {
   "cell_type": "code",
   "execution_count": 53,
   "source": [
    "out_df"
   ],
   "outputs": [
    {
     "output_type": "execute_result",
     "data": {
      "text/plain": [
       "                                            uniform5            depthK  \\\n",
       "Sample distribution Accuracy level                                       \n",
       "uniform5dist        acc@1           54.3500 ± 1.0144  49.9750 ± 2.3535   \n",
       "                    acc@3           76.4000 ± 0.9542  73.0500 ± 0.7416   \n",
       "                    acc@5           86.1750 ± 0.8156  84.5750 ± 1.5155   \n",
       "                    acc@10          94.7000 ± 0.7504  94.8000 ± 0.8796   \n",
       "depthKdist          acc@1           38.6000 ± 1.1765  38.0250 ± 1.8244   \n",
       "                    acc@3           66.4000 ± 1.8750  64.1000 ± 2.1250   \n",
       "                    acc@5           77.2750 ± 1.5851  78.0000 ± 1.7547   \n",
       "                    acc@10          91.1000 ± 1.1877  91.1250 ± 1.1907   \n",
       "depthK2dist         acc@1           60.4000 ± 1.5441  56.3000 ± 2.0222   \n",
       "                    acc@3           82.2750 ± 1.3226  83.1000 ± 1.3239   \n",
       "                    acc@5           90.6250 ± 0.9014  90.4750 ± 1.0321   \n",
       "                    acc@10          97.1750 ± 0.4064  96.4750 ± 0.5250   \n",
       "\n",
       "                                             depthK2  \n",
       "Sample distribution Accuracy level                    \n",
       "uniform5dist        acc@1           50.2000 ± 1.7351  \n",
       "                    acc@3           74.4500 ± 1.7389  \n",
       "                    acc@5           84.4000 ± 1.6591  \n",
       "                    acc@10          94.2250 ± 0.8347  \n",
       "depthKdist          acc@1           34.5500 ± 1.9050  \n",
       "                    acc@3           62.4250 ± 2.0665  \n",
       "                    acc@5           74.3000 ± 1.4726  \n",
       "                    acc@10          87.9250 ± 1.3981  \n",
       "depthK2dist         acc@1           58.7750 ± 1.6896  \n",
       "                    acc@3           80.7250 ± 1.3325  \n",
       "                    acc@5           89.8500 ± 1.1251  \n",
       "                    acc@10          97.5000 ± 0.5620  "
      ],
      "text/html": [
       "<div>\n",
       "<style scoped>\n",
       "    .dataframe tbody tr th:only-of-type {\n",
       "        vertical-align: middle;\n",
       "    }\n",
       "\n",
       "    .dataframe tbody tr th {\n",
       "        vertical-align: top;\n",
       "    }\n",
       "\n",
       "    .dataframe thead th {\n",
       "        text-align: right;\n",
       "    }\n",
       "</style>\n",
       "<table border=\"1\" class=\"dataframe\">\n",
       "  <thead>\n",
       "    <tr style=\"text-align: right;\">\n",
       "      <th></th>\n",
       "      <th></th>\n",
       "      <th>uniform5</th>\n",
       "      <th>depthK</th>\n",
       "      <th>depthK2</th>\n",
       "    </tr>\n",
       "    <tr>\n",
       "      <th>Sample distribution</th>\n",
       "      <th>Accuracy level</th>\n",
       "      <th></th>\n",
       "      <th></th>\n",
       "      <th></th>\n",
       "    </tr>\n",
       "  </thead>\n",
       "  <tbody>\n",
       "    <tr>\n",
       "      <th rowspan=\"4\" valign=\"top\">uniform5dist</th>\n",
       "      <th>acc@1</th>\n",
       "      <td>54.3500 ± 1.0144</td>\n",
       "      <td>49.9750 ± 2.3535</td>\n",
       "      <td>50.2000 ± 1.7351</td>\n",
       "    </tr>\n",
       "    <tr>\n",
       "      <th>acc@3</th>\n",
       "      <td>76.4000 ± 0.9542</td>\n",
       "      <td>73.0500 ± 0.7416</td>\n",
       "      <td>74.4500 ± 1.7389</td>\n",
       "    </tr>\n",
       "    <tr>\n",
       "      <th>acc@5</th>\n",
       "      <td>86.1750 ± 0.8156</td>\n",
       "      <td>84.5750 ± 1.5155</td>\n",
       "      <td>84.4000 ± 1.6591</td>\n",
       "    </tr>\n",
       "    <tr>\n",
       "      <th>acc@10</th>\n",
       "      <td>94.7000 ± 0.7504</td>\n",
       "      <td>94.8000 ± 0.8796</td>\n",
       "      <td>94.2250 ± 0.8347</td>\n",
       "    </tr>\n",
       "    <tr>\n",
       "      <th rowspan=\"4\" valign=\"top\">depthKdist</th>\n",
       "      <th>acc@1</th>\n",
       "      <td>38.6000 ± 1.1765</td>\n",
       "      <td>38.0250 ± 1.8244</td>\n",
       "      <td>34.5500 ± 1.9050</td>\n",
       "    </tr>\n",
       "    <tr>\n",
       "      <th>acc@3</th>\n",
       "      <td>66.4000 ± 1.8750</td>\n",
       "      <td>64.1000 ± 2.1250</td>\n",
       "      <td>62.4250 ± 2.0665</td>\n",
       "    </tr>\n",
       "    <tr>\n",
       "      <th>acc@5</th>\n",
       "      <td>77.2750 ± 1.5851</td>\n",
       "      <td>78.0000 ± 1.7547</td>\n",
       "      <td>74.3000 ± 1.4726</td>\n",
       "    </tr>\n",
       "    <tr>\n",
       "      <th>acc@10</th>\n",
       "      <td>91.1000 ± 1.1877</td>\n",
       "      <td>91.1250 ± 1.1907</td>\n",
       "      <td>87.9250 ± 1.3981</td>\n",
       "    </tr>\n",
       "    <tr>\n",
       "      <th rowspan=\"4\" valign=\"top\">depthK2dist</th>\n",
       "      <th>acc@1</th>\n",
       "      <td>60.4000 ± 1.5441</td>\n",
       "      <td>56.3000 ± 2.0222</td>\n",
       "      <td>58.7750 ± 1.6896</td>\n",
       "    </tr>\n",
       "    <tr>\n",
       "      <th>acc@3</th>\n",
       "      <td>82.2750 ± 1.3226</td>\n",
       "      <td>83.1000 ± 1.3239</td>\n",
       "      <td>80.7250 ± 1.3325</td>\n",
       "    </tr>\n",
       "    <tr>\n",
       "      <th>acc@5</th>\n",
       "      <td>90.6250 ± 0.9014</td>\n",
       "      <td>90.4750 ± 1.0321</td>\n",
       "      <td>89.8500 ± 1.1251</td>\n",
       "    </tr>\n",
       "    <tr>\n",
       "      <th>acc@10</th>\n",
       "      <td>97.1750 ± 0.4064</td>\n",
       "      <td>96.4750 ± 0.5250</td>\n",
       "      <td>97.5000 ± 0.5620</td>\n",
       "    </tr>\n",
       "  </tbody>\n",
       "</table>\n",
       "</div>"
      ]
     },
     "metadata": {},
     "execution_count": 53
    }
   ],
   "metadata": {}
  },
  {
   "cell_type": "code",
   "execution_count": 54,
   "source": [
    "out_df.to_excel('cauctions_testAcc.xlsx')"
   ],
   "outputs": [],
   "metadata": {}
  },
  {
   "cell_type": "code",
   "execution_count": null,
   "source": [],
   "outputs": [],
   "metadata": {}
  }
 ],
 "metadata": {
  "interpreter": {
   "hash": "a2197b5b8e9b471505d2ded00a61d2651dac29e8904a63bed27e0708da5f1381"
  },
  "kernelspec": {
   "name": "python3",
   "display_name": "Python 3.8.5 64-bit ('learn2branch': conda)"
  },
  "language_info": {
   "name": "python",
   "version": "3.8.5",
   "mimetype": "text/x-python",
   "codemirror_mode": {
    "name": "ipython",
    "version": 3
   },
   "pygments_lexer": "ipython3",
   "nbconvert_exporter": "python",
   "file_extension": ".py"
  },
  "orig_nbformat": 2
 },
 "nbformat": 4,
 "nbformat_minor": 2
}