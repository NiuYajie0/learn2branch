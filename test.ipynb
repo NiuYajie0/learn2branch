{
 "cells": [
  {
   "cell_type": "code",
   "execution_count": 5,
   "metadata": {},
   "outputs": [],
   "source": [
    "import pandas as pd"
   ]
  },
  {
   "cell_type": "code",
   "execution_count": 40,
   "metadata": {},
   "outputs": [],
   "source": [
    "import glob\r\n",
    "from scipy.stats import ttest_ind"
   ]
  },
  {
   "cell_type": "code",
   "execution_count": 2,
   "metadata": {},
   "outputs": [],
   "source": [
    "resultDir = 'results'"
   ]
  },
  {
   "cell_type": "code",
   "execution_count": 154,
   "metadata": {},
   "outputs": [],
   "source": [
    "problem = 'setcover' # choices=['setcover', 'cauctions', 'facilities', 'indset']\r\n",
    "targets = ['uniform_5', 'depthK']\r\n",
    "metric_columns = ['acc@1','acc@3','acc@5','acc@10']\r\n"
   ]
  },
  {
   "cell_type": "code",
   "execution_count": 155,
   "metadata": {},
   "outputs": [],
   "source": [
    "samplingStragety1 = targets[0]\r\n",
    "samplingStragety2 = targets[1]"
   ]
  },
  {
   "cell_type": "code",
   "execution_count": 156,
   "metadata": {},
   "outputs": [],
   "source": [
    "# \r\n",
    "targetfiles_strategy1 = glob.glob(f'{resultDir}/{problem}_{samplingStragety1}_*')\r\n",
    "targetfile1 = targetfiles_strategy1[-1]\r\n",
    "target_df1 = pd.read_csv(targetfile1)\r\n",
    "mean1 = target_df1[metric_columns].mean()\r\n",
    "std1 = target_df1[columns].std()\r\n",
    "\r\n",
    "targetfiles_strategy2 = glob.glob(f'{resultDir}/{problem}_{samplingStragety2}_*')\r\n",
    "targetfile2 = targetfiles_strategy2[-1]\r\n",
    "target_df2 = pd.read_csv(targetfile2)\r\n",
    "mean2 = target_df2[metric_columns].mean()\r\n",
    "std2 = target_df2[columns].std()\r\n",
    "\r\n",
    "t_statistics, p_values = ttest_ind(target_df1[columns], target_df2[columns], equal_var=False)"
   ]
  },
  {
   "cell_type": "code",
   "execution_count": 157,
   "metadata": {},
   "outputs": [
    {
     "data": {
      "text/html": [
       "<div>\n",
       "<style scoped>\n",
       "    .dataframe tbody tr th:only-of-type {\n",
       "        vertical-align: middle;\n",
       "    }\n",
       "\n",
       "    .dataframe tbody tr th {\n",
       "        vertical-align: top;\n",
       "    }\n",
       "\n",
       "    .dataframe thead th {\n",
       "        text-align: right;\n",
       "    }\n",
       "</style>\n",
       "<table border=\"1\" class=\"dataframe\">\n",
       "  <thead>\n",
       "    <tr style=\"text-align: right;\">\n",
       "      <th></th>\n",
       "      <th>Problem</th>\n",
       "      <th>Accuracy level</th>\n",
       "      <th>uniform_5</th>\n",
       "      <th>depthK</th>\n",
       "      <th>T-Test t-statistic</th>\n",
       "      <th>T-Test p-value</th>\n",
       "    </tr>\n",
       "  </thead>\n",
       "  <tbody>\n",
       "    <tr>\n",
       "      <th>0</th>\n",
       "      <td>setcover</td>\n",
       "      <td>acc@1</td>\n",
       "      <td>53.4750 ± 2.4251</td>\n",
       "      <td>53.3000 ± 1.8876</td>\n",
       "      <td>0.2547</td>\n",
       "      <td>0.8004</td>\n",
       "    </tr>\n",
       "    <tr>\n",
       "      <th>1</th>\n",
       "      <td>setcover</td>\n",
       "      <td>acc@3</td>\n",
       "      <td>77.2000 ± 2.1607</td>\n",
       "      <td>75.1500 ± 3.1418</td>\n",
       "      <td>2.4043</td>\n",
       "      <td>0.0219</td>\n",
       "    </tr>\n",
       "    <tr>\n",
       "      <th>2</th>\n",
       "      <td>setcover</td>\n",
       "      <td>acc@5</td>\n",
       "      <td>85.5250 ± 1.2511</td>\n",
       "      <td>83.5250 ± 2.6431</td>\n",
       "      <td>3.0586</td>\n",
       "      <td>0.0050</td>\n",
       "    </tr>\n",
       "    <tr>\n",
       "      <th>3</th>\n",
       "      <td>setcover</td>\n",
       "      <td>acc@10</td>\n",
       "      <td>94.2750 ± 0.7340</td>\n",
       "      <td>94.6750 ± 1.5667</td>\n",
       "      <td>-1.0339</td>\n",
       "      <td>0.3104</td>\n",
       "    </tr>\n",
       "  </tbody>\n",
       "</table>\n",
       "</div>"
      ],
      "text/plain": [
       "    Problem Accuracy level         uniform_5            depthK  \\\n",
       "0  setcover          acc@1  53.4750 ± 2.4251  53.3000 ± 1.8876   \n",
       "1  setcover          acc@3  77.2000 ± 2.1607  75.1500 ± 3.1418   \n",
       "2  setcover          acc@5  85.5250 ± 1.2511  83.5250 ± 2.6431   \n",
       "3  setcover         acc@10  94.2750 ± 0.7340  94.6750 ± 1.5667   \n",
       "\n",
       "  T-Test t-statistic T-Test p-value  \n",
       "0             0.2547         0.8004  \n",
       "1             2.4043         0.0219  \n",
       "2             3.0586         0.0050  \n",
       "3            -1.0339         0.3104  "
      ]
     },
     "execution_count": 157,
     "metadata": {},
     "output_type": "execute_result"
    }
   ],
   "source": [
    "df = pd.DataFrame()\r\n",
    "df['Problem'] = [problem]*4\r\n",
    "df['Accuracy level'] = ['acc@1', 'acc@3', 'acc@5', 'acc@10']\r\n",
    "df[samplingStragety1] = [\"%5.4f ± %5.4f\" % (m*100, s*100) for (m, s) in zip(mean1, std1)]\r\n",
    "df[samplingStragety2] = [\"%5.4f ± %5.4f\" % (m*100, s*100) for (m, s) in zip(mean2, std2)]\r\n",
    "df['T-Test t-statistic'] = [\"%5.4f\" % p for p in t_statistics]\r\n",
    "df['T-Test p-value'] = [\"%5.4f\" % p for p in p_values]\r\n",
    "df"
   ]
  },
  {
   "cell_type": "code",
   "execution_count": 158,
   "metadata": {},
   "outputs": [],
   "source": [
    "df.to_csv(f'{resultDir}/{problem}_TTEST.csv')"
   ]
  },
  {
   "cell_type": "code",
   "execution_count": null,
   "metadata": {},
   "outputs": [],
   "source": []
  }
 ],
 "metadata": {
  "interpreter": {
   "hash": "ff360f1bf102cf8c91f5a77ece6f6af605b57cb70f237066b1f558df4d17e0ac"
  },
  "kernelspec": {
   "display_name": "Python 3.8.5 64-bit ('learn2branch': conda)",
   "name": "python3"
  },
  "language_info": {
   "codemirror_mode": {
    "name": "ipython",
    "version": 3
   },
   "file_extension": ".py",
   "mimetype": "text/x-python",
   "name": "python",
   "nbconvert_exporter": "python",
   "pygments_lexer": "ipython3",
   "version": "3.8.5"
  },
  "orig_nbformat": 2
 },
 "nbformat": 4,
 "nbformat_minor": 2
}