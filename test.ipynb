{
 "cells": [
  {
   "cell_type": "code",
   "execution_count": 5,
   "metadata": {},
   "outputs": [],
   "source": [
    "import pandas as pd"
   ]
  },
  {
   "cell_type": "code",
   "execution_count": 40,
   "metadata": {},
   "outputs": [],
   "source": [
    "import glob\r\n",
    "from scipy.stats import ttest_ind"
   ]
  },
  {
   "cell_type": "code",
   "execution_count": 2,
   "metadata": {},
   "outputs": [],
   "source": [
    "resultDir = 'results'"
   ]
  },
  {
   "cell_type": "code",
   "execution_count": 177,
   "metadata": {},
   "outputs": [],
   "source": [
    "problem = 'indset' # choices=['setcover', 'cauctions', 'facilities', 'indset']\r\n",
    "targets = ['uniform_5', 'depthK']\r\n",
    "metric_columns = ['acc@1','acc@3','acc@5','acc@10']\r\n"
   ]
  },
  {
   "cell_type": "code",
   "execution_count": 178,
   "metadata": {},
   "outputs": [],
   "source": [
    "samplingStragety1 = targets[0]\r\n",
    "samplingStragety2 = targets[1]"
   ]
  },
  {
   "cell_type": "code",
   "execution_count": 179,
   "metadata": {},
   "outputs": [],
   "source": [
    "# \r\n",
    "targetfiles_strategy1 = glob.glob(f'{resultDir}/{problem}_{samplingStragety1}_*')\r\n",
    "targetfile1 = targetfiles_strategy1[-1]\r\n",
    "target_df1 = pd.read_csv(targetfile1)\r\n",
    "mean1 = target_df1[metric_columns].mean()\r\n",
    "std1 = target_df1[columns].std()\r\n",
    "\r\n",
    "targetfiles_strategy2 = glob.glob(f'{resultDir}/{problem}_{samplingStragety2}_*')\r\n",
    "targetfile2 = targetfiles_strategy2[-1]\r\n",
    "target_df2 = pd.read_csv(targetfile2)\r\n",
    "mean2 = target_df2[metric_columns].mean()\r\n",
    "std2 = target_df2[columns].std()\r\n",
    "\r\n",
    "t_statistics, p_values = ttest_ind(target_df1[columns], target_df2[columns], equal_var=False)"
   ]
  },
  {
   "cell_type": "code",
   "execution_count": 180,
   "metadata": {},
   "outputs": [
    {
     "data": {
      "text/html": [
       "<div>\n",
       "<style scoped>\n",
       "    .dataframe tbody tr th:only-of-type {\n",
       "        vertical-align: middle;\n",
       "    }\n",
       "\n",
       "    .dataframe tbody tr th {\n",
       "        vertical-align: top;\n",
       "    }\n",
       "\n",
       "    .dataframe thead th {\n",
       "        text-align: right;\n",
       "    }\n",
       "</style>\n",
       "<table border=\"1\" class=\"dataframe\">\n",
       "  <thead>\n",
       "    <tr style=\"text-align: right;\">\n",
       "      <th></th>\n",
       "      <th>Problem</th>\n",
       "      <th>Accuracy level</th>\n",
       "      <th>uniform_5</th>\n",
       "      <th>depthK</th>\n",
       "      <th>T-Test t-statistic</th>\n",
       "      <th>T-Test p-value</th>\n",
       "    </tr>\n",
       "  </thead>\n",
       "  <tbody>\n",
       "    <tr>\n",
       "      <th>0</th>\n",
       "      <td>indset</td>\n",
       "      <td>acc@1</td>\n",
       "      <td>20.7500 ± 20.8437</td>\n",
       "      <td>3.1000 ± 3.5182</td>\n",
       "      <td>2.6404</td>\n",
       "      <td>0.0257</td>\n",
       "    </tr>\n",
       "    <tr>\n",
       "      <th>1</th>\n",
       "      <td>indset</td>\n",
       "      <td>acc@3</td>\n",
       "      <td>32.5500 ± 26.8726</td>\n",
       "      <td>10.4000 ± 9.6431</td>\n",
       "      <td>2.4534</td>\n",
       "      <td>0.0316</td>\n",
       "    </tr>\n",
       "    <tr>\n",
       "      <th>2</th>\n",
       "      <td>indset</td>\n",
       "      <td>acc@5</td>\n",
       "      <td>37.7000 ± 29.0786</td>\n",
       "      <td>14.0500 ± 11.4126</td>\n",
       "      <td>2.3941</td>\n",
       "      <td>0.0343</td>\n",
       "    </tr>\n",
       "    <tr>\n",
       "      <th>3</th>\n",
       "      <td>indset</td>\n",
       "      <td>acc@10</td>\n",
       "      <td>46.8000 ± 27.9655</td>\n",
       "      <td>23.1500 ± 12.8993</td>\n",
       "      <td>2.4284</td>\n",
       "      <td>0.0309</td>\n",
       "    </tr>\n",
       "  </tbody>\n",
       "</table>\n",
       "</div>"
      ],
      "text/plain": [
       "  Problem Accuracy level          uniform_5             depthK  \\\n",
       "0  indset          acc@1  20.7500 ± 20.8437    3.1000 ± 3.5182   \n",
       "1  indset          acc@3  32.5500 ± 26.8726   10.4000 ± 9.6431   \n",
       "2  indset          acc@5  37.7000 ± 29.0786  14.0500 ± 11.4126   \n",
       "3  indset         acc@10  46.8000 ± 27.9655  23.1500 ± 12.8993   \n",
       "\n",
       "  T-Test t-statistic T-Test p-value  \n",
       "0             2.6404         0.0257  \n",
       "1             2.4534         0.0316  \n",
       "2             2.3941         0.0343  \n",
       "3             2.4284         0.0309  "
      ]
     },
     "execution_count": 180,
     "metadata": {},
     "output_type": "execute_result"
    }
   ],
   "source": [
    "df = pd.DataFrame()\r\n",
    "df['Problem'] = [problem]*4\r\n",
    "df['Accuracy level'] = ['acc@1', 'acc@3', 'acc@5', 'acc@10']\r\n",
    "df[samplingStragety1] = [\"%5.4f ± %5.4f\" % (m*100, s*100) for (m, s) in zip(mean1, std1)]\r\n",
    "df[samplingStragety2] = [\"%5.4f ± %5.4f\" % (m*100, s*100) for (m, s) in zip(mean2, std2)]\r\n",
    "df['T-Test t-statistic'] = [\"%5.4f\" % p for p in t_statistics]\r\n",
    "df['T-Test p-value'] = [\"%5.4f\" % p for p in p_values]\r\n",
    "df"
   ]
  },
  {
   "cell_type": "code",
   "execution_count": 181,
   "metadata": {},
   "outputs": [],
   "source": [
    "df.to_csv(f'{resultDir}/{problem}_TTEST.csv')"
   ]
  },
  {
   "cell_type": "code",
   "execution_count": 170,
   "metadata": {},
   "outputs": [],
   "source": [
    "args={}"
   ]
  },
  {
   "cell_type": "code",
   "execution_count": 160,
   "metadata": {},
   "outputs": [],
   "source": [
    "args['a'] = 1"
   ]
  },
  {
   "cell_type": "code",
   "execution_count": 161,
   "metadata": {},
   "outputs": [],
   "source": [
    "problem = \"indset\"\r\n",
    "samplingStrategy = \"uniform_5\" # choices: uniform_5, depthK"
   ]
  },
  {
   "cell_type": "code",
   "execution_count": 162,
   "metadata": {},
   "outputs": [],
   "source": [
    "S03_args = {}\r\n",
    "S03_args['problem'] = problem\r\n",
    "S03_args['sampling'] = samplingStrategy\r\n",
    "S03_args['seeds'] = \"range(0,10)\" # python expression as string, to be used with eval(...)\r\n",
    "# S03_train_gcnn.exp_main(S03_args)"
   ]
  },
  {
   "cell_type": "code",
   "execution_count": 172,
   "metadata": {},
   "outputs": [],
   "source": [
    "SolStatsSummary_file = 'SolStats.csv'"
   ]
  },
  {
   "cell_type": "code",
   "execution_count": 182,
   "metadata": {},
   "outputs": [],
   "source": [
    "df = pd.DataFrame()"
   ]
  },
  {
   "cell_type": "code",
   "execution_count": 183,
   "metadata": {},
   "outputs": [],
   "source": [
    "df['a1'] = []"
   ]
  },
  {
   "cell_type": "code",
   "execution_count": 184,
   "metadata": {},
   "outputs": [
    {
     "data": {
      "text/html": [
       "<div>\n",
       "<style scoped>\n",
       "    .dataframe tbody tr th:only-of-type {\n",
       "        vertical-align: middle;\n",
       "    }\n",
       "\n",
       "    .dataframe tbody tr th {\n",
       "        vertical-align: top;\n",
       "    }\n",
       "\n",
       "    .dataframe thead th {\n",
       "        text-align: right;\n",
       "    }\n",
       "</style>\n",
       "<table border=\"1\" class=\"dataframe\">\n",
       "  <thead>\n",
       "    <tr style=\"text-align: right;\">\n",
       "      <th></th>\n",
       "      <th>a1</th>\n",
       "    </tr>\n",
       "  </thead>\n",
       "  <tbody>\n",
       "  </tbody>\n",
       "</table>\n",
       "</div>"
      ],
      "text/plain": [
       "Empty DataFrame\n",
       "Columns: [a1]\n",
       "Index: []"
      ]
     },
     "execution_count": 184,
     "metadata": {},
     "output_type": "execute_result"
    }
   ],
   "source": [
    "df"
   ]
  },
  {
   "cell_type": "code",
   "execution_count": null,
   "metadata": {},
   "outputs": [],
   "source": []
  }
 ],
 "metadata": {
  "interpreter": {
   "hash": "ff360f1bf102cf8c91f5a77ece6f6af605b57cb70f237066b1f558df4d17e0ac"
  },
  "kernelspec": {
   "display_name": "Python 3.8.5 64-bit ('learn2branch': conda)",
   "name": "python3"
  },
  "language_info": {
   "codemirror_mode": {
    "name": "ipython",
    "version": 3
   },
   "file_extension": ".py",
   "mimetype": "text/x-python",
   "name": "python",
   "nbconvert_exporter": "python",
   "pygments_lexer": "ipython3",
   "version": "3.8.5"
  },
  "orig_nbformat": 2
 },
 "nbformat": 4,
 "nbformat_minor": 2
}